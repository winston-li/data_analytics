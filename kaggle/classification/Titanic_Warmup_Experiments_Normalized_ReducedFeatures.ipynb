{
 "cells": [
  {
   "cell_type": "markdown",
   "metadata": {},
   "source": [
    "# Import modules, libraries"
   ]
  },
  {
   "cell_type": "code",
   "execution_count": 1,
   "metadata": {
    "collapsed": true
   },
   "outputs": [],
   "source": [
    "import pandas as pd\n",
    "from pandas import Series, DataFrame\n",
    "\n",
    "import numpy as np\n",
    "import matplotlib.pyplot as plt\n",
    "import seaborn as sns\n",
    "import itertools\n",
    "sns.set_style('whitegrid')\n",
    "%matplotlib inline\n",
    "\n",
    "import warnings\n",
    "warnings.filterwarnings('ignore')\n",
    "\n",
    "from sklearn.ensemble import RandomForestClassifier, AdaBoostClassifier, GradientBoostingClassifier, ExtraTreesClassifier\n",
    "from sklearn.svm import SVC\n",
    "\n",
    "from sklearn.model_selection import cross_val_score, StratifiedKFold, GridSearchCV\n",
    "from xgboost.sklearn import XGBClassifier \n",
    "import xgboost\n",
    "\n",
    "from sklearn.metrics import confusion_matrix\n",
    "\n",
    "KFOLD = 5\n",
    "RANDOM_SEED = 0"
   ]
  },
  {
   "cell_type": "markdown",
   "metadata": {},
   "source": [
    "# Load datasets"
   ]
  },
  {
   "cell_type": "code",
   "execution_count": 2,
   "metadata": {
    "collapsed": true
   },
   "outputs": [],
   "source": [
    "train_df = pd.read_csv(\"../input/train.csv\")\n",
    "test_df = pd.read_csv(\"../input/test.csv\")\n",
    "\n",
    "# use total_df for data cleaning & feature engineering later on\n",
    "total_df = pd.concat([train_df, test_df], ignore_index=True)"
   ]
  },
  {
   "cell_type": "markdown",
   "metadata": {},
   "source": [
    "# Preview datasets"
   ]
  },
  {
   "cell_type": "code",
   "execution_count": 3,
   "metadata": {},
   "outputs": [
    {
     "name": "stdout",
     "output_type": "stream",
     "text": [
      "Training dataset columns & shapes:\n",
      "['PassengerId' 'Survived' 'Pclass' 'Name' 'Sex' 'Age' 'SibSp' 'Parch'\n",
      " 'Ticket' 'Fare' 'Cabin' 'Embarked'] (891, 12)\n",
      "--------------------------------------------------------------------------------\n",
      "Test dataset columns & shapes:\n",
      "['PassengerId' 'Pclass' 'Name' 'Sex' 'Age' 'SibSp' 'Parch' 'Ticket' 'Fare'\n",
      " 'Cabin' 'Embarked'] (418, 11)\n",
      "--------------------------------------------------------------------------------\n",
      "Peek train dataset\n"
     ]
    },
    {
     "data": {
      "text/html": [
       "<div>\n",
       "<style>\n",
       "    .dataframe thead tr:only-child th {\n",
       "        text-align: right;\n",
       "    }\n",
       "\n",
       "    .dataframe thead th {\n",
       "        text-align: left;\n",
       "    }\n",
       "\n",
       "    .dataframe tbody tr th {\n",
       "        vertical-align: top;\n",
       "    }\n",
       "</style>\n",
       "<table border=\"1\" class=\"dataframe\">\n",
       "  <thead>\n",
       "    <tr style=\"text-align: right;\">\n",
       "      <th></th>\n",
       "      <th>PassengerId</th>\n",
       "      <th>Survived</th>\n",
       "      <th>Pclass</th>\n",
       "      <th>Name</th>\n",
       "      <th>Sex</th>\n",
       "      <th>Age</th>\n",
       "      <th>SibSp</th>\n",
       "      <th>Parch</th>\n",
       "      <th>Ticket</th>\n",
       "      <th>Fare</th>\n",
       "      <th>Cabin</th>\n",
       "      <th>Embarked</th>\n",
       "    </tr>\n",
       "  </thead>\n",
       "  <tbody>\n",
       "    <tr>\n",
       "      <th>0</th>\n",
       "      <td>1</td>\n",
       "      <td>0</td>\n",
       "      <td>3</td>\n",
       "      <td>Braund, Mr. Owen Harris</td>\n",
       "      <td>male</td>\n",
       "      <td>22.0</td>\n",
       "      <td>1</td>\n",
       "      <td>0</td>\n",
       "      <td>A/5 21171</td>\n",
       "      <td>7.2500</td>\n",
       "      <td>NaN</td>\n",
       "      <td>S</td>\n",
       "    </tr>\n",
       "    <tr>\n",
       "      <th>1</th>\n",
       "      <td>2</td>\n",
       "      <td>1</td>\n",
       "      <td>1</td>\n",
       "      <td>Cumings, Mrs. John Bradley (Florence Briggs Th...</td>\n",
       "      <td>female</td>\n",
       "      <td>38.0</td>\n",
       "      <td>1</td>\n",
       "      <td>0</td>\n",
       "      <td>PC 17599</td>\n",
       "      <td>71.2833</td>\n",
       "      <td>C85</td>\n",
       "      <td>C</td>\n",
       "    </tr>\n",
       "    <tr>\n",
       "      <th>2</th>\n",
       "      <td>3</td>\n",
       "      <td>1</td>\n",
       "      <td>3</td>\n",
       "      <td>Heikkinen, Miss. Laina</td>\n",
       "      <td>female</td>\n",
       "      <td>26.0</td>\n",
       "      <td>0</td>\n",
       "      <td>0</td>\n",
       "      <td>STON/O2. 3101282</td>\n",
       "      <td>7.9250</td>\n",
       "      <td>NaN</td>\n",
       "      <td>S</td>\n",
       "    </tr>\n",
       "    <tr>\n",
       "      <th>3</th>\n",
       "      <td>4</td>\n",
       "      <td>1</td>\n",
       "      <td>1</td>\n",
       "      <td>Futrelle, Mrs. Jacques Heath (Lily May Peel)</td>\n",
       "      <td>female</td>\n",
       "      <td>35.0</td>\n",
       "      <td>1</td>\n",
       "      <td>0</td>\n",
       "      <td>113803</td>\n",
       "      <td>53.1000</td>\n",
       "      <td>C123</td>\n",
       "      <td>S</td>\n",
       "    </tr>\n",
       "    <tr>\n",
       "      <th>4</th>\n",
       "      <td>5</td>\n",
       "      <td>0</td>\n",
       "      <td>3</td>\n",
       "      <td>Allen, Mr. William Henry</td>\n",
       "      <td>male</td>\n",
       "      <td>35.0</td>\n",
       "      <td>0</td>\n",
       "      <td>0</td>\n",
       "      <td>373450</td>\n",
       "      <td>8.0500</td>\n",
       "      <td>NaN</td>\n",
       "      <td>S</td>\n",
       "    </tr>\n",
       "  </tbody>\n",
       "</table>\n",
       "</div>"
      ],
      "text/plain": [
       "   PassengerId  Survived  Pclass  \\\n",
       "0            1         0       3   \n",
       "1            2         1       1   \n",
       "2            3         1       3   \n",
       "3            4         1       1   \n",
       "4            5         0       3   \n",
       "\n",
       "                                                Name     Sex   Age  SibSp  \\\n",
       "0                            Braund, Mr. Owen Harris    male  22.0      1   \n",
       "1  Cumings, Mrs. John Bradley (Florence Briggs Th...  female  38.0      1   \n",
       "2                             Heikkinen, Miss. Laina  female  26.0      0   \n",
       "3       Futrelle, Mrs. Jacques Heath (Lily May Peel)  female  35.0      1   \n",
       "4                           Allen, Mr. William Henry    male  35.0      0   \n",
       "\n",
       "   Parch            Ticket     Fare Cabin Embarked  \n",
       "0      0         A/5 21171   7.2500   NaN        S  \n",
       "1      0          PC 17599  71.2833   C85        C  \n",
       "2      0  STON/O2. 3101282   7.9250   NaN        S  \n",
       "3      0            113803  53.1000  C123        S  \n",
       "4      0            373450   8.0500   NaN        S  "
      ]
     },
     "execution_count": 3,
     "metadata": {},
     "output_type": "execute_result"
    }
   ],
   "source": [
    "print('Training dataset columns & shapes:')\n",
    "print(train_df.columns.values, train_df.shape)\n",
    "print('-'*80)\n",
    "print('Test dataset columns & shapes:')\n",
    "print(test_df.columns.values, test_df.shape)\n",
    "print('-'*80)\n",
    "print('Peek train dataset')\n",
    "train_df.head()"
   ]
  },
  {
   "cell_type": "markdown",
   "metadata": {},
   "source": [
    "## (1) Check features datatypes"
   ]
  },
  {
   "cell_type": "code",
   "execution_count": 4,
   "metadata": {},
   "outputs": [
    {
     "name": "stdout",
     "output_type": "stream",
     "text": [
      "<class 'pandas.core.frame.DataFrame'>\n",
      "RangeIndex: 1309 entries, 0 to 1308\n",
      "Data columns (total 12 columns):\n",
      "Age            1046 non-null float64\n",
      "Cabin          295 non-null object\n",
      "Embarked       1307 non-null object\n",
      "Fare           1308 non-null float64\n",
      "Name           1309 non-null object\n",
      "Parch          1309 non-null int64\n",
      "PassengerId    1309 non-null int64\n",
      "Pclass         1309 non-null int64\n",
      "Sex            1309 non-null object\n",
      "SibSp          1309 non-null int64\n",
      "Survived       891 non-null float64\n",
      "Ticket         1309 non-null object\n",
      "dtypes: float64(3), int64(4), object(5)\n",
      "memory usage: 122.8+ KB\n"
     ]
    }
   ],
   "source": [
    "total_df.info()"
   ]
  },
  {
   "cell_type": "markdown",
   "metadata": {},
   "source": [
    "### Numeric columns\n",
    "- Survived, Pclass, Age, SibSp, Parch, Fare\n",
    "\n",
    "### Non-numeric columns\n",
    "- Name, Sex, Ticket, Cabin, Embarked"
   ]
  },
  {
   "cell_type": "markdown",
   "metadata": {},
   "source": [
    "## (2) Check missing values"
   ]
  },
  {
   "cell_type": "code",
   "execution_count": 5,
   "metadata": {},
   "outputs": [
    {
     "name": "stdout",
     "output_type": "stream",
     "text": [
      "Training missing values:\n",
      "Age         177\n",
      "Cabin       687\n",
      "Embarked      2\n",
      "dtype: int64\n",
      "--------------------------------------------------------------------------------\n",
      "Test missing values:\n",
      "Age       86\n",
      "Fare       1\n",
      "Cabin    327\n",
      "dtype: int64\n"
     ]
    }
   ],
   "source": [
    "# Peak missing values\n",
    "\n",
    "def get_missing_cols(dataframe):\n",
    "    cols_with_missing_value = dataframe.columns[dataframe.isnull().any()].tolist()\n",
    "    return cols_with_missing_value\n",
    "\n",
    "print('Training missing values:')\n",
    "print(train_df[get_missing_cols(train_df)].isnull().sum())\n",
    "print('-'*80)\n",
    "print('Test missing values:')\n",
    "print(test_df[get_missing_cols(test_df)].isnull().sum())"
   ]
  },
  {
   "cell_type": "markdown",
   "metadata": {},
   "source": [
    "## (3) Checking outliers"
   ]
  },
  {
   "cell_type": "code",
   "execution_count": 6,
   "metadata": {},
   "outputs": [
    {
     "data": {
      "text/html": [
       "<div>\n",
       "<style>\n",
       "    .dataframe thead tr:only-child th {\n",
       "        text-align: right;\n",
       "    }\n",
       "\n",
       "    .dataframe thead th {\n",
       "        text-align: left;\n",
       "    }\n",
       "\n",
       "    .dataframe tbody tr th {\n",
       "        vertical-align: top;\n",
       "    }\n",
       "</style>\n",
       "<table border=\"1\" class=\"dataframe\">\n",
       "  <thead>\n",
       "    <tr style=\"text-align: right;\">\n",
       "      <th></th>\n",
       "      <th>Age</th>\n",
       "      <th>Fare</th>\n",
       "      <th>Parch</th>\n",
       "      <th>PassengerId</th>\n",
       "      <th>Pclass</th>\n",
       "      <th>SibSp</th>\n",
       "      <th>Survived</th>\n",
       "    </tr>\n",
       "  </thead>\n",
       "  <tbody>\n",
       "    <tr>\n",
       "      <th>count</th>\n",
       "      <td>1046.000000</td>\n",
       "      <td>1308.000000</td>\n",
       "      <td>1309.000000</td>\n",
       "      <td>1309.000000</td>\n",
       "      <td>1309.000000</td>\n",
       "      <td>1309.000000</td>\n",
       "      <td>891.000000</td>\n",
       "    </tr>\n",
       "    <tr>\n",
       "      <th>mean</th>\n",
       "      <td>29.881138</td>\n",
       "      <td>33.295479</td>\n",
       "      <td>0.385027</td>\n",
       "      <td>655.000000</td>\n",
       "      <td>2.294882</td>\n",
       "      <td>0.498854</td>\n",
       "      <td>0.383838</td>\n",
       "    </tr>\n",
       "    <tr>\n",
       "      <th>std</th>\n",
       "      <td>14.413493</td>\n",
       "      <td>51.758668</td>\n",
       "      <td>0.865560</td>\n",
       "      <td>378.020061</td>\n",
       "      <td>0.837836</td>\n",
       "      <td>1.041658</td>\n",
       "      <td>0.486592</td>\n",
       "    </tr>\n",
       "    <tr>\n",
       "      <th>min</th>\n",
       "      <td>0.170000</td>\n",
       "      <td>0.000000</td>\n",
       "      <td>0.000000</td>\n",
       "      <td>1.000000</td>\n",
       "      <td>1.000000</td>\n",
       "      <td>0.000000</td>\n",
       "      <td>0.000000</td>\n",
       "    </tr>\n",
       "    <tr>\n",
       "      <th>25%</th>\n",
       "      <td>21.000000</td>\n",
       "      <td>7.895800</td>\n",
       "      <td>0.000000</td>\n",
       "      <td>328.000000</td>\n",
       "      <td>2.000000</td>\n",
       "      <td>0.000000</td>\n",
       "      <td>0.000000</td>\n",
       "    </tr>\n",
       "    <tr>\n",
       "      <th>50%</th>\n",
       "      <td>28.000000</td>\n",
       "      <td>14.454200</td>\n",
       "      <td>0.000000</td>\n",
       "      <td>655.000000</td>\n",
       "      <td>3.000000</td>\n",
       "      <td>0.000000</td>\n",
       "      <td>0.000000</td>\n",
       "    </tr>\n",
       "    <tr>\n",
       "      <th>75%</th>\n",
       "      <td>39.000000</td>\n",
       "      <td>31.275000</td>\n",
       "      <td>0.000000</td>\n",
       "      <td>982.000000</td>\n",
       "      <td>3.000000</td>\n",
       "      <td>1.000000</td>\n",
       "      <td>1.000000</td>\n",
       "    </tr>\n",
       "    <tr>\n",
       "      <th>max</th>\n",
       "      <td>80.000000</td>\n",
       "      <td>512.329200</td>\n",
       "      <td>9.000000</td>\n",
       "      <td>1309.000000</td>\n",
       "      <td>3.000000</td>\n",
       "      <td>8.000000</td>\n",
       "      <td>1.000000</td>\n",
       "    </tr>\n",
       "  </tbody>\n",
       "</table>\n",
       "</div>"
      ],
      "text/plain": [
       "               Age         Fare        Parch  PassengerId       Pclass  \\\n",
       "count  1046.000000  1308.000000  1309.000000  1309.000000  1309.000000   \n",
       "mean     29.881138    33.295479     0.385027   655.000000     2.294882   \n",
       "std      14.413493    51.758668     0.865560   378.020061     0.837836   \n",
       "min       0.170000     0.000000     0.000000     1.000000     1.000000   \n",
       "25%      21.000000     7.895800     0.000000   328.000000     2.000000   \n",
       "50%      28.000000    14.454200     0.000000   655.000000     3.000000   \n",
       "75%      39.000000    31.275000     0.000000   982.000000     3.000000   \n",
       "max      80.000000   512.329200     9.000000  1309.000000     3.000000   \n",
       "\n",
       "             SibSp    Survived  \n",
       "count  1309.000000  891.000000  \n",
       "mean      0.498854    0.383838  \n",
       "std       1.041658    0.486592  \n",
       "min       0.000000    0.000000  \n",
       "25%       0.000000    0.000000  \n",
       "50%       0.000000    0.000000  \n",
       "75%       1.000000    1.000000  \n",
       "max       8.000000    1.000000  "
      ]
     },
     "execution_count": 6,
     "metadata": {},
     "output_type": "execute_result"
    }
   ],
   "source": [
    "### Preview numeric features\n",
    "total_df.describe()"
   ]
  },
  {
   "cell_type": "markdown",
   "metadata": {},
   "source": [
    "### Age, Fare, Parch, SibSp seem to have outliers"
   ]
  },
  {
   "cell_type": "code",
   "execution_count": 7,
   "metadata": {},
   "outputs": [
    {
     "name": "stdout",
     "output_type": "stream",
     "text": [
      "                                               Name   Sex    Ticket Cabin  \\\n",
      "count                                           891   891       891   204   \n",
      "unique                                          891     2       681   147   \n",
      "top     Hart, Mrs. Benjamin (Esther Ada Bloomfield)  male  CA. 2343    G6   \n",
      "freq                                              1   577         7     4   \n",
      "\n",
      "       Embarked  \n",
      "count       889  \n",
      "unique        3  \n",
      "top           S  \n",
      "freq        644  \n",
      "--------------------------------------------------------------------------------\n",
      "                        Name   Sex    Ticket            Cabin Embarked\n",
      "count                    418   418       418               91      418\n",
      "unique                   418     2       363               76        3\n",
      "top     Geiger, Miss. Amalie  male  PC 17608  B57 B59 B63 B66        S\n",
      "freq                       1   266         5                3      270\n"
     ]
    }
   ],
   "source": [
    "### Preview non-numeric features\n",
    "print(train_df.describe(include=['O']))\n",
    "print('-'*80)\n",
    "print(test_df.describe(include=['O']))"
   ]
  },
  {
   "cell_type": "markdown",
   "metadata": {},
   "source": [
    "### Observation\n",
    "- male takes 65% (577/891)\n",
    "- share tickets 23% (1 - 681/891)\n",
    "- embarked 'S' taking 72% (644/889)"
   ]
  },
  {
   "cell_type": "markdown",
   "metadata": {},
   "source": [
    "# Data correlation analysis"
   ]
  },
  {
   "cell_type": "markdown",
   "metadata": {},
   "source": [
    "## (1) Numeric Features "
   ]
  },
  {
   "cell_type": "code",
   "execution_count": 8,
   "metadata": {},
   "outputs": [
    {
     "name": "stderr",
     "output_type": "stream",
     "text": [
      "/opt/conda/lib/python3.6/site-packages/seaborn/matrix.py:143: DeprecationWarning: elementwise == comparison failed; this will raise an error in the future.\n",
      "  if xticklabels == []:\n",
      "/opt/conda/lib/python3.6/site-packages/seaborn/matrix.py:151: DeprecationWarning: elementwise == comparison failed; this will raise an error in the future.\n",
      "  if yticklabels == []:\n"
     ]
    },
    {
     "data": {
      "text/plain": [
       "<matplotlib.axes._subplots.AxesSubplot at 0x7efbbbdcb518>"
      ]
     },
     "execution_count": 8,
     "metadata": {},
     "output_type": "execute_result"
    },
    {
     "data": {
      "image/png": "[encoded data removed]",
      "text/plain": [
       "<matplotlib.figure.Figure at 0x7efbbbdcb550>"
      ]
     },
     "metadata": {},
     "output_type": "display_data"
    }
   ],
   "source": [
    "# Check correlations among numeric variables\n",
    "\n",
    "numeric_cols = ['Survived', 'Pclass', 'Age', 'SibSp', 'Parch', 'Fare']\n",
    "\n",
    "colormap = plt.cm.viridis\n",
    "plt.figure(figsize=(8,8))\n",
    "plt.title('Pearson Correlation of Features', y=1.05, size=15)\n",
    "sns.heatmap(train_df[numeric_cols].astype(float).corr(),linewidths=0.1,vmax=1.0, square=True, cmap=colormap, linecolor='white', annot=True)\n",
    "\n",
    "#sns.pairplot(train_df.drop(\"PassengerId\", axis=1), hue=\"Survived\", size=3)"
   ]
  },
  {
   "cell_type": "markdown",
   "metadata": {},
   "source": [
    "### Observations:\n",
    "#### correlated numeric features:\n",
    "- Survived: Pclass & Fare\n",
    "- Pclass: Fare & Age\n",
    "- Age: SibSp & Parch\n",
    "- SibSp: Parch\n",
    "- Parch: Fare"
   ]
  },
  {
   "cell_type": "code",
   "execution_count": 9,
   "metadata": {},
   "outputs": [
    {
     "name": "stderr",
     "output_type": "stream",
     "text": [
      "/opt/conda/lib/python3.6/site-packages/seaborn/categorical.py:342: DeprecationWarning: pandas.core.common.is_categorical_dtype is deprecated. import from the public API: pandas.api.types.is_categorical_dtype instead\n",
      "  elif is_categorical(y):\n",
      "/opt/conda/lib/python3.6/site-packages/statsmodels/nonparametric/kde.py:475: DeprecationWarning: object of type <class 'numpy.float64'> cannot be safely interpreted as an integer.\n",
      "  grid,delta = np.linspace(a,b,gridsize,retstep=True)\n",
      "/opt/conda/lib/python3.6/site-packages/statsmodels/nonparametric/kde.py:475: DeprecationWarning: object of type <class 'numpy.float64'> cannot be safely interpreted as an integer.\n",
      "  grid,delta = np.linspace(a,b,gridsize,retstep=True)\n"
     ]
    },
    {
     "data": {
      "text/plain": [
       "<seaborn.axisgrid.FacetGrid at 0x7efbb8a70978>"
      ]
     },
     "execution_count": 9,
     "metadata": {},
     "output_type": "execute_result"
    },
    {
     "data": {
      "image/png": "[encoded data removed]",
      "text/plain": [
       "<matplotlib.figure.Figure at 0x7efbb8a1a860>"
      ]
     },
     "metadata": {},
     "output_type": "display_data"
    },
    {
     "data": {
      "image/png": "[encoded data removed]",
      "text/plain": [
       "<matplotlib.figure.Figure at 0x7efbb89c59b0>"
      ]
     },
     "metadata": {},
     "output_type": "display_data"
    }
   ],
   "source": [
    "# Survived vs. Pclass & Fare\n",
    "\n",
    "mean_survival_per_pclass = train_df[[\"Pclass\", \"Survived\"]].groupby(['Pclass'], as_index=False).mean()\n",
    "sns.barplot(x='Pclass', y='Survived', data=mean_survival_per_pclass)\n",
    "\n",
    "facet = sns.FacetGrid(train_df, hue=\"Survived\", aspect=4)\n",
    "facet.map(sns.kdeplot,'Fare', shade= True)\n",
    "facet.set(xlim=(0, train_df['Fare'].max()))\n",
    "facet.add_legend()\n"
   ]
  },
  {
   "cell_type": "markdown",
   "metadata": {},
   "source": [
    "- Pclass & Fare are highly related to Survived\n",
    "- List Pclass & Fare as important candidate features\n",
    "- Revisit: \n",
    "    - Pclass & Fare are highly related, perhaps just keep one (Pclass), which has highest correlation with Survived"
   ]
  },
  {
   "cell_type": "code",
   "execution_count": 10,
   "metadata": {},
   "outputs": [
    {
     "name": "stderr",
     "output_type": "stream",
     "text": [
      "/opt/conda/lib/python3.6/site-packages/statsmodels/nonparametric/kde.py:475: DeprecationWarning: object of type <class 'numpy.float64'> cannot be safely interpreted as an integer.\n",
      "  grid,delta = np.linspace(a,b,gridsize,retstep=True)\n",
      "/opt/conda/lib/python3.6/site-packages/statsmodels/nonparametric/kde.py:475: DeprecationWarning: object of type <class 'numpy.float64'> cannot be safely interpreted as an integer.\n",
      "  grid,delta = np.linspace(a,b,gridsize,retstep=True)\n"
     ]
    },
    {
     "data": {
      "text/plain": [
       "<seaborn.axisgrid.FacetGrid at 0x7efbbbdb3048>"
      ]
     },
     "execution_count": 10,
     "metadata": {},
     "output_type": "execute_result"
    },
    {
     "data": {
      "image/png": "[encoded data removed]",
      "text/plain": [
       "<matplotlib.figure.Figure at 0x7efbb87b8b70>"
      ]
     },
     "metadata": {},
     "output_type": "display_data"
    }
   ],
   "source": [
    "# Survived vs. Age\n",
    "facet = sns.FacetGrid(train_df,hue=\"Survived\", aspect=4)\n",
    "facet.map(sns.kdeplot,'Age', shade= True)\n",
    "facet.set(xlim=(0, train_df['Age'].max()))\n",
    "facet.add_legend()"
   ]
  },
  {
   "cell_type": "markdown",
   "metadata": {},
   "source": [
    "- Age under 10 has higher survived ratio in Pclass 2 & 3. List 'Child'(age < 10) as a candidate feature."
   ]
  },
  {
   "cell_type": "code",
   "execution_count": 11,
   "metadata": {},
   "outputs": [
    {
     "name": "stderr",
     "output_type": "stream",
     "text": [
      "/opt/conda/lib/python3.6/site-packages/seaborn/categorical.py:342: DeprecationWarning: pandas.core.common.is_categorical_dtype is deprecated. import from the public API: pandas.api.types.is_categorical_dtype instead\n",
      "  elif is_categorical(y):\n",
      "/opt/conda/lib/python3.6/site-packages/seaborn/categorical.py:342: DeprecationWarning: pandas.core.common.is_categorical_dtype is deprecated. import from the public API: pandas.api.types.is_categorical_dtype instead\n",
      "  elif is_categorical(y):\n",
      "/opt/conda/lib/python3.6/site-packages/seaborn/categorical.py:342: DeprecationWarning: pandas.core.common.is_categorical_dtype is deprecated. import from the public API: pandas.api.types.is_categorical_dtype instead\n",
      "  elif is_categorical(y):\n"
     ]
    },
    {
     "data": {
      "text/plain": [
       "<matplotlib.axes._subplots.AxesSubplot at 0x7efbb85e5080>"
      ]
     },
     "execution_count": 11,
     "metadata": {},
     "output_type": "execute_result"
    },
    {
     "data": {
      "image/png": "[encoded data removed]",
      "text/plain": [
       "<matplotlib.figure.Figure at 0x7efbb86aa1d0>"
      ]
     },
     "metadata": {},
     "output_type": "display_data"
    }
   ],
   "source": [
    "# Survived vs. SibSp & Parch\n",
    "fig, (axis1, axis2, axis3) = plt.subplots(1, 3, figsize=(10,5))\n",
    "\n",
    "mean_survival_per_sibsp = train_df[[\"SibSp\", \"Survived\"]].groupby(['SibSp'], as_index=False).mean()\n",
    "sns.barplot(x='SibSp', y='Survived', data=mean_survival_per_sibsp, ax=axis1)\n",
    "mean_survival_per_parch = train_df[[\"Parch\", \"Survived\"]].groupby(['Parch'], as_index=False).mean()\n",
    "sns.barplot(x='Parch', y='Survived', data=mean_survival_per_parch, ax=axis2)\n",
    "train_df['FamilySize'] = train_df['SibSp'] + train_df['Parch'] + 1\n",
    "mean_survival_per_parch = train_df[[\"FamilySize\", \"Survived\"]].groupby(['FamilySize'], as_index=False).mean()\n",
    "sns.barplot(x='FamilySize', y='Survived', data=mean_survival_per_parch, ax=axis3)"
   ]
  },
  {
   "cell_type": "markdown",
   "metadata": {},
   "source": [
    "- There are different partitions for SibSp & Parch with regarding to survived ratio.\n",
    "- Perhaps combine them as a single feature (FamilySize), which might serve as a better partitions (say [1], [2,3,4], [>=5])"
   ]
  },
  {
   "cell_type": "code",
   "execution_count": 12,
   "metadata": {},
   "outputs": [
    {
     "name": "stderr",
     "output_type": "stream",
     "text": [
      "/opt/conda/lib/python3.6/site-packages/seaborn/categorical.py:342: DeprecationWarning: pandas.core.common.is_categorical_dtype is deprecated. import from the public API: pandas.api.types.is_categorical_dtype instead\n",
      "  elif is_categorical(y):\n",
      "/opt/conda/lib/python3.6/site-packages/seaborn/categorical.py:342: DeprecationWarning: pandas.core.common.is_categorical_dtype is deprecated. import from the public API: pandas.api.types.is_categorical_dtype instead\n",
      "  elif is_categorical(y):\n",
      "/opt/conda/lib/python3.6/site-packages/seaborn/categorical.py:342: DeprecationWarning: pandas.core.common.is_categorical_dtype is deprecated. import from the public API: pandas.api.types.is_categorical_dtype instead\n",
      "  elif is_categorical(y):\n",
      "/opt/conda/lib/python3.6/site-packages/seaborn/categorical.py:342: DeprecationWarning: pandas.core.common.is_categorical_dtype is deprecated. import from the public API: pandas.api.types.is_categorical_dtype instead\n",
      "  elif is_categorical(y):\n",
      "/opt/conda/lib/python3.6/site-packages/seaborn/categorical.py:342: DeprecationWarning: pandas.core.common.is_categorical_dtype is deprecated. import from the public API: pandas.api.types.is_categorical_dtype instead\n",
      "  elif is_categorical(y):\n",
      "/opt/conda/lib/python3.6/site-packages/seaborn/categorical.py:342: DeprecationWarning: pandas.core.common.is_categorical_dtype is deprecated. import from the public API: pandas.api.types.is_categorical_dtype instead\n",
      "  elif is_categorical(y):\n"
     ]
    },
    {
     "data": {
      "text/plain": [
       "<matplotlib.axes._subplots.AxesSubplot at 0x7efbb7fcfbe0>"
      ]
     },
     "execution_count": 12,
     "metadata": {},
     "output_type": "execute_result"
    },
    {
     "data": {
      "image/png": "[encoded data removed]",
      "text/plain": [
       "<matplotlib.figure.Figure at 0x7efbb8529c18>"
      ]
     },
     "metadata": {},
     "output_type": "display_data"
    },
    {
     "data": {
      "image/png": "[encoded data removed]",
      "text/plain": [
       "<matplotlib.figure.Figure at 0x7efbb8123cf8>"
      ]
     },
     "metadata": {},
     "output_type": "display_data"
    }
   ],
   "source": [
    "# SibSp, Parch, Age\n",
    "fig, (axis1, axis2, axis3, axis4) = plt.subplots(1, 4, figsize=(15,5))\n",
    "\n",
    "mean_age_per_sibsp = train_df[[\"SibSp\", \"Age\"]].groupby(['SibSp'], as_index=False).mean()\n",
    "sns.barplot(x='SibSp', y='Age', data=mean_age_per_sibsp, ax=axis1)\n",
    "mean_age_per_parch = train_df[[\"Parch\", \"Age\"]].groupby(['Parch'], as_index=False).mean()\n",
    "sns.barplot(x='Parch', y='Age', data=mean_age_per_parch, ax=axis2)\n",
    "\n",
    "sns.boxplot(x='SibSp', y='Age', data=train_df, ax=axis3)\n",
    "sns.boxplot(x='Parch', y='Age', data=train_df, ax=axis4)\n",
    "\n",
    "fig, (axis1, axis2) = plt.subplots(1, 2, figsize=(15,5))\n",
    "mean_age_per_parch = train_df[[\"FamilySize\", \"Age\"]].groupby(['FamilySize'], as_index=False).mean()\n",
    "sns.barplot(x='FamilySize', y='Age', data=mean_age_per_parch, ax=axis1)\n",
    "sns.boxplot(x='FamilySize', y='Age', data=train_df, ax=axis2)\n"
   ]
  },
  {
   "cell_type": "markdown",
   "metadata": {},
   "source": [
    "- Age distribution is quite different via SibSp & Parch\n",
    "- Can't find good age distribution with FamilySize\n",
    "- Consider to fill missing Age via distributions of SibSp & Parch, if no better Age correlation with non-numeric features explored later on."
   ]
  },
  {
   "cell_type": "code",
   "execution_count": 13,
   "metadata": {},
   "outputs": [
    {
     "data": {
      "text/html": [
       "<div>\n",
       "<style>\n",
       "    .dataframe thead tr:only-child th {\n",
       "        text-align: right;\n",
       "    }\n",
       "\n",
       "    .dataframe thead th {\n",
       "        text-align: left;\n",
       "    }\n",
       "\n",
       "    .dataframe tbody tr th {\n",
       "        vertical-align: top;\n",
       "    }\n",
       "</style>\n",
       "<table border=\"1\" class=\"dataframe\">\n",
       "  <thead>\n",
       "    <tr style=\"text-align: right;\">\n",
       "      <th></th>\n",
       "      <th></th>\n",
       "      <th>Age</th>\n",
       "    </tr>\n",
       "    <tr>\n",
       "      <th>SibSp</th>\n",
       "      <th>Parch</th>\n",
       "      <th></th>\n",
       "    </tr>\n",
       "  </thead>\n",
       "  <tbody>\n",
       "    <tr>\n",
       "      <th rowspan=\"6\" valign=\"top\">0</th>\n",
       "      <th>0</th>\n",
       "      <td>29.5</td>\n",
       "    </tr>\n",
       "    <tr>\n",
       "      <th>1</th>\n",
       "      <td>27.0</td>\n",
       "    </tr>\n",
       "    <tr>\n",
       "      <th>2</th>\n",
       "      <td>20.5</td>\n",
       "    </tr>\n",
       "    <tr>\n",
       "      <th>3</th>\n",
       "      <td>24.0</td>\n",
       "    </tr>\n",
       "    <tr>\n",
       "      <th>4</th>\n",
       "      <td>29.0</td>\n",
       "    </tr>\n",
       "    <tr>\n",
       "      <th>5</th>\n",
       "      <td>40.0</td>\n",
       "    </tr>\n",
       "    <tr>\n",
       "      <th rowspan=\"7\" valign=\"top\">1</th>\n",
       "      <th>0</th>\n",
       "      <td>30.0</td>\n",
       "    </tr>\n",
       "    <tr>\n",
       "      <th>1</th>\n",
       "      <td>30.5</td>\n",
       "    </tr>\n",
       "    <tr>\n",
       "      <th>2</th>\n",
       "      <td>24.0</td>\n",
       "    </tr>\n",
       "    <tr>\n",
       "      <th>3</th>\n",
       "      <td>48.0</td>\n",
       "    </tr>\n",
       "    <tr>\n",
       "      <th>4</th>\n",
       "      <td>45.0</td>\n",
       "    </tr>\n",
       "    <tr>\n",
       "      <th>5</th>\n",
       "      <td>39.0</td>\n",
       "    </tr>\n",
       "    <tr>\n",
       "      <th>6</th>\n",
       "      <td>43.0</td>\n",
       "    </tr>\n",
       "    <tr>\n",
       "      <th rowspan=\"4\" valign=\"top\">2</th>\n",
       "      <th>0</th>\n",
       "      <td>28.0</td>\n",
       "    </tr>\n",
       "    <tr>\n",
       "      <th>1</th>\n",
       "      <td>4.0</td>\n",
       "    </tr>\n",
       "    <tr>\n",
       "      <th>2</th>\n",
       "      <td>19.5</td>\n",
       "    </tr>\n",
       "    <tr>\n",
       "      <th>3</th>\n",
       "      <td>24.0</td>\n",
       "    </tr>\n",
       "    <tr>\n",
       "      <th rowspan=\"3\" valign=\"top\">3</th>\n",
       "      <th>0</th>\n",
       "      <td>31.5</td>\n",
       "    </tr>\n",
       "    <tr>\n",
       "      <th>1</th>\n",
       "      <td>3.0</td>\n",
       "    </tr>\n",
       "    <tr>\n",
       "      <th>2</th>\n",
       "      <td>10.0</td>\n",
       "    </tr>\n",
       "    <tr>\n",
       "      <th rowspan=\"2\" valign=\"top\">4</th>\n",
       "      <th>1</th>\n",
       "      <td>7.0</td>\n",
       "    </tr>\n",
       "    <tr>\n",
       "      <th>2</th>\n",
       "      <td>6.0</td>\n",
       "    </tr>\n",
       "    <tr>\n",
       "      <th>5</th>\n",
       "      <th>2</th>\n",
       "      <td>11.0</td>\n",
       "    </tr>\n",
       "  </tbody>\n",
       "</table>\n",
       "</div>"
      ],
      "text/plain": [
       "              Age\n",
       "SibSp Parch      \n",
       "0     0      29.5\n",
       "      1      27.0\n",
       "      2      20.5\n",
       "      3      24.0\n",
       "      4      29.0\n",
       "      5      40.0\n",
       "1     0      30.0\n",
       "      1      30.5\n",
       "      2      24.0\n",
       "      3      48.0\n",
       "      4      45.0\n",
       "      5      39.0\n",
       "      6      43.0\n",
       "2     0      28.0\n",
       "      1       4.0\n",
       "      2      19.5\n",
       "      3      24.0\n",
       "3     0      31.5\n",
       "      1       3.0\n",
       "      2      10.0\n",
       "4     1       7.0\n",
       "      2       6.0\n",
       "5     2      11.0"
      ]
     },
     "execution_count": 13,
     "metadata": {},
     "output_type": "execute_result"
    }
   ],
   "source": [
    "train_df[['Age','SibSp','Parch']].dropna().groupby(['SibSp','Parch']).median()"
   ]
  },
  {
   "cell_type": "code",
   "execution_count": 14,
   "metadata": {},
   "outputs": [
    {
     "name": "stderr",
     "output_type": "stream",
     "text": [
      "/opt/conda/lib/python3.6/site-packages/seaborn/categorical.py:342: DeprecationWarning: pandas.core.common.is_categorical_dtype is deprecated. import from the public API: pandas.api.types.is_categorical_dtype instead\n",
      "  elif is_categorical(y):\n",
      "/opt/conda/lib/python3.6/site-packages/seaborn/categorical.py:342: DeprecationWarning: pandas.core.common.is_categorical_dtype is deprecated. import from the public API: pandas.api.types.is_categorical_dtype instead\n",
      "  elif is_categorical(y):\n"
     ]
    },
    {
     "data": {
      "text/plain": [
       "<matplotlib.axes._subplots.AxesSubplot at 0x7efbb7dbff28>"
      ]
     },
     "execution_count": 14,
     "metadata": {},
     "output_type": "execute_result"
    },
    {
     "data": {
      "image/png": "[encoded data removed]",
      "text/plain": [
       "<matplotlib.figure.Figure at 0x7efbd69306a0>"
      ]
     },
     "metadata": {},
     "output_type": "display_data"
    }
   ],
   "source": [
    "# Parch, Fare\n",
    "fig, (axis1, axis2) = plt.subplots(1, 2, figsize=(15,5))\n",
    "\n",
    "mean_fare_per_parch = train_df[[\"Parch\", \"Fare\"]].groupby(['Parch'], as_index=False).mean()\n",
    "sns.barplot(x='Parch', y='Fare', data=mean_fare_per_parch, ax=axis1)\n",
    "\n",
    "sns.boxplot(x='Parch', y='Fare', data=train_df, ax=axis2)"
   ]
  },
  {
   "cell_type": "markdown",
   "metadata": {},
   "source": [
    "- Consider to fill missing Fare via Pclass, ignore Parch."
   ]
  },
  {
   "cell_type": "markdown",
   "metadata": {},
   "source": [
    "## (2) Non-numeric Features"
   ]
  },
  {
   "cell_type": "code",
   "execution_count": 15,
   "metadata": {
    "scrolled": true
   },
   "outputs": [
    {
     "data": {
      "text/html": [
       "<div>\n",
       "<style>\n",
       "    .dataframe thead tr:only-child th {\n",
       "        text-align: right;\n",
       "    }\n",
       "\n",
       "    .dataframe thead th {\n",
       "        text-align: left;\n",
       "    }\n",
       "\n",
       "    .dataframe tbody tr th {\n",
       "        vertical-align: top;\n",
       "    }\n",
       "</style>\n",
       "<table border=\"1\" class=\"dataframe\">\n",
       "  <thead>\n",
       "    <tr style=\"text-align: right;\">\n",
       "      <th></th>\n",
       "      <th>Survived</th>\n",
       "      <th>Sex</th>\n",
       "    </tr>\n",
       "  </thead>\n",
       "  <tbody>\n",
       "    <tr>\n",
       "      <th>Survived</th>\n",
       "      <td>1.000000</td>\n",
       "      <td>0.543351</td>\n",
       "    </tr>\n",
       "    <tr>\n",
       "      <th>Sex</th>\n",
       "      <td>0.543351</td>\n",
       "      <td>1.000000</td>\n",
       "    </tr>\n",
       "  </tbody>\n",
       "</table>\n",
       "</div>"
      ],
      "text/plain": [
       "          Survived       Sex\n",
       "Survived  1.000000  0.543351\n",
       "Sex       0.543351  1.000000"
      ]
     },
     "execution_count": 15,
     "metadata": {},
     "output_type": "execute_result"
    }
   ],
   "source": [
    "# Sex\n",
    "\n",
    "def map_feature(dataset, feature, preprocess_func, mapping):\n",
    "    if preprocess_func:\n",
    "        dataset[feature] = dataset[feature].map(preprocess_func)\n",
    "    if mapping:    \n",
    "        dataset[feature] = dataset[feature].map(mapping)\n",
    "    return dataset\n",
    "\n",
    "sex_mapping = {'female': 1, 'male': 0}\n",
    "train_df = map_feature(train_df, 'Sex', None, sex_mapping)\n",
    "\n",
    "train_df[['Survived', 'Sex']].corr()"
   ]
  },
  {
   "cell_type": "markdown",
   "metadata": {},
   "source": [
    "- Sex is highly related to Survived, list it as a candidate feature"
   ]
  },
  {
   "cell_type": "code",
   "execution_count": 16,
   "metadata": {},
   "outputs": [
    {
     "data": {
      "text/html": [
       "<div>\n",
       "<style>\n",
       "    .dataframe thead tr:only-child th {\n",
       "        text-align: right;\n",
       "    }\n",
       "\n",
       "    .dataframe thead th {\n",
       "        text-align: left;\n",
       "    }\n",
       "\n",
       "    .dataframe tbody tr th {\n",
       "        vertical-align: top;\n",
       "    }\n",
       "</style>\n",
       "<table border=\"1\" class=\"dataframe\">\n",
       "  <thead>\n",
       "    <tr style=\"text-align: right;\">\n",
       "      <th></th>\n",
       "      <th>Survived</th>\n",
       "      <th>Name_Master</th>\n",
       "      <th>Name_Miss</th>\n",
       "      <th>Name_Mr</th>\n",
       "      <th>Name_Mrs</th>\n",
       "      <th>Name_Officer</th>\n",
       "      <th>Name_Royalty</th>\n",
       "    </tr>\n",
       "  </thead>\n",
       "  <tbody>\n",
       "    <tr>\n",
       "      <th>Survived</th>\n",
       "      <td>1.000000</td>\n",
       "      <td>0.085221</td>\n",
       "      <td>0.332795</td>\n",
       "      <td>-0.549199</td>\n",
       "      <td>0.344935</td>\n",
       "      <td>-0.031316</td>\n",
       "      <td>0.033391</td>\n",
       "    </tr>\n",
       "    <tr>\n",
       "      <th>Name_Master</th>\n",
       "      <td>0.085221</td>\n",
       "      <td>1.000000</td>\n",
       "      <td>-0.110602</td>\n",
       "      <td>-0.254903</td>\n",
       "      <td>-0.088394</td>\n",
       "      <td>-0.031131</td>\n",
       "      <td>-0.016287</td>\n",
       "    </tr>\n",
       "    <tr>\n",
       "      <th>Name_Miss</th>\n",
       "      <td>0.332795</td>\n",
       "      <td>-0.110602</td>\n",
       "      <td>1.000000</td>\n",
       "      <td>-0.599803</td>\n",
       "      <td>-0.207996</td>\n",
       "      <td>-0.073253</td>\n",
       "      <td>-0.038324</td>\n",
       "    </tr>\n",
       "    <tr>\n",
       "      <th>Name_Mr</th>\n",
       "      <td>-0.549199</td>\n",
       "      <td>-0.254903</td>\n",
       "      <td>-0.599803</td>\n",
       "      <td>1.000000</td>\n",
       "      <td>-0.479363</td>\n",
       "      <td>-0.168826</td>\n",
       "      <td>-0.088324</td>\n",
       "    </tr>\n",
       "    <tr>\n",
       "      <th>Name_Mrs</th>\n",
       "      <td>0.344935</td>\n",
       "      <td>-0.088394</td>\n",
       "      <td>-0.207996</td>\n",
       "      <td>-0.479363</td>\n",
       "      <td>1.000000</td>\n",
       "      <td>-0.058544</td>\n",
       "      <td>-0.030628</td>\n",
       "    </tr>\n",
       "    <tr>\n",
       "      <th>Name_Officer</th>\n",
       "      <td>-0.031316</td>\n",
       "      <td>-0.031131</td>\n",
       "      <td>-0.073253</td>\n",
       "      <td>-0.168826</td>\n",
       "      <td>-0.058544</td>\n",
       "      <td>1.000000</td>\n",
       "      <td>-0.010787</td>\n",
       "    </tr>\n",
       "    <tr>\n",
       "      <th>Name_Royalty</th>\n",
       "      <td>0.033391</td>\n",
       "      <td>-0.016287</td>\n",
       "      <td>-0.038324</td>\n",
       "      <td>-0.088324</td>\n",
       "      <td>-0.030628</td>\n",
       "      <td>-0.010787</td>\n",
       "      <td>1.000000</td>\n",
       "    </tr>\n",
       "  </tbody>\n",
       "</table>\n",
       "</div>"
      ],
      "text/plain": [
       "              Survived  Name_Master  Name_Miss   Name_Mr  Name_Mrs  \\\n",
       "Survived      1.000000     0.085221   0.332795 -0.549199  0.344935   \n",
       "Name_Master   0.085221     1.000000  -0.110602 -0.254903 -0.088394   \n",
       "Name_Miss     0.332795    -0.110602   1.000000 -0.599803 -0.207996   \n",
       "Name_Mr      -0.549199    -0.254903  -0.599803  1.000000 -0.479363   \n",
       "Name_Mrs      0.344935    -0.088394  -0.207996 -0.479363  1.000000   \n",
       "Name_Officer -0.031316    -0.031131  -0.073253 -0.168826 -0.058544   \n",
       "Name_Royalty  0.033391    -0.016287  -0.038324 -0.088324 -0.030628   \n",
       "\n",
       "              Name_Officer  Name_Royalty  \n",
       "Survived         -0.031316      0.033391  \n",
       "Name_Master      -0.031131     -0.016287  \n",
       "Name_Miss        -0.073253     -0.038324  \n",
       "Name_Mr          -0.168826     -0.088324  \n",
       "Name_Mrs         -0.058544     -0.030628  \n",
       "Name_Officer      1.000000     -0.010787  \n",
       "Name_Royalty     -0.010787      1.000000  "
      ]
     },
     "execution_count": 16,
     "metadata": {},
     "output_type": "execute_result"
    }
   ],
   "source": [
    "# Name\n",
    "\n",
    "def transform_categorical_feature(dataset, feature, inplace=False):\n",
    "    feature_dummies = pd.get_dummies(dataset[feature], prefix=feature)\n",
    "    dataset = dataset.join(feature_dummies)\n",
    "    if inplace:\n",
    "        dataset.drop([feature], axis=1, inplace=True)\n",
    "    return dataset\n",
    "\n",
    "def get_dummies_cols_names(dataset, feature):\n",
    "    cols = dataset.columns\n",
    "    return list(filter(lambda col: col.startswith(feature + '_'), cols))\n",
    "\n",
    "name_preprocess = (lambda name: name.split(',')[1].split('.')[0].strip())\n",
    "title_mapping = {\n",
    "                    \"Capt\":        \"Officer\",\n",
    "                    \"Col\":         \"Officer\",\n",
    "                    \"Major\":       \"Officer\",\n",
    "                    \"Jonkheer\":    \"Royalty\",\n",
    "                    \"Don\":         \"Royalty\",\n",
    "                    \"Sir\" :        \"Royalty\",\n",
    "                    \"Dr\":          \"Officer\",\n",
    "                    \"Rev\":         \"Officer\",\n",
    "                    \"the Countess\":\"Royalty\",\n",
    "                    \"Dona\":        \"Royalty\",\n",
    "                    \"Mme\":         \"Mrs\",\n",
    "                    \"Mlle\":        \"Miss\",\n",
    "                    \"Ms\":          \"Mrs\",\n",
    "                    \"Mr\" :         \"Mr\",\n",
    "                    \"Mrs\" :        \"Mrs\",\n",
    "                    \"Miss\" :       \"Miss\",\n",
    "                    \"Master\" :     \"Master\",\n",
    "                    \"Lady\" :       \"Royalty\"\n",
    "                }\n",
    "\n",
    "train_df = map_feature(train_df, 'Name', name_preprocess, title_mapping)\n",
    "train_df = transform_categorical_feature(train_df, 'Name', inplace=True)\n",
    "\n",
    "cols = ['Survived']\n",
    "cols.extend(get_dummies_cols_names(train_df, 'Name'))\n",
    "train_df[cols].corr()"
   ]
  },
  {
   "cell_type": "markdown",
   "metadata": {},
   "source": [
    "- Miss & Mrs & Mr are highly related to Survived"
   ]
  },
  {
   "cell_type": "code",
   "execution_count": 17,
   "metadata": {},
   "outputs": [
    {
     "data": {
      "text/html": [
       "<div>\n",
       "<style>\n",
       "    .dataframe thead tr:only-child th {\n",
       "        text-align: right;\n",
       "    }\n",
       "\n",
       "    .dataframe thead th {\n",
       "        text-align: left;\n",
       "    }\n",
       "\n",
       "    .dataframe tbody tr th {\n",
       "        vertical-align: top;\n",
       "    }\n",
       "</style>\n",
       "<table border=\"1\" class=\"dataframe\">\n",
       "  <thead>\n",
       "    <tr style=\"text-align: right;\">\n",
       "      <th></th>\n",
       "      <th>Survived</th>\n",
       "      <th>Ticket_A4</th>\n",
       "      <th>Ticket_A5</th>\n",
       "      <th>Ticket_AS</th>\n",
       "      <th>Ticket_C</th>\n",
       "      <th>Ticket_CA</th>\n",
       "      <th>Ticket_CASOTON</th>\n",
       "      <th>Ticket_FC</th>\n",
       "      <th>Ticket_FCC</th>\n",
       "      <th>Ticket_Fa</th>\n",
       "      <th>...</th>\n",
       "      <th>Ticket_SOPP</th>\n",
       "      <th>Ticket_SOTONO2</th>\n",
       "      <th>Ticket_SOTONOQ</th>\n",
       "      <th>Ticket_SP</th>\n",
       "      <th>Ticket_STONO</th>\n",
       "      <th>Ticket_STONO2</th>\n",
       "      <th>Ticket_SWPP</th>\n",
       "      <th>Ticket_WC</th>\n",
       "      <th>Ticket_WEP</th>\n",
       "      <th>Ticket_XXX</th>\n",
       "    </tr>\n",
       "  </thead>\n",
       "  <tbody>\n",
       "    <tr>\n",
       "      <th>Survived</th>\n",
       "      <td>1.000000</td>\n",
       "      <td>-0.070234</td>\n",
       "      <td>-0.092199</td>\n",
       "      <td>-0.026456</td>\n",
       "      <td>0.002496</td>\n",
       "      <td>-0.019137</td>\n",
       "      <td>-0.026456</td>\n",
       "      <td>-0.026456</td>\n",
       "      <td>0.064285</td>\n",
       "      <td>-0.026456</td>\n",
       "      <td>...</td>\n",
       "      <td>-0.045876</td>\n",
       "      <td>-0.037436</td>\n",
       "      <td>-0.067404</td>\n",
       "      <td>-0.026456</td>\n",
       "      <td>0.007887</td>\n",
       "      <td>0.019667</td>\n",
       "      <td>0.060095</td>\n",
       "      <td>-0.062182</td>\n",
       "      <td>-0.006036</td>\n",
       "      <td>0.001492</td>\n",
       "    </tr>\n",
       "    <tr>\n",
       "      <th>Ticket_A4</th>\n",
       "      <td>-0.070234</td>\n",
       "      <td>1.000000</td>\n",
       "      <td>-0.013825</td>\n",
       "      <td>-0.002983</td>\n",
       "      <td>-0.006685</td>\n",
       "      <td>-0.019544</td>\n",
       "      <td>-0.002983</td>\n",
       "      <td>-0.002983</td>\n",
       "      <td>-0.006685</td>\n",
       "      <td>-0.002983</td>\n",
       "      <td>...</td>\n",
       "      <td>-0.005172</td>\n",
       "      <td>-0.004221</td>\n",
       "      <td>-0.011644</td>\n",
       "      <td>-0.002983</td>\n",
       "      <td>-0.010397</td>\n",
       "      <td>-0.007327</td>\n",
       "      <td>-0.004221</td>\n",
       "      <td>-0.009481</td>\n",
       "      <td>-0.005172</td>\n",
       "      <td>-0.150855</td>\n",
       "    </tr>\n",
       "    <tr>\n",
       "      <th>Ticket_A5</th>\n",
       "      <td>-0.092199</td>\n",
       "      <td>-0.013825</td>\n",
       "      <td>1.000000</td>\n",
       "      <td>-0.005208</td>\n",
       "      <td>-0.011671</td>\n",
       "      <td>-0.034122</td>\n",
       "      <td>-0.005208</td>\n",
       "      <td>-0.005208</td>\n",
       "      <td>-0.011671</td>\n",
       "      <td>-0.005208</td>\n",
       "      <td>...</td>\n",
       "      <td>-0.009030</td>\n",
       "      <td>-0.007369</td>\n",
       "      <td>-0.020330</td>\n",
       "      <td>-0.005208</td>\n",
       "      <td>-0.018153</td>\n",
       "      <td>-0.012792</td>\n",
       "      <td>-0.007369</td>\n",
       "      <td>-0.016552</td>\n",
       "      <td>-0.009030</td>\n",
       "      <td>-0.263382</td>\n",
       "    </tr>\n",
       "    <tr>\n",
       "      <th>Ticket_AS</th>\n",
       "      <td>-0.026456</td>\n",
       "      <td>-0.002983</td>\n",
       "      <td>-0.005208</td>\n",
       "      <td>1.000000</td>\n",
       "      <td>-0.002518</td>\n",
       "      <td>-0.007362</td>\n",
       "      <td>-0.001124</td>\n",
       "      <td>-0.001124</td>\n",
       "      <td>-0.002518</td>\n",
       "      <td>-0.001124</td>\n",
       "      <td>...</td>\n",
       "      <td>-0.001948</td>\n",
       "      <td>-0.001590</td>\n",
       "      <td>-0.004386</td>\n",
       "      <td>-0.001124</td>\n",
       "      <td>-0.003917</td>\n",
       "      <td>-0.002760</td>\n",
       "      <td>-0.001590</td>\n",
       "      <td>-0.003571</td>\n",
       "      <td>-0.001948</td>\n",
       "      <td>-0.056825</td>\n",
       "    </tr>\n",
       "    <tr>\n",
       "      <th>Ticket_C</th>\n",
       "      <td>0.002496</td>\n",
       "      <td>-0.006685</td>\n",
       "      <td>-0.011671</td>\n",
       "      <td>-0.002518</td>\n",
       "      <td>1.000000</td>\n",
       "      <td>-0.016499</td>\n",
       "      <td>-0.002518</td>\n",
       "      <td>-0.002518</td>\n",
       "      <td>-0.005643</td>\n",
       "      <td>-0.002518</td>\n",
       "      <td>...</td>\n",
       "      <td>-0.004366</td>\n",
       "      <td>-0.003563</td>\n",
       "      <td>-0.009830</td>\n",
       "      <td>-0.002518</td>\n",
       "      <td>-0.008777</td>\n",
       "      <td>-0.006185</td>\n",
       "      <td>-0.003563</td>\n",
       "      <td>-0.008004</td>\n",
       "      <td>-0.004366</td>\n",
       "      <td>-0.127352</td>\n",
       "    </tr>\n",
       "    <tr>\n",
       "      <th>Ticket_CA</th>\n",
       "      <td>-0.019137</td>\n",
       "      <td>-0.019544</td>\n",
       "      <td>-0.034122</td>\n",
       "      <td>-0.007362</td>\n",
       "      <td>-0.016499</td>\n",
       "      <td>1.000000</td>\n",
       "      <td>-0.007362</td>\n",
       "      <td>-0.007362</td>\n",
       "      <td>-0.016499</td>\n",
       "      <td>-0.007362</td>\n",
       "      <td>...</td>\n",
       "      <td>-0.012765</td>\n",
       "      <td>-0.010417</td>\n",
       "      <td>-0.028739</td>\n",
       "      <td>-0.007362</td>\n",
       "      <td>-0.025661</td>\n",
       "      <td>-0.018084</td>\n",
       "      <td>-0.010417</td>\n",
       "      <td>-0.023399</td>\n",
       "      <td>-0.012765</td>\n",
       "      <td>-0.372322</td>\n",
       "    </tr>\n",
       "    <tr>\n",
       "      <th>Ticket_CASOTON</th>\n",
       "      <td>-0.026456</td>\n",
       "      <td>-0.002983</td>\n",
       "      <td>-0.005208</td>\n",
       "      <td>-0.001124</td>\n",
       "      <td>-0.002518</td>\n",
       "      <td>-0.007362</td>\n",
       "      <td>1.000000</td>\n",
       "      <td>-0.001124</td>\n",
       "      <td>-0.002518</td>\n",
       "      <td>-0.001124</td>\n",
       "      <td>...</td>\n",
       "      <td>-0.001948</td>\n",
       "      <td>-0.001590</td>\n",
       "      <td>-0.004386</td>\n",
       "      <td>-0.001124</td>\n",
       "      <td>-0.003917</td>\n",
       "      <td>-0.002760</td>\n",
       "      <td>-0.001590</td>\n",
       "      <td>-0.003571</td>\n",
       "      <td>-0.001948</td>\n",
       "      <td>-0.056825</td>\n",
       "    </tr>\n",
       "    <tr>\n",
       "      <th>Ticket_FC</th>\n",
       "      <td>-0.026456</td>\n",
       "      <td>-0.002983</td>\n",
       "      <td>-0.005208</td>\n",
       "      <td>-0.001124</td>\n",
       "      <td>-0.002518</td>\n",
       "      <td>-0.007362</td>\n",
       "      <td>-0.001124</td>\n",
       "      <td>1.000000</td>\n",
       "      <td>-0.002518</td>\n",
       "      <td>-0.001124</td>\n",
       "      <td>...</td>\n",
       "      <td>-0.001948</td>\n",
       "      <td>-0.001590</td>\n",
       "      <td>-0.004386</td>\n",
       "      <td>-0.001124</td>\n",
       "      <td>-0.003917</td>\n",
       "      <td>-0.002760</td>\n",
       "      <td>-0.001590</td>\n",
       "      <td>-0.003571</td>\n",
       "      <td>-0.001948</td>\n",
       "      <td>-0.056825</td>\n",
       "    </tr>\n",
       "    <tr>\n",
       "      <th>Ticket_FCC</th>\n",
       "      <td>0.064285</td>\n",
       "      <td>-0.006685</td>\n",
       "      <td>-0.011671</td>\n",
       "      <td>-0.002518</td>\n",
       "      <td>-0.005643</td>\n",
       "      <td>-0.016499</td>\n",
       "      <td>-0.002518</td>\n",
       "      <td>-0.002518</td>\n",
       "      <td>1.000000</td>\n",
       "      <td>-0.002518</td>\n",
       "      <td>...</td>\n",
       "      <td>-0.004366</td>\n",
       "      <td>-0.003563</td>\n",
       "      <td>-0.009830</td>\n",
       "      <td>-0.002518</td>\n",
       "      <td>-0.008777</td>\n",
       "      <td>-0.006185</td>\n",
       "      <td>-0.003563</td>\n",
       "      <td>-0.008004</td>\n",
       "      <td>-0.004366</td>\n",
       "      <td>-0.127352</td>\n",
       "    </tr>\n",
       "    <tr>\n",
       "      <th>Ticket_Fa</th>\n",
       "      <td>-0.026456</td>\n",
       "      <td>-0.002983</td>\n",
       "      <td>-0.005208</td>\n",
       "      <td>-0.001124</td>\n",
       "      <td>-0.002518</td>\n",
       "      <td>-0.007362</td>\n",
       "      <td>-0.001124</td>\n",
       "      <td>-0.001124</td>\n",
       "      <td>-0.002518</td>\n",
       "      <td>1.000000</td>\n",
       "      <td>...</td>\n",
       "      <td>-0.001948</td>\n",
       "      <td>-0.001590</td>\n",
       "      <td>-0.004386</td>\n",
       "      <td>-0.001124</td>\n",
       "      <td>-0.003917</td>\n",
       "      <td>-0.002760</td>\n",
       "      <td>-0.001590</td>\n",
       "      <td>-0.003571</td>\n",
       "      <td>-0.001948</td>\n",
       "      <td>-0.056825</td>\n",
       "    </tr>\n",
       "    <tr>\n",
       "      <th>Ticket_LINE</th>\n",
       "      <td>-0.018481</td>\n",
       "      <td>-0.005976</td>\n",
       "      <td>-0.010433</td>\n",
       "      <td>-0.002251</td>\n",
       "      <td>-0.005045</td>\n",
       "      <td>-0.014749</td>\n",
       "      <td>-0.002251</td>\n",
       "      <td>-0.002251</td>\n",
       "      <td>-0.005045</td>\n",
       "      <td>-0.002251</td>\n",
       "      <td>...</td>\n",
       "      <td>-0.003903</td>\n",
       "      <td>-0.003185</td>\n",
       "      <td>-0.008787</td>\n",
       "      <td>-0.002251</td>\n",
       "      <td>-0.007846</td>\n",
       "      <td>-0.005529</td>\n",
       "      <td>-0.003185</td>\n",
       "      <td>-0.007155</td>\n",
       "      <td>-0.003903</td>\n",
       "      <td>-0.113843</td>\n",
       "    </tr>\n",
       "    <tr>\n",
       "      <th>Ticket_PC</th>\n",
       "      <td>0.147062</td>\n",
       "      <td>-0.023911</td>\n",
       "      <td>-0.041747</td>\n",
       "      <td>-0.009007</td>\n",
       "      <td>-0.020186</td>\n",
       "      <td>-0.059014</td>\n",
       "      <td>-0.009007</td>\n",
       "      <td>-0.009007</td>\n",
       "      <td>-0.020186</td>\n",
       "      <td>-0.009007</td>\n",
       "      <td>...</td>\n",
       "      <td>-0.015618</td>\n",
       "      <td>-0.012745</td>\n",
       "      <td>-0.035162</td>\n",
       "      <td>-0.009007</td>\n",
       "      <td>-0.031396</td>\n",
       "      <td>-0.022125</td>\n",
       "      <td>-0.012745</td>\n",
       "      <td>-0.028628</td>\n",
       "      <td>-0.015618</td>\n",
       "      <td>-0.455525</td>\n",
       "    </tr>\n",
       "    <tr>\n",
       "      <th>Ticket_PP</th>\n",
       "      <td>0.033803</td>\n",
       "      <td>-0.005172</td>\n",
       "      <td>-0.009030</td>\n",
       "      <td>-0.001948</td>\n",
       "      <td>-0.004366</td>\n",
       "      <td>-0.012765</td>\n",
       "      <td>-0.001948</td>\n",
       "      <td>-0.001948</td>\n",
       "      <td>-0.004366</td>\n",
       "      <td>-0.001948</td>\n",
       "      <td>...</td>\n",
       "      <td>-0.003378</td>\n",
       "      <td>-0.002757</td>\n",
       "      <td>-0.007606</td>\n",
       "      <td>-0.001948</td>\n",
       "      <td>-0.006791</td>\n",
       "      <td>-0.004786</td>\n",
       "      <td>-0.002757</td>\n",
       "      <td>-0.006193</td>\n",
       "      <td>-0.003378</td>\n",
       "      <td>-0.098535</td>\n",
       "    </tr>\n",
       "    <tr>\n",
       "      <th>Ticket_PPP</th>\n",
       "      <td>0.011329</td>\n",
       "      <td>-0.004221</td>\n",
       "      <td>-0.007369</td>\n",
       "      <td>-0.001590</td>\n",
       "      <td>-0.003563</td>\n",
       "      <td>-0.010417</td>\n",
       "      <td>-0.001590</td>\n",
       "      <td>-0.001590</td>\n",
       "      <td>-0.003563</td>\n",
       "      <td>-0.001590</td>\n",
       "      <td>...</td>\n",
       "      <td>-0.002757</td>\n",
       "      <td>-0.002250</td>\n",
       "      <td>-0.006207</td>\n",
       "      <td>-0.001590</td>\n",
       "      <td>-0.005542</td>\n",
       "      <td>-0.003905</td>\n",
       "      <td>-0.002250</td>\n",
       "      <td>-0.005053</td>\n",
       "      <td>-0.002757</td>\n",
       "      <td>-0.080408</td>\n",
       "    </tr>\n",
       "    <tr>\n",
       "      <th>Ticket_SC</th>\n",
       "      <td>0.042470</td>\n",
       "      <td>-0.002983</td>\n",
       "      <td>-0.005208</td>\n",
       "      <td>-0.001124</td>\n",
       "      <td>-0.002518</td>\n",
       "      <td>-0.007362</td>\n",
       "      <td>-0.001124</td>\n",
       "      <td>-0.001124</td>\n",
       "      <td>-0.002518</td>\n",
       "      <td>-0.001124</td>\n",
       "      <td>...</td>\n",
       "      <td>-0.001948</td>\n",
       "      <td>-0.001590</td>\n",
       "      <td>-0.004386</td>\n",
       "      <td>-0.001124</td>\n",
       "      <td>-0.003917</td>\n",
       "      <td>-0.002760</td>\n",
       "      <td>-0.001590</td>\n",
       "      <td>-0.003571</td>\n",
       "      <td>-0.001948</td>\n",
       "      <td>-0.056825</td>\n",
       "    </tr>\n",
       "    <tr>\n",
       "      <th>Ticket_SCA4</th>\n",
       "      <td>-0.026456</td>\n",
       "      <td>-0.002983</td>\n",
       "      <td>-0.005208</td>\n",
       "      <td>-0.001124</td>\n",
       "      <td>-0.002518</td>\n",
       "      <td>-0.007362</td>\n",
       "      <td>-0.001124</td>\n",
       "      <td>-0.001124</td>\n",
       "      <td>-0.002518</td>\n",
       "      <td>-0.001124</td>\n",
       "      <td>...</td>\n",
       "      <td>-0.001948</td>\n",
       "      <td>-0.001590</td>\n",
       "      <td>-0.004386</td>\n",
       "      <td>-0.001124</td>\n",
       "      <td>-0.003917</td>\n",
       "      <td>-0.002760</td>\n",
       "      <td>-0.001590</td>\n",
       "      <td>-0.003571</td>\n",
       "      <td>-0.001948</td>\n",
       "      <td>-0.056825</td>\n",
       "    </tr>\n",
       "    <tr>\n",
       "      <th>Ticket_SCAH</th>\n",
       "      <td>0.033803</td>\n",
       "      <td>-0.005172</td>\n",
       "      <td>-0.009030</td>\n",
       "      <td>-0.001948</td>\n",
       "      <td>-0.004366</td>\n",
       "      <td>-0.012765</td>\n",
       "      <td>-0.001948</td>\n",
       "      <td>-0.001948</td>\n",
       "      <td>-0.004366</td>\n",
       "      <td>-0.001948</td>\n",
       "      <td>...</td>\n",
       "      <td>-0.003378</td>\n",
       "      <td>-0.002757</td>\n",
       "      <td>-0.007606</td>\n",
       "      <td>-0.001948</td>\n",
       "      <td>-0.006791</td>\n",
       "      <td>-0.004786</td>\n",
       "      <td>-0.002757</td>\n",
       "      <td>-0.006193</td>\n",
       "      <td>-0.003378</td>\n",
       "      <td>-0.098535</td>\n",
       "    </tr>\n",
       "    <tr>\n",
       "      <th>Ticket_SCOW</th>\n",
       "      <td>-0.026456</td>\n",
       "      <td>-0.002983</td>\n",
       "      <td>-0.005208</td>\n",
       "      <td>-0.001124</td>\n",
       "      <td>-0.002518</td>\n",
       "      <td>-0.007362</td>\n",
       "      <td>-0.001124</td>\n",
       "      <td>-0.001124</td>\n",
       "      <td>-0.002518</td>\n",
       "      <td>-0.001124</td>\n",
       "      <td>...</td>\n",
       "      <td>-0.001948</td>\n",
       "      <td>-0.001590</td>\n",
       "      <td>-0.004386</td>\n",
       "      <td>-0.001124</td>\n",
       "      <td>-0.003917</td>\n",
       "      <td>-0.002760</td>\n",
       "      <td>-0.001590</td>\n",
       "      <td>-0.003571</td>\n",
       "      <td>-0.001948</td>\n",
       "      <td>-0.056825</td>\n",
       "    </tr>\n",
       "    <tr>\n",
       "      <th>Ticket_SCPARIS</th>\n",
       "      <td>0.008185</td>\n",
       "      <td>-0.007919</td>\n",
       "      <td>-0.013825</td>\n",
       "      <td>-0.002983</td>\n",
       "      <td>-0.006685</td>\n",
       "      <td>-0.019544</td>\n",
       "      <td>-0.002983</td>\n",
       "      <td>-0.002983</td>\n",
       "      <td>-0.006685</td>\n",
       "      <td>-0.002983</td>\n",
       "      <td>...</td>\n",
       "      <td>-0.005172</td>\n",
       "      <td>-0.004221</td>\n",
       "      <td>-0.011644</td>\n",
       "      <td>-0.002983</td>\n",
       "      <td>-0.010397</td>\n",
       "      <td>-0.007327</td>\n",
       "      <td>-0.004221</td>\n",
       "      <td>-0.009481</td>\n",
       "      <td>-0.005172</td>\n",
       "      <td>-0.150855</td>\n",
       "    </tr>\n",
       "    <tr>\n",
       "      <th>Ticket_SCParis</th>\n",
       "      <td>0.016040</td>\n",
       "      <td>-0.005976</td>\n",
       "      <td>-0.010433</td>\n",
       "      <td>-0.002251</td>\n",
       "      <td>-0.005045</td>\n",
       "      <td>-0.014749</td>\n",
       "      <td>-0.002251</td>\n",
       "      <td>-0.002251</td>\n",
       "      <td>-0.005045</td>\n",
       "      <td>-0.002251</td>\n",
       "      <td>...</td>\n",
       "      <td>-0.003903</td>\n",
       "      <td>-0.003185</td>\n",
       "      <td>-0.008787</td>\n",
       "      <td>-0.002251</td>\n",
       "      <td>-0.007846</td>\n",
       "      <td>-0.005529</td>\n",
       "      <td>-0.003185</td>\n",
       "      <td>-0.007155</td>\n",
       "      <td>-0.003903</td>\n",
       "      <td>-0.113843</td>\n",
       "    </tr>\n",
       "    <tr>\n",
       "      <th>Ticket_SOC</th>\n",
       "      <td>-0.036769</td>\n",
       "      <td>-0.007327</td>\n",
       "      <td>-0.012792</td>\n",
       "      <td>-0.002760</td>\n",
       "      <td>-0.006185</td>\n",
       "      <td>-0.018084</td>\n",
       "      <td>-0.002760</td>\n",
       "      <td>-0.002760</td>\n",
       "      <td>-0.006185</td>\n",
       "      <td>-0.002760</td>\n",
       "      <td>...</td>\n",
       "      <td>-0.004786</td>\n",
       "      <td>-0.003905</td>\n",
       "      <td>-0.010775</td>\n",
       "      <td>-0.002760</td>\n",
       "      <td>-0.009621</td>\n",
       "      <td>-0.006780</td>\n",
       "      <td>-0.003905</td>\n",
       "      <td>-0.008772</td>\n",
       "      <td>-0.004786</td>\n",
       "      <td>-0.139586</td>\n",
       "    </tr>\n",
       "    <tr>\n",
       "      <th>Ticket_SOP</th>\n",
       "      <td>-0.026456</td>\n",
       "      <td>-0.002983</td>\n",
       "      <td>-0.005208</td>\n",
       "      <td>-0.001124</td>\n",
       "      <td>-0.002518</td>\n",
       "      <td>-0.007362</td>\n",
       "      <td>-0.001124</td>\n",
       "      <td>-0.001124</td>\n",
       "      <td>-0.002518</td>\n",
       "      <td>-0.001124</td>\n",
       "      <td>...</td>\n",
       "      <td>-0.001948</td>\n",
       "      <td>-0.001590</td>\n",
       "      <td>-0.004386</td>\n",
       "      <td>-0.001124</td>\n",
       "      <td>-0.003917</td>\n",
       "      <td>-0.002760</td>\n",
       "      <td>-0.001590</td>\n",
       "      <td>-0.003571</td>\n",
       "      <td>-0.001948</td>\n",
       "      <td>-0.056825</td>\n",
       "    </tr>\n",
       "    <tr>\n",
       "      <th>Ticket_SOPP</th>\n",
       "      <td>-0.045876</td>\n",
       "      <td>-0.005172</td>\n",
       "      <td>-0.009030</td>\n",
       "      <td>-0.001948</td>\n",
       "      <td>-0.004366</td>\n",
       "      <td>-0.012765</td>\n",
       "      <td>-0.001948</td>\n",
       "      <td>-0.001948</td>\n",
       "      <td>-0.004366</td>\n",
       "      <td>-0.001948</td>\n",
       "      <td>...</td>\n",
       "      <td>1.000000</td>\n",
       "      <td>-0.002757</td>\n",
       "      <td>-0.007606</td>\n",
       "      <td>-0.001948</td>\n",
       "      <td>-0.006791</td>\n",
       "      <td>-0.004786</td>\n",
       "      <td>-0.002757</td>\n",
       "      <td>-0.006193</td>\n",
       "      <td>-0.003378</td>\n",
       "      <td>-0.098535</td>\n",
       "    </tr>\n",
       "    <tr>\n",
       "      <th>Ticket_SOTONO2</th>\n",
       "      <td>-0.037436</td>\n",
       "      <td>-0.004221</td>\n",
       "      <td>-0.007369</td>\n",
       "      <td>-0.001590</td>\n",
       "      <td>-0.003563</td>\n",
       "      <td>-0.010417</td>\n",
       "      <td>-0.001590</td>\n",
       "      <td>-0.001590</td>\n",
       "      <td>-0.003563</td>\n",
       "      <td>-0.001590</td>\n",
       "      <td>...</td>\n",
       "      <td>-0.002757</td>\n",
       "      <td>1.000000</td>\n",
       "      <td>-0.006207</td>\n",
       "      <td>-0.001590</td>\n",
       "      <td>-0.005542</td>\n",
       "      <td>-0.003905</td>\n",
       "      <td>-0.002250</td>\n",
       "      <td>-0.005053</td>\n",
       "      <td>-0.002757</td>\n",
       "      <td>-0.080408</td>\n",
       "    </tr>\n",
       "    <tr>\n",
       "      <th>Ticket_SOTONOQ</th>\n",
       "      <td>-0.067404</td>\n",
       "      <td>-0.011644</td>\n",
       "      <td>-0.020330</td>\n",
       "      <td>-0.004386</td>\n",
       "      <td>-0.009830</td>\n",
       "      <td>-0.028739</td>\n",
       "      <td>-0.004386</td>\n",
       "      <td>-0.004386</td>\n",
       "      <td>-0.009830</td>\n",
       "      <td>-0.004386</td>\n",
       "      <td>...</td>\n",
       "      <td>-0.007606</td>\n",
       "      <td>-0.006207</td>\n",
       "      <td>1.000000</td>\n",
       "      <td>-0.004386</td>\n",
       "      <td>-0.015289</td>\n",
       "      <td>-0.010775</td>\n",
       "      <td>-0.006207</td>\n",
       "      <td>-0.013941</td>\n",
       "      <td>-0.007606</td>\n",
       "      <td>-0.221835</td>\n",
       "    </tr>\n",
       "    <tr>\n",
       "      <th>Ticket_SP</th>\n",
       "      <td>-0.026456</td>\n",
       "      <td>-0.002983</td>\n",
       "      <td>-0.005208</td>\n",
       "      <td>-0.001124</td>\n",
       "      <td>-0.002518</td>\n",
       "      <td>-0.007362</td>\n",
       "      <td>-0.001124</td>\n",
       "      <td>-0.001124</td>\n",
       "      <td>-0.002518</td>\n",
       "      <td>-0.001124</td>\n",
       "      <td>...</td>\n",
       "      <td>-0.001948</td>\n",
       "      <td>-0.001590</td>\n",
       "      <td>-0.004386</td>\n",
       "      <td>1.000000</td>\n",
       "      <td>-0.003917</td>\n",
       "      <td>-0.002760</td>\n",
       "      <td>-0.001590</td>\n",
       "      <td>-0.003571</td>\n",
       "      <td>-0.001948</td>\n",
       "      <td>-0.056825</td>\n",
       "    </tr>\n",
       "    <tr>\n",
       "      <th>Ticket_STONO</th>\n",
       "      <td>0.007887</td>\n",
       "      <td>-0.010397</td>\n",
       "      <td>-0.018153</td>\n",
       "      <td>-0.003917</td>\n",
       "      <td>-0.008777</td>\n",
       "      <td>-0.025661</td>\n",
       "      <td>-0.003917</td>\n",
       "      <td>-0.003917</td>\n",
       "      <td>-0.008777</td>\n",
       "      <td>-0.003917</td>\n",
       "      <td>...</td>\n",
       "      <td>-0.006791</td>\n",
       "      <td>-0.005542</td>\n",
       "      <td>-0.015289</td>\n",
       "      <td>-0.003917</td>\n",
       "      <td>1.000000</td>\n",
       "      <td>-0.009621</td>\n",
       "      <td>-0.005542</td>\n",
       "      <td>-0.012448</td>\n",
       "      <td>-0.006791</td>\n",
       "      <td>-0.198077</td>\n",
       "    </tr>\n",
       "    <tr>\n",
       "      <th>Ticket_STONO2</th>\n",
       "      <td>0.019667</td>\n",
       "      <td>-0.007327</td>\n",
       "      <td>-0.012792</td>\n",
       "      <td>-0.002760</td>\n",
       "      <td>-0.006185</td>\n",
       "      <td>-0.018084</td>\n",
       "      <td>-0.002760</td>\n",
       "      <td>-0.002760</td>\n",
       "      <td>-0.006185</td>\n",
       "      <td>-0.002760</td>\n",
       "      <td>...</td>\n",
       "      <td>-0.004786</td>\n",
       "      <td>-0.003905</td>\n",
       "      <td>-0.010775</td>\n",
       "      <td>-0.002760</td>\n",
       "      <td>-0.009621</td>\n",
       "      <td>1.000000</td>\n",
       "      <td>-0.003905</td>\n",
       "      <td>-0.008772</td>\n",
       "      <td>-0.004786</td>\n",
       "      <td>-0.139586</td>\n",
       "    </tr>\n",
       "    <tr>\n",
       "      <th>Ticket_SWPP</th>\n",
       "      <td>0.060095</td>\n",
       "      <td>-0.004221</td>\n",
       "      <td>-0.007369</td>\n",
       "      <td>-0.001590</td>\n",
       "      <td>-0.003563</td>\n",
       "      <td>-0.010417</td>\n",
       "      <td>-0.001590</td>\n",
       "      <td>-0.001590</td>\n",
       "      <td>-0.003563</td>\n",
       "      <td>-0.001590</td>\n",
       "      <td>...</td>\n",
       "      <td>-0.002757</td>\n",
       "      <td>-0.002250</td>\n",
       "      <td>-0.006207</td>\n",
       "      <td>-0.001590</td>\n",
       "      <td>-0.005542</td>\n",
       "      <td>-0.003905</td>\n",
       "      <td>1.000000</td>\n",
       "      <td>-0.005053</td>\n",
       "      <td>-0.002757</td>\n",
       "      <td>-0.080408</td>\n",
       "    </tr>\n",
       "    <tr>\n",
       "      <th>Ticket_WC</th>\n",
       "      <td>-0.062182</td>\n",
       "      <td>-0.009481</td>\n",
       "      <td>-0.016552</td>\n",
       "      <td>-0.003571</td>\n",
       "      <td>-0.008004</td>\n",
       "      <td>-0.023399</td>\n",
       "      <td>-0.003571</td>\n",
       "      <td>-0.003571</td>\n",
       "      <td>-0.008004</td>\n",
       "      <td>-0.003571</td>\n",
       "      <td>...</td>\n",
       "      <td>-0.006193</td>\n",
       "      <td>-0.005053</td>\n",
       "      <td>-0.013941</td>\n",
       "      <td>-0.003571</td>\n",
       "      <td>-0.012448</td>\n",
       "      <td>-0.008772</td>\n",
       "      <td>-0.005053</td>\n",
       "      <td>1.000000</td>\n",
       "      <td>-0.006193</td>\n",
       "      <td>-0.180613</td>\n",
       "    </tr>\n",
       "    <tr>\n",
       "      <th>Ticket_WEP</th>\n",
       "      <td>-0.006036</td>\n",
       "      <td>-0.005172</td>\n",
       "      <td>-0.009030</td>\n",
       "      <td>-0.001948</td>\n",
       "      <td>-0.004366</td>\n",
       "      <td>-0.012765</td>\n",
       "      <td>-0.001948</td>\n",
       "      <td>-0.001948</td>\n",
       "      <td>-0.004366</td>\n",
       "      <td>-0.001948</td>\n",
       "      <td>...</td>\n",
       "      <td>-0.003378</td>\n",
       "      <td>-0.002757</td>\n",
       "      <td>-0.007606</td>\n",
       "      <td>-0.001948</td>\n",
       "      <td>-0.006791</td>\n",
       "      <td>-0.004786</td>\n",
       "      <td>-0.002757</td>\n",
       "      <td>-0.006193</td>\n",
       "      <td>1.000000</td>\n",
       "      <td>-0.098535</td>\n",
       "    </tr>\n",
       "    <tr>\n",
       "      <th>Ticket_XXX</th>\n",
       "      <td>0.001492</td>\n",
       "      <td>-0.150855</td>\n",
       "      <td>-0.263382</td>\n",
       "      <td>-0.056825</td>\n",
       "      <td>-0.127352</td>\n",
       "      <td>-0.372322</td>\n",
       "      <td>-0.056825</td>\n",
       "      <td>-0.056825</td>\n",
       "      <td>-0.127352</td>\n",
       "      <td>-0.056825</td>\n",
       "      <td>...</td>\n",
       "      <td>-0.098535</td>\n",
       "      <td>-0.080408</td>\n",
       "      <td>-0.221835</td>\n",
       "      <td>-0.056825</td>\n",
       "      <td>-0.198077</td>\n",
       "      <td>-0.139586</td>\n",
       "      <td>-0.080408</td>\n",
       "      <td>-0.180613</td>\n",
       "      <td>-0.098535</td>\n",
       "      <td>1.000000</td>\n",
       "    </tr>\n",
       "  </tbody>\n",
       "</table>\n",
       "<p>32 rows × 32 columns</p>\n",
       "</div>"
      ],
      "text/plain": [
       "                Survived  Ticket_A4  Ticket_A5  Ticket_AS  Ticket_C  \\\n",
       "Survived        1.000000  -0.070234  -0.092199  -0.026456  0.002496   \n",
       "Ticket_A4      -0.070234   1.000000  -0.013825  -0.002983 -0.006685   \n",
       "Ticket_A5      -0.092199  -0.013825   1.000000  -0.005208 -0.011671   \n",
       "Ticket_AS      -0.026456  -0.002983  -0.005208   1.000000 -0.002518   \n",
       "Ticket_C        0.002496  -0.006685  -0.011671  -0.002518  1.000000   \n",
       "Ticket_CA      -0.019137  -0.019544  -0.034122  -0.007362 -0.016499   \n",
       "Ticket_CASOTON -0.026456  -0.002983  -0.005208  -0.001124 -0.002518   \n",
       "Ticket_FC      -0.026456  -0.002983  -0.005208  -0.001124 -0.002518   \n",
       "Ticket_FCC      0.064285  -0.006685  -0.011671  -0.002518 -0.005643   \n",
       "Ticket_Fa      -0.026456  -0.002983  -0.005208  -0.001124 -0.002518   \n",
       "Ticket_LINE    -0.018481  -0.005976  -0.010433  -0.002251 -0.005045   \n",
       "Ticket_PC       0.147062  -0.023911  -0.041747  -0.009007 -0.020186   \n",
       "Ticket_PP       0.033803  -0.005172  -0.009030  -0.001948 -0.004366   \n",
       "Ticket_PPP      0.011329  -0.004221  -0.007369  -0.001590 -0.003563   \n",
       "Ticket_SC       0.042470  -0.002983  -0.005208  -0.001124 -0.002518   \n",
       "Ticket_SCA4    -0.026456  -0.002983  -0.005208  -0.001124 -0.002518   \n",
       "Ticket_SCAH     0.033803  -0.005172  -0.009030  -0.001948 -0.004366   \n",
       "Ticket_SCOW    -0.026456  -0.002983  -0.005208  -0.001124 -0.002518   \n",
       "Ticket_SCPARIS  0.008185  -0.007919  -0.013825  -0.002983 -0.006685   \n",
       "Ticket_SCParis  0.016040  -0.005976  -0.010433  -0.002251 -0.005045   \n",
       "Ticket_SOC     -0.036769  -0.007327  -0.012792  -0.002760 -0.006185   \n",
       "Ticket_SOP     -0.026456  -0.002983  -0.005208  -0.001124 -0.002518   \n",
       "Ticket_SOPP    -0.045876  -0.005172  -0.009030  -0.001948 -0.004366   \n",
       "Ticket_SOTONO2 -0.037436  -0.004221  -0.007369  -0.001590 -0.003563   \n",
       "Ticket_SOTONOQ -0.067404  -0.011644  -0.020330  -0.004386 -0.009830   \n",
       "Ticket_SP      -0.026456  -0.002983  -0.005208  -0.001124 -0.002518   \n",
       "Ticket_STONO    0.007887  -0.010397  -0.018153  -0.003917 -0.008777   \n",
       "Ticket_STONO2   0.019667  -0.007327  -0.012792  -0.002760 -0.006185   \n",
       "Ticket_SWPP     0.060095  -0.004221  -0.007369  -0.001590 -0.003563   \n",
       "Ticket_WC      -0.062182  -0.009481  -0.016552  -0.003571 -0.008004   \n",
       "Ticket_WEP     -0.006036  -0.005172  -0.009030  -0.001948 -0.004366   \n",
       "Ticket_XXX      0.001492  -0.150855  -0.263382  -0.056825 -0.127352   \n",
       "\n",
       "                Ticket_CA  Ticket_CASOTON  Ticket_FC  Ticket_FCC  Ticket_Fa  \\\n",
       "Survived        -0.019137       -0.026456  -0.026456    0.064285  -0.026456   \n",
       "Ticket_A4       -0.019544       -0.002983  -0.002983   -0.006685  -0.002983   \n",
       "Ticket_A5       -0.034122       -0.005208  -0.005208   -0.011671  -0.005208   \n",
       "Ticket_AS       -0.007362       -0.001124  -0.001124   -0.002518  -0.001124   \n",
       "Ticket_C        -0.016499       -0.002518  -0.002518   -0.005643  -0.002518   \n",
       "Ticket_CA        1.000000       -0.007362  -0.007362   -0.016499  -0.007362   \n",
       "Ticket_CASOTON  -0.007362        1.000000  -0.001124   -0.002518  -0.001124   \n",
       "Ticket_FC       -0.007362       -0.001124   1.000000   -0.002518  -0.001124   \n",
       "Ticket_FCC      -0.016499       -0.002518  -0.002518    1.000000  -0.002518   \n",
       "Ticket_Fa       -0.007362       -0.001124  -0.001124   -0.002518   1.000000   \n",
       "Ticket_LINE     -0.014749       -0.002251  -0.002251   -0.005045  -0.002251   \n",
       "Ticket_PC       -0.059014       -0.009007  -0.009007   -0.020186  -0.009007   \n",
       "Ticket_PP       -0.012765       -0.001948  -0.001948   -0.004366  -0.001948   \n",
       "Ticket_PPP      -0.010417       -0.001590  -0.001590   -0.003563  -0.001590   \n",
       "Ticket_SC       -0.007362       -0.001124  -0.001124   -0.002518  -0.001124   \n",
       "Ticket_SCA4     -0.007362       -0.001124  -0.001124   -0.002518  -0.001124   \n",
       "Ticket_SCAH     -0.012765       -0.001948  -0.001948   -0.004366  -0.001948   \n",
       "Ticket_SCOW     -0.007362       -0.001124  -0.001124   -0.002518  -0.001124   \n",
       "Ticket_SCPARIS  -0.019544       -0.002983  -0.002983   -0.006685  -0.002983   \n",
       "Ticket_SCParis  -0.014749       -0.002251  -0.002251   -0.005045  -0.002251   \n",
       "Ticket_SOC      -0.018084       -0.002760  -0.002760   -0.006185  -0.002760   \n",
       "Ticket_SOP      -0.007362       -0.001124  -0.001124   -0.002518  -0.001124   \n",
       "Ticket_SOPP     -0.012765       -0.001948  -0.001948   -0.004366  -0.001948   \n",
       "Ticket_SOTONO2  -0.010417       -0.001590  -0.001590   -0.003563  -0.001590   \n",
       "Ticket_SOTONOQ  -0.028739       -0.004386  -0.004386   -0.009830  -0.004386   \n",
       "Ticket_SP       -0.007362       -0.001124  -0.001124   -0.002518  -0.001124   \n",
       "Ticket_STONO    -0.025661       -0.003917  -0.003917   -0.008777  -0.003917   \n",
       "Ticket_STONO2   -0.018084       -0.002760  -0.002760   -0.006185  -0.002760   \n",
       "Ticket_SWPP     -0.010417       -0.001590  -0.001590   -0.003563  -0.001590   \n",
       "Ticket_WC       -0.023399       -0.003571  -0.003571   -0.008004  -0.003571   \n",
       "Ticket_WEP      -0.012765       -0.001948  -0.001948   -0.004366  -0.001948   \n",
       "Ticket_XXX      -0.372322       -0.056825  -0.056825   -0.127352  -0.056825   \n",
       "\n",
       "                   ...      Ticket_SOPP  Ticket_SOTONO2  Ticket_SOTONOQ  \\\n",
       "Survived           ...        -0.045876       -0.037436       -0.067404   \n",
       "Ticket_A4          ...        -0.005172       -0.004221       -0.011644   \n",
       "Ticket_A5          ...        -0.009030       -0.007369       -0.020330   \n",
       "Ticket_AS          ...        -0.001948       -0.001590       -0.004386   \n",
       "Ticket_C           ...        -0.004366       -0.003563       -0.009830   \n",
       "Ticket_CA          ...        -0.012765       -0.010417       -0.028739   \n",
       "Ticket_CASOTON     ...        -0.001948       -0.001590       -0.004386   \n",
       "Ticket_FC          ...        -0.001948       -0.001590       -0.004386   \n",
       "Ticket_FCC         ...        -0.004366       -0.003563       -0.009830   \n",
       "Ticket_Fa          ...        -0.001948       -0.001590       -0.004386   \n",
       "Ticket_LINE        ...        -0.003903       -0.003185       -0.008787   \n",
       "Ticket_PC          ...        -0.015618       -0.012745       -0.035162   \n",
       "Ticket_PP          ...        -0.003378       -0.002757       -0.007606   \n",
       "Ticket_PPP         ...        -0.002757       -0.002250       -0.006207   \n",
       "Ticket_SC          ...        -0.001948       -0.001590       -0.004386   \n",
       "Ticket_SCA4        ...        -0.001948       -0.001590       -0.004386   \n",
       "Ticket_SCAH        ...        -0.003378       -0.002757       -0.007606   \n",
       "Ticket_SCOW        ...        -0.001948       -0.001590       -0.004386   \n",
       "Ticket_SCPARIS     ...        -0.005172       -0.004221       -0.011644   \n",
       "Ticket_SCParis     ...        -0.003903       -0.003185       -0.008787   \n",
       "Ticket_SOC         ...        -0.004786       -0.003905       -0.010775   \n",
       "Ticket_SOP         ...        -0.001948       -0.001590       -0.004386   \n",
       "Ticket_SOPP        ...         1.000000       -0.002757       -0.007606   \n",
       "Ticket_SOTONO2     ...        -0.002757        1.000000       -0.006207   \n",
       "Ticket_SOTONOQ     ...        -0.007606       -0.006207        1.000000   \n",
       "Ticket_SP          ...        -0.001948       -0.001590       -0.004386   \n",
       "Ticket_STONO       ...        -0.006791       -0.005542       -0.015289   \n",
       "Ticket_STONO2      ...        -0.004786       -0.003905       -0.010775   \n",
       "Ticket_SWPP        ...        -0.002757       -0.002250       -0.006207   \n",
       "Ticket_WC          ...        -0.006193       -0.005053       -0.013941   \n",
       "Ticket_WEP         ...        -0.003378       -0.002757       -0.007606   \n",
       "Ticket_XXX         ...        -0.098535       -0.080408       -0.221835   \n",
       "\n",
       "                Ticket_SP  Ticket_STONO  Ticket_STONO2  Ticket_SWPP  \\\n",
       "Survived        -0.026456      0.007887       0.019667     0.060095   \n",
       "Ticket_A4       -0.002983     -0.010397      -0.007327    -0.004221   \n",
       "Ticket_A5       -0.005208     -0.018153      -0.012792    -0.007369   \n",
       "Ticket_AS       -0.001124     -0.003917      -0.002760    -0.001590   \n",
       "Ticket_C        -0.002518     -0.008777      -0.006185    -0.003563   \n",
       "Ticket_CA       -0.007362     -0.025661      -0.018084    -0.010417   \n",
       "Ticket_CASOTON  -0.001124     -0.003917      -0.002760    -0.001590   \n",
       "Ticket_FC       -0.001124     -0.003917      -0.002760    -0.001590   \n",
       "Ticket_FCC      -0.002518     -0.008777      -0.006185    -0.003563   \n",
       "Ticket_Fa       -0.001124     -0.003917      -0.002760    -0.001590   \n",
       "Ticket_LINE     -0.002251     -0.007846      -0.005529    -0.003185   \n",
       "Ticket_PC       -0.009007     -0.031396      -0.022125    -0.012745   \n",
       "Ticket_PP       -0.001948     -0.006791      -0.004786    -0.002757   \n",
       "Ticket_PPP      -0.001590     -0.005542      -0.003905    -0.002250   \n",
       "Ticket_SC       -0.001124     -0.003917      -0.002760    -0.001590   \n",
       "Ticket_SCA4     -0.001124     -0.003917      -0.002760    -0.001590   \n",
       "Ticket_SCAH     -0.001948     -0.006791      -0.004786    -0.002757   \n",
       "Ticket_SCOW     -0.001124     -0.003917      -0.002760    -0.001590   \n",
       "Ticket_SCPARIS  -0.002983     -0.010397      -0.007327    -0.004221   \n",
       "Ticket_SCParis  -0.002251     -0.007846      -0.005529    -0.003185   \n",
       "Ticket_SOC      -0.002760     -0.009621      -0.006780    -0.003905   \n",
       "Ticket_SOP      -0.001124     -0.003917      -0.002760    -0.001590   \n",
       "Ticket_SOPP     -0.001948     -0.006791      -0.004786    -0.002757   \n",
       "Ticket_SOTONO2  -0.001590     -0.005542      -0.003905    -0.002250   \n",
       "Ticket_SOTONOQ  -0.004386     -0.015289      -0.010775    -0.006207   \n",
       "Ticket_SP        1.000000     -0.003917      -0.002760    -0.001590   \n",
       "Ticket_STONO    -0.003917      1.000000      -0.009621    -0.005542   \n",
       "Ticket_STONO2   -0.002760     -0.009621       1.000000    -0.003905   \n",
       "Ticket_SWPP     -0.001590     -0.005542      -0.003905     1.000000   \n",
       "Ticket_WC       -0.003571     -0.012448      -0.008772    -0.005053   \n",
       "Ticket_WEP      -0.001948     -0.006791      -0.004786    -0.002757   \n",
       "Ticket_XXX      -0.056825     -0.198077      -0.139586    -0.080408   \n",
       "\n",
       "                Ticket_WC  Ticket_WEP  Ticket_XXX  \n",
       "Survived        -0.062182   -0.006036    0.001492  \n",
       "Ticket_A4       -0.009481   -0.005172   -0.150855  \n",
       "Ticket_A5       -0.016552   -0.009030   -0.263382  \n",
       "Ticket_AS       -0.003571   -0.001948   -0.056825  \n",
       "Ticket_C        -0.008004   -0.004366   -0.127352  \n",
       "Ticket_CA       -0.023399   -0.012765   -0.372322  \n",
       "Ticket_CASOTON  -0.003571   -0.001948   -0.056825  \n",
       "Ticket_FC       -0.003571   -0.001948   -0.056825  \n",
       "Ticket_FCC      -0.008004   -0.004366   -0.127352  \n",
       "Ticket_Fa       -0.003571   -0.001948   -0.056825  \n",
       "Ticket_LINE     -0.007155   -0.003903   -0.113843  \n",
       "Ticket_PC       -0.028628   -0.015618   -0.455525  \n",
       "Ticket_PP       -0.006193   -0.003378   -0.098535  \n",
       "Ticket_PPP      -0.005053   -0.002757   -0.080408  \n",
       "Ticket_SC       -0.003571   -0.001948   -0.056825  \n",
       "Ticket_SCA4     -0.003571   -0.001948   -0.056825  \n",
       "Ticket_SCAH     -0.006193   -0.003378   -0.098535  \n",
       "Ticket_SCOW     -0.003571   -0.001948   -0.056825  \n",
       "Ticket_SCPARIS  -0.009481   -0.005172   -0.150855  \n",
       "Ticket_SCParis  -0.007155   -0.003903   -0.113843  \n",
       "Ticket_SOC      -0.008772   -0.004786   -0.139586  \n",
       "Ticket_SOP      -0.003571   -0.001948   -0.056825  \n",
       "Ticket_SOPP     -0.006193   -0.003378   -0.098535  \n",
       "Ticket_SOTONO2  -0.005053   -0.002757   -0.080408  \n",
       "Ticket_SOTONOQ  -0.013941   -0.007606   -0.221835  \n",
       "Ticket_SP       -0.003571   -0.001948   -0.056825  \n",
       "Ticket_STONO    -0.012448   -0.006791   -0.198077  \n",
       "Ticket_STONO2   -0.008772   -0.004786   -0.139586  \n",
       "Ticket_SWPP     -0.005053   -0.002757   -0.080408  \n",
       "Ticket_WC        1.000000   -0.006193   -0.180613  \n",
       "Ticket_WEP      -0.006193    1.000000   -0.098535  \n",
       "Ticket_XXX      -0.180613   -0.098535    1.000000  \n",
       "\n",
       "[32 rows x 32 columns]"
      ]
     },
     "execution_count": 17,
     "metadata": {},
     "output_type": "execute_result"
    }
   ],
   "source": [
    "# Ticket\n",
    "\n",
    "# a function that extracts each prefix of the ticket, returns 'XXX' if no prefix (i.e the ticket is a digit)\n",
    "def clean_ticket(ticket):\n",
    "    ticket = ticket.replace('.','')\n",
    "    ticket = ticket.replace('/','')\n",
    "    ticket = ticket.split()\n",
    "    ticket = map(lambda t : t.strip(), ticket)\n",
    "    ticket = list(filter(lambda t : not t.isdigit(), ticket))\n",
    "    if len(ticket) > 0:\n",
    "        return ticket[0]\n",
    "    else: \n",
    "        return 'XXX'\n",
    "\n",
    "# Extracting dummy variables from tickets:\n",
    "train_df = map_feature(train_df, 'Ticket', clean_ticket, None)\n",
    "train_df = transform_categorical_feature(train_df, 'Ticket', inplace=True)\n",
    "\n",
    "cols = ['Survived']\n",
    "cols.extend(get_dummies_cols_names(train_df, 'Ticket'))\n",
    "train_df[cols].corr()"
   ]
  },
  {
   "cell_type": "markdown",
   "metadata": {},
   "source": [
    "- No obvious correlation, only Ticket_PC gets higher correlation\n",
    "- Should we consider to probe sharing tickets?\n",
    "- Revisit:\n",
    "    - Consider drop these features?"
   ]
  },
  {
   "cell_type": "code",
   "execution_count": 18,
   "metadata": {},
   "outputs": [
    {
     "data": {
      "text/html": [
       "<div>\n",
       "<style>\n",
       "    .dataframe thead tr:only-child th {\n",
       "        text-align: right;\n",
       "    }\n",
       "\n",
       "    .dataframe thead th {\n",
       "        text-align: left;\n",
       "    }\n",
       "\n",
       "    .dataframe tbody tr th {\n",
       "        vertical-align: top;\n",
       "    }\n",
       "</style>\n",
       "<table border=\"1\" class=\"dataframe\">\n",
       "  <thead>\n",
       "    <tr style=\"text-align: right;\">\n",
       "      <th></th>\n",
       "      <th>Survived</th>\n",
       "      <th>Cabin_A</th>\n",
       "      <th>Cabin_B</th>\n",
       "      <th>Cabin_C</th>\n",
       "      <th>Cabin_D</th>\n",
       "      <th>Cabin_E</th>\n",
       "      <th>Cabin_F</th>\n",
       "      <th>Cabin_G</th>\n",
       "      <th>Cabin_T</th>\n",
       "      <th>Cabin_U</th>\n",
       "    </tr>\n",
       "  </thead>\n",
       "  <tbody>\n",
       "    <tr>\n",
       "      <th>Survived</th>\n",
       "      <td>1.000000</td>\n",
       "      <td>0.022287</td>\n",
       "      <td>0.175095</td>\n",
       "      <td>0.114652</td>\n",
       "      <td>0.150716</td>\n",
       "      <td>0.145321</td>\n",
       "      <td>0.057935</td>\n",
       "      <td>0.016040</td>\n",
       "      <td>-0.026456</td>\n",
       "      <td>-0.316912</td>\n",
       "    </tr>\n",
       "    <tr>\n",
       "      <th>Cabin_A</th>\n",
       "      <td>0.022287</td>\n",
       "      <td>1.000000</td>\n",
       "      <td>-0.030880</td>\n",
       "      <td>-0.034846</td>\n",
       "      <td>-0.025663</td>\n",
       "      <td>-0.025256</td>\n",
       "      <td>-0.015923</td>\n",
       "      <td>-0.008787</td>\n",
       "      <td>-0.004386</td>\n",
       "      <td>-0.240136</td>\n",
       "    </tr>\n",
       "    <tr>\n",
       "      <th>Cabin_B</th>\n",
       "      <td>0.175095</td>\n",
       "      <td>-0.030880</td>\n",
       "      <td>1.000000</td>\n",
       "      <td>-0.062841</td>\n",
       "      <td>-0.046280</td>\n",
       "      <td>-0.045547</td>\n",
       "      <td>-0.028715</td>\n",
       "      <td>-0.015847</td>\n",
       "      <td>-0.007910</td>\n",
       "      <td>-0.433053</td>\n",
       "    </tr>\n",
       "    <tr>\n",
       "      <th>Cabin_C</th>\n",
       "      <td>0.114652</td>\n",
       "      <td>-0.034846</td>\n",
       "      <td>-0.062841</td>\n",
       "      <td>1.000000</td>\n",
       "      <td>-0.052225</td>\n",
       "      <td>-0.051398</td>\n",
       "      <td>-0.032403</td>\n",
       "      <td>-0.017883</td>\n",
       "      <td>-0.008926</td>\n",
       "      <td>-0.488683</td>\n",
       "    </tr>\n",
       "    <tr>\n",
       "      <th>Cabin_D</th>\n",
       "      <td>0.150716</td>\n",
       "      <td>-0.025663</td>\n",
       "      <td>-0.046280</td>\n",
       "      <td>-0.052225</td>\n",
       "      <td>1.000000</td>\n",
       "      <td>-0.037852</td>\n",
       "      <td>-0.023864</td>\n",
       "      <td>-0.013170</td>\n",
       "      <td>-0.006574</td>\n",
       "      <td>-0.359896</td>\n",
       "    </tr>\n",
       "    <tr>\n",
       "      <th>Cabin_E</th>\n",
       "      <td>0.145321</td>\n",
       "      <td>-0.025256</td>\n",
       "      <td>-0.045547</td>\n",
       "      <td>-0.051398</td>\n",
       "      <td>-0.037852</td>\n",
       "      <td>1.000000</td>\n",
       "      <td>-0.023486</td>\n",
       "      <td>-0.012961</td>\n",
       "      <td>-0.006470</td>\n",
       "      <td>-0.354194</td>\n",
       "    </tr>\n",
       "    <tr>\n",
       "      <th>Cabin_F</th>\n",
       "      <td>0.057935</td>\n",
       "      <td>-0.015923</td>\n",
       "      <td>-0.028715</td>\n",
       "      <td>-0.032403</td>\n",
       "      <td>-0.023864</td>\n",
       "      <td>-0.023486</td>\n",
       "      <td>1.000000</td>\n",
       "      <td>-0.008171</td>\n",
       "      <td>-0.004079</td>\n",
       "      <td>-0.223299</td>\n",
       "    </tr>\n",
       "    <tr>\n",
       "      <th>Cabin_G</th>\n",
       "      <td>0.016040</td>\n",
       "      <td>-0.008787</td>\n",
       "      <td>-0.015847</td>\n",
       "      <td>-0.017883</td>\n",
       "      <td>-0.013170</td>\n",
       "      <td>-0.012961</td>\n",
       "      <td>-0.008171</td>\n",
       "      <td>1.000000</td>\n",
       "      <td>-0.002251</td>\n",
       "      <td>-0.123234</td>\n",
       "    </tr>\n",
       "    <tr>\n",
       "      <th>Cabin_T</th>\n",
       "      <td>-0.026456</td>\n",
       "      <td>-0.004386</td>\n",
       "      <td>-0.007910</td>\n",
       "      <td>-0.008926</td>\n",
       "      <td>-0.006574</td>\n",
       "      <td>-0.006470</td>\n",
       "      <td>-0.004079</td>\n",
       "      <td>-0.002251</td>\n",
       "      <td>1.000000</td>\n",
       "      <td>-0.061513</td>\n",
       "    </tr>\n",
       "    <tr>\n",
       "      <th>Cabin_U</th>\n",
       "      <td>-0.316912</td>\n",
       "      <td>-0.240136</td>\n",
       "      <td>-0.433053</td>\n",
       "      <td>-0.488683</td>\n",
       "      <td>-0.359896</td>\n",
       "      <td>-0.354194</td>\n",
       "      <td>-0.223299</td>\n",
       "      <td>-0.123234</td>\n",
       "      <td>-0.061513</td>\n",
       "      <td>1.000000</td>\n",
       "    </tr>\n",
       "  </tbody>\n",
       "</table>\n",
       "</div>"
      ],
      "text/plain": [
       "          Survived   Cabin_A   Cabin_B   Cabin_C   Cabin_D   Cabin_E  \\\n",
       "Survived  1.000000  0.022287  0.175095  0.114652  0.150716  0.145321   \n",
       "Cabin_A   0.022287  1.000000 -0.030880 -0.034846 -0.025663 -0.025256   \n",
       "Cabin_B   0.175095 -0.030880  1.000000 -0.062841 -0.046280 -0.045547   \n",
       "Cabin_C   0.114652 -0.034846 -0.062841  1.000000 -0.052225 -0.051398   \n",
       "Cabin_D   0.150716 -0.025663 -0.046280 -0.052225  1.000000 -0.037852   \n",
       "Cabin_E   0.145321 -0.025256 -0.045547 -0.051398 -0.037852  1.000000   \n",
       "Cabin_F   0.057935 -0.015923 -0.028715 -0.032403 -0.023864 -0.023486   \n",
       "Cabin_G   0.016040 -0.008787 -0.015847 -0.017883 -0.013170 -0.012961   \n",
       "Cabin_T  -0.026456 -0.004386 -0.007910 -0.008926 -0.006574 -0.006470   \n",
       "Cabin_U  -0.316912 -0.240136 -0.433053 -0.488683 -0.359896 -0.354194   \n",
       "\n",
       "           Cabin_F   Cabin_G   Cabin_T   Cabin_U  \n",
       "Survived  0.057935  0.016040 -0.026456 -0.316912  \n",
       "Cabin_A  -0.015923 -0.008787 -0.004386 -0.240136  \n",
       "Cabin_B  -0.028715 -0.015847 -0.007910 -0.433053  \n",
       "Cabin_C  -0.032403 -0.017883 -0.008926 -0.488683  \n",
       "Cabin_D  -0.023864 -0.013170 -0.006574 -0.359896  \n",
       "Cabin_E  -0.023486 -0.012961 -0.006470 -0.354194  \n",
       "Cabin_F   1.000000 -0.008171 -0.004079 -0.223299  \n",
       "Cabin_G  -0.008171  1.000000 -0.002251 -0.123234  \n",
       "Cabin_T  -0.004079 -0.002251  1.000000 -0.061513  \n",
       "Cabin_U  -0.223299 -0.123234 -0.061513  1.000000  "
      ]
     },
     "execution_count": 18,
     "metadata": {},
     "output_type": "execute_result"
    }
   ],
   "source": [
    "# Cabin (lots of missing values, very few duplications)\n",
    "\n",
    "# replacing missing cabins with U (for Uknown)\n",
    "train_df['Cabin'].fillna('U', inplace=True)\n",
    "\n",
    "extract_cabin = (lambda c: c[0])\n",
    "train_df = map_feature(train_df, 'Cabin', extract_cabin, None)\n",
    "train_df = transform_categorical_feature(train_df, 'Cabin', inplace=True)\n",
    "\n",
    "cols = ['Survived']\n",
    "cols.extend(get_dummies_cols_names(train_df, 'Cabin'))\n",
    "train_df[cols].corr()    "
   ]
  },
  {
   "cell_type": "markdown",
   "metadata": {},
   "source": [
    "- Some cabin classes have better survived ratio, while unknown cabin has bad survived ratio\n",
    "- List cabin one-hot encoding feature as candidate features\n",
    "- Revisit:\n",
    "    - Perhaps try (1) drop these features (2) keep 2 classes only, known & unknown cabins"
   ]
  },
  {
   "cell_type": "code",
   "execution_count": 19,
   "metadata": {},
   "outputs": [
    {
     "name": "stdout",
     "output_type": "stream",
     "text": [
      "S    644\n",
      "C    168\n",
      "Q     77\n",
      "Name: Embarked, dtype: int64\n"
     ]
    },
    {
     "name": "stderr",
     "output_type": "stream",
     "text": [
      "/opt/conda/lib/python3.6/site-packages/seaborn/categorical.py:342: DeprecationWarning: pandas.core.common.is_categorical_dtype is deprecated. import from the public API: pandas.api.types.is_categorical_dtype instead\n",
      "  elif is_categorical(y):\n"
     ]
    },
    {
     "data": {
      "text/plain": [
       "<matplotlib.axes._subplots.AxesSubplot at 0x7efbb7aa82e8>"
      ]
     },
     "execution_count": 19,
     "metadata": {},
     "output_type": "execute_result"
    },
    {
     "data": {
      "image/png": "[encoded data removed]",
      "text/plain": [
       "<matplotlib.figure.Figure at 0x7efbb7d299b0>"
      ]
     },
     "metadata": {},
     "output_type": "display_data"
    }
   ],
   "source": [
    "# Embarked\n",
    "\n",
    "print(train_df['Embarked'].value_counts())\n",
    "mean_survival_per_embark = train_df[[\"Survived\", \"Embarked\"]].groupby(['Embarked'], as_index=False).mean()\n",
    "sns.barplot(x='Embarked', y='Survived', data=mean_survival_per_embark)"
   ]
  },
  {
   "cell_type": "markdown",
   "metadata": {},
   "source": [
    "- Embarked is related to Survived, list it as a candidate feature"
   ]
  },
  {
   "cell_type": "markdown",
   "metadata": {},
   "source": [
    "# Deal with missing values"
   ]
  },
  {
   "cell_type": "markdown",
   "metadata": {},
   "source": [
    "## Hereafter, we'll perform transformation on total_df, while exploring on train_df if needed"
   ]
  },
  {
   "cell_type": "code",
   "execution_count": 20,
   "metadata": {
    "collapsed": true
   },
   "outputs": [],
   "source": [
    "# since we'd perform transformation on total_df, \n",
    "# we need to apply those transformation we did during data exploration phase (applied on train_df).\n",
    "\n",
    "total_df = map_feature(total_df, 'Sex', None, sex_mapping)\n",
    "total_df = map_feature(total_df, 'Name', name_preprocess, title_mapping)\n",
    "total_df = transform_categorical_feature(total_df, 'Name', inplace=False) # keep 'Name' \n",
    "total_df = map_feature(total_df, 'Ticket', clean_ticket, None)\n",
    "total_df = transform_categorical_feature(total_df, 'Ticket', inplace=True)\n",
    "total_df['Cabin'].fillna('U', inplace=True)\n",
    "total_df = map_feature(total_df, 'Cabin', extract_cabin, None)\n",
    "total_df = transform_categorical_feature(total_df, 'Cabin', inplace=True)"
   ]
  },
  {
   "cell_type": "code",
   "execution_count": 21,
   "metadata": {},
   "outputs": [
    {
     "data": {
      "text/html": [
       "<div>\n",
       "<style>\n",
       "    .dataframe thead tr:only-child th {\n",
       "        text-align: right;\n",
       "    }\n",
       "\n",
       "    .dataframe thead th {\n",
       "        text-align: left;\n",
       "    }\n",
       "\n",
       "    .dataframe tbody tr th {\n",
       "        vertical-align: top;\n",
       "    }\n",
       "</style>\n",
       "<table border=\"1\" class=\"dataframe\">\n",
       "  <thead>\n",
       "    <tr style=\"text-align: right;\">\n",
       "      <th></th>\n",
       "      <th>Age</th>\n",
       "      <th>Embarked</th>\n",
       "      <th>Fare</th>\n",
       "      <th>Name</th>\n",
       "      <th>Parch</th>\n",
       "      <th>PassengerId</th>\n",
       "      <th>Pclass</th>\n",
       "      <th>Sex</th>\n",
       "      <th>SibSp</th>\n",
       "      <th>Survived</th>\n",
       "      <th>...</th>\n",
       "      <th>Ticket_XXX</th>\n",
       "      <th>Cabin_A</th>\n",
       "      <th>Cabin_B</th>\n",
       "      <th>Cabin_C</th>\n",
       "      <th>Cabin_D</th>\n",
       "      <th>Cabin_E</th>\n",
       "      <th>Cabin_F</th>\n",
       "      <th>Cabin_G</th>\n",
       "      <th>Cabin_T</th>\n",
       "      <th>Cabin_U</th>\n",
       "    </tr>\n",
       "  </thead>\n",
       "  <tbody>\n",
       "    <tr>\n",
       "      <th>61</th>\n",
       "      <td>38.0</td>\n",
       "      <td>NaN</td>\n",
       "      <td>80.0</td>\n",
       "      <td>Miss</td>\n",
       "      <td>0</td>\n",
       "      <td>62</td>\n",
       "      <td>1</td>\n",
       "      <td>1</td>\n",
       "      <td>0</td>\n",
       "      <td>1.0</td>\n",
       "      <td>...</td>\n",
       "      <td>1</td>\n",
       "      <td>0</td>\n",
       "      <td>1</td>\n",
       "      <td>0</td>\n",
       "      <td>0</td>\n",
       "      <td>0</td>\n",
       "      <td>0</td>\n",
       "      <td>0</td>\n",
       "      <td>0</td>\n",
       "      <td>0</td>\n",
       "    </tr>\n",
       "    <tr>\n",
       "      <th>829</th>\n",
       "      <td>62.0</td>\n",
       "      <td>NaN</td>\n",
       "      <td>80.0</td>\n",
       "      <td>Mrs</td>\n",
       "      <td>0</td>\n",
       "      <td>830</td>\n",
       "      <td>1</td>\n",
       "      <td>1</td>\n",
       "      <td>0</td>\n",
       "      <td>1.0</td>\n",
       "      <td>...</td>\n",
       "      <td>1</td>\n",
       "      <td>0</td>\n",
       "      <td>1</td>\n",
       "      <td>0</td>\n",
       "      <td>0</td>\n",
       "      <td>0</td>\n",
       "      <td>0</td>\n",
       "      <td>0</td>\n",
       "      <td>0</td>\n",
       "      <td>0</td>\n",
       "    </tr>\n",
       "  </tbody>\n",
       "</table>\n",
       "<p>2 rows × 62 columns</p>\n",
       "</div>"
      ],
      "text/plain": [
       "      Age Embarked  Fare  Name  Parch  PassengerId  Pclass  Sex  SibSp  \\\n",
       "61   38.0      NaN  80.0  Miss      0           62       1    1      0   \n",
       "829  62.0      NaN  80.0   Mrs      0          830       1    1      0   \n",
       "\n",
       "     Survived   ...     Ticket_XXX  Cabin_A  Cabin_B  Cabin_C  Cabin_D  \\\n",
       "61        1.0   ...              1        0        1        0        0   \n",
       "829       1.0   ...              1        0        1        0        0   \n",
       "\n",
       "     Cabin_E  Cabin_F  Cabin_G  Cabin_T  Cabin_U  \n",
       "61         0        0        0        0        0  \n",
       "829        0        0        0        0        0  \n",
       "\n",
       "[2 rows x 62 columns]"
      ]
     },
     "execution_count": 21,
     "metadata": {},
     "output_type": "execute_result"
    }
   ],
   "source": [
    "# Embarked (2 missings)\n",
    "\n",
    "total_df[total_df['Embarked'].isnull()]"
   ]
  },
  {
   "cell_type": "markdown",
   "metadata": {},
   "source": [
    "- The two persons lacking of Embarked value are all Pclass=1 & Fare=80.0, try to check Pclass/Fare/Embarked "
   ]
  },
  {
   "cell_type": "code",
   "execution_count": 22,
   "metadata": {},
   "outputs": [
    {
     "name": "stderr",
     "output_type": "stream",
     "text": [
      "/opt/conda/lib/python3.6/site-packages/seaborn/categorical.py:342: DeprecationWarning: pandas.core.common.is_categorical_dtype is deprecated. import from the public API: pandas.api.types.is_categorical_dtype instead\n",
      "  elif is_categorical(y):\n"
     ]
    },
    {
     "data": {
      "text/plain": [
       "<matplotlib.axes._subplots.AxesSubplot at 0x7efbb79ca7f0>"
      ]
     },
     "execution_count": 22,
     "metadata": {},
     "output_type": "execute_result"
    },
    {
     "data": {
      "image/png": "[encoded data removed]",
      "text/plain": [
       "<matplotlib.figure.Figure at 0x7efbb7aad518>"
      ]
     },
     "metadata": {},
     "output_type": "display_data"
    }
   ],
   "source": [
    "sns.boxplot(x='Embarked', y='Fare', hue='Pclass', data=total_df)"
   ]
  },
  {
   "cell_type": "markdown",
   "metadata": {},
   "source": [
    "- Embarked 'C' seems to be a good fit for Pclass=1 & Fare=80.0"
   ]
  },
  {
   "cell_type": "code",
   "execution_count": 23,
   "metadata": {},
   "outputs": [
    {
     "data": {
      "text/html": [
       "<div>\n",
       "<style>\n",
       "    .dataframe thead tr:only-child th {\n",
       "        text-align: right;\n",
       "    }\n",
       "\n",
       "    .dataframe thead th {\n",
       "        text-align: left;\n",
       "    }\n",
       "\n",
       "    .dataframe tbody tr th {\n",
       "        vertical-align: top;\n",
       "    }\n",
       "</style>\n",
       "<table border=\"1\" class=\"dataframe\">\n",
       "  <thead>\n",
       "    <tr style=\"text-align: right;\">\n",
       "      <th></th>\n",
       "      <th>Survived</th>\n",
       "      <th>Embarked_C</th>\n",
       "      <th>Embarked_Q</th>\n",
       "      <th>Embarked_S</th>\n",
       "    </tr>\n",
       "  </thead>\n",
       "  <tbody>\n",
       "    <tr>\n",
       "      <th>Survived</th>\n",
       "      <td>1.000000</td>\n",
       "      <td>0.174718</td>\n",
       "      <td>0.003650</td>\n",
       "      <td>-0.155660</td>\n",
       "    </tr>\n",
       "    <tr>\n",
       "      <th>Embarked_C</th>\n",
       "      <td>0.174718</td>\n",
       "      <td>1.000000</td>\n",
       "      <td>-0.164932</td>\n",
       "      <td>-0.779058</td>\n",
       "    </tr>\n",
       "    <tr>\n",
       "      <th>Embarked_Q</th>\n",
       "      <td>0.003650</td>\n",
       "      <td>-0.164932</td>\n",
       "      <td>1.000000</td>\n",
       "      <td>-0.489874</td>\n",
       "    </tr>\n",
       "    <tr>\n",
       "      <th>Embarked_S</th>\n",
       "      <td>-0.155660</td>\n",
       "      <td>-0.779058</td>\n",
       "      <td>-0.489874</td>\n",
       "      <td>1.000000</td>\n",
       "    </tr>\n",
       "  </tbody>\n",
       "</table>\n",
       "</div>"
      ],
      "text/plain": [
       "            Survived  Embarked_C  Embarked_Q  Embarked_S\n",
       "Survived    1.000000    0.174718    0.003650   -0.155660\n",
       "Embarked_C  0.174718    1.000000   -0.164932   -0.779058\n",
       "Embarked_Q  0.003650   -0.164932    1.000000   -0.489874\n",
       "Embarked_S -0.155660   -0.779058   -0.489874    1.000000"
      ]
     },
     "execution_count": 23,
     "metadata": {},
     "output_type": "execute_result"
    }
   ],
   "source": [
    "total_df['Embarked'].fillna('C', inplace=True)\n",
    "total_df = transform_categorical_feature(total_df, 'Embarked', inplace=True)\n",
    "\n",
    "cols = ['Survived']\n",
    "cols.extend(get_dummies_cols_names(total_df, 'Embarked'))\n",
    "total_df[cols].corr() "
   ]
  },
  {
   "cell_type": "code",
   "execution_count": 24,
   "metadata": {},
   "outputs": [
    {
     "data": {
      "text/html": [
       "<div>\n",
       "<style>\n",
       "    .dataframe thead tr:only-child th {\n",
       "        text-align: right;\n",
       "    }\n",
       "\n",
       "    .dataframe thead th {\n",
       "        text-align: left;\n",
       "    }\n",
       "\n",
       "    .dataframe tbody tr th {\n",
       "        vertical-align: top;\n",
       "    }\n",
       "</style>\n",
       "<table border=\"1\" class=\"dataframe\">\n",
       "  <thead>\n",
       "    <tr style=\"text-align: right;\">\n",
       "      <th></th>\n",
       "      <th>Age</th>\n",
       "      <th>Sex</th>\n",
       "      <th>Pclass</th>\n",
       "      <th>SibSp</th>\n",
       "      <th>Parch</th>\n",
       "      <th>Name_Master</th>\n",
       "      <th>Name_Miss</th>\n",
       "      <th>Name_Mr</th>\n",
       "      <th>Name_Mrs</th>\n",
       "      <th>Name_Officer</th>\n",
       "      <th>Name_Royalty</th>\n",
       "    </tr>\n",
       "  </thead>\n",
       "  <tbody>\n",
       "    <tr>\n",
       "      <th>Age</th>\n",
       "      <td>1.000000</td>\n",
       "      <td>-0.063645</td>\n",
       "      <td>-0.408106</td>\n",
       "      <td>-0.243699</td>\n",
       "      <td>-0.150917</td>\n",
       "      <td>-0.391259</td>\n",
       "      <td>-0.282977</td>\n",
       "      <td>0.183965</td>\n",
       "      <td>0.215091</td>\n",
       "      <td>0.166771</td>\n",
       "      <td>0.059500</td>\n",
       "    </tr>\n",
       "    <tr>\n",
       "      <th>Sex</th>\n",
       "      <td>-0.063645</td>\n",
       "      <td>1.000000</td>\n",
       "      <td>-0.124617</td>\n",
       "      <td>0.109609</td>\n",
       "      <td>0.213125</td>\n",
       "      <td>-0.164375</td>\n",
       "      <td>0.672819</td>\n",
       "      <td>-0.870678</td>\n",
       "      <td>0.571176</td>\n",
       "      <td>-0.087288</td>\n",
       "      <td>0.020408</td>\n",
       "    </tr>\n",
       "    <tr>\n",
       "      <th>Pclass</th>\n",
       "      <td>-0.408106</td>\n",
       "      <td>-0.124617</td>\n",
       "      <td>1.000000</td>\n",
       "      <td>0.060832</td>\n",
       "      <td>0.018322</td>\n",
       "      <td>0.095257</td>\n",
       "      <td>0.024487</td>\n",
       "      <td>0.121492</td>\n",
       "      <td>-0.179945</td>\n",
       "      <td>-0.137341</td>\n",
       "      <td>-0.104916</td>\n",
       "    </tr>\n",
       "    <tr>\n",
       "      <th>SibSp</th>\n",
       "      <td>-0.243699</td>\n",
       "      <td>0.109609</td>\n",
       "      <td>0.060832</td>\n",
       "      <td>1.000000</td>\n",
       "      <td>0.373587</td>\n",
       "      <td>0.329171</td>\n",
       "      <td>0.077564</td>\n",
       "      <td>-0.243104</td>\n",
       "      <td>0.061643</td>\n",
       "      <td>-0.013813</td>\n",
       "      <td>-0.010787</td>\n",
       "    </tr>\n",
       "    <tr>\n",
       "      <th>Parch</th>\n",
       "      <td>-0.150917</td>\n",
       "      <td>0.213125</td>\n",
       "      <td>0.018322</td>\n",
       "      <td>0.373587</td>\n",
       "      <td>1.000000</td>\n",
       "      <td>0.253482</td>\n",
       "      <td>0.066473</td>\n",
       "      <td>-0.304780</td>\n",
       "      <td>0.213491</td>\n",
       "      <td>-0.032631</td>\n",
       "      <td>-0.030197</td>\n",
       "    </tr>\n",
       "    <tr>\n",
       "      <th>Name_Master</th>\n",
       "      <td>-0.391259</td>\n",
       "      <td>-0.164375</td>\n",
       "      <td>0.095257</td>\n",
       "      <td>0.329171</td>\n",
       "      <td>0.253482</td>\n",
       "      <td>1.000000</td>\n",
       "      <td>-0.110595</td>\n",
       "      <td>-0.258902</td>\n",
       "      <td>-0.093887</td>\n",
       "      <td>-0.029567</td>\n",
       "      <td>-0.015002</td>\n",
       "    </tr>\n",
       "    <tr>\n",
       "      <th>Name_Miss</th>\n",
       "      <td>-0.282977</td>\n",
       "      <td>0.672819</td>\n",
       "      <td>0.024487</td>\n",
       "      <td>0.077564</td>\n",
       "      <td>0.066473</td>\n",
       "      <td>-0.110595</td>\n",
       "      <td>1.000000</td>\n",
       "      <td>-0.585809</td>\n",
       "      <td>-0.212435</td>\n",
       "      <td>-0.066899</td>\n",
       "      <td>-0.033945</td>\n",
       "    </tr>\n",
       "    <tr>\n",
       "      <th>Name_Mr</th>\n",
       "      <td>0.183965</td>\n",
       "      <td>-0.870678</td>\n",
       "      <td>0.121492</td>\n",
       "      <td>-0.243104</td>\n",
       "      <td>-0.304780</td>\n",
       "      <td>-0.258902</td>\n",
       "      <td>-0.585809</td>\n",
       "      <td>1.000000</td>\n",
       "      <td>-0.497310</td>\n",
       "      <td>-0.156611</td>\n",
       "      <td>-0.079466</td>\n",
       "    </tr>\n",
       "    <tr>\n",
       "      <th>Name_Mrs</th>\n",
       "      <td>0.215091</td>\n",
       "      <td>0.571176</td>\n",
       "      <td>-0.179945</td>\n",
       "      <td>0.061643</td>\n",
       "      <td>0.213491</td>\n",
       "      <td>-0.093887</td>\n",
       "      <td>-0.212435</td>\n",
       "      <td>-0.497310</td>\n",
       "      <td>1.000000</td>\n",
       "      <td>-0.056793</td>\n",
       "      <td>-0.028817</td>\n",
       "    </tr>\n",
       "    <tr>\n",
       "      <th>Name_Officer</th>\n",
       "      <td>0.166771</td>\n",
       "      <td>-0.087288</td>\n",
       "      <td>-0.137341</td>\n",
       "      <td>-0.013813</td>\n",
       "      <td>-0.032631</td>\n",
       "      <td>-0.029567</td>\n",
       "      <td>-0.066899</td>\n",
       "      <td>-0.156611</td>\n",
       "      <td>-0.056793</td>\n",
       "      <td>1.000000</td>\n",
       "      <td>-0.009075</td>\n",
       "    </tr>\n",
       "    <tr>\n",
       "      <th>Name_Royalty</th>\n",
       "      <td>0.059500</td>\n",
       "      <td>0.020408</td>\n",
       "      <td>-0.104916</td>\n",
       "      <td>-0.010787</td>\n",
       "      <td>-0.030197</td>\n",
       "      <td>-0.015002</td>\n",
       "      <td>-0.033945</td>\n",
       "      <td>-0.079466</td>\n",
       "      <td>-0.028817</td>\n",
       "      <td>-0.009075</td>\n",
       "      <td>1.000000</td>\n",
       "    </tr>\n",
       "  </tbody>\n",
       "</table>\n",
       "</div>"
      ],
      "text/plain": [
       "                   Age       Sex    Pclass     SibSp     Parch  Name_Master  \\\n",
       "Age           1.000000 -0.063645 -0.408106 -0.243699 -0.150917    -0.391259   \n",
       "Sex          -0.063645  1.000000 -0.124617  0.109609  0.213125    -0.164375   \n",
       "Pclass       -0.408106 -0.124617  1.000000  0.060832  0.018322     0.095257   \n",
       "SibSp        -0.243699  0.109609  0.060832  1.000000  0.373587     0.329171   \n",
       "Parch        -0.150917  0.213125  0.018322  0.373587  1.000000     0.253482   \n",
       "Name_Master  -0.391259 -0.164375  0.095257  0.329171  0.253482     1.000000   \n",
       "Name_Miss    -0.282977  0.672819  0.024487  0.077564  0.066473    -0.110595   \n",
       "Name_Mr       0.183965 -0.870678  0.121492 -0.243104 -0.304780    -0.258902   \n",
       "Name_Mrs      0.215091  0.571176 -0.179945  0.061643  0.213491    -0.093887   \n",
       "Name_Officer  0.166771 -0.087288 -0.137341 -0.013813 -0.032631    -0.029567   \n",
       "Name_Royalty  0.059500  0.020408 -0.104916 -0.010787 -0.030197    -0.015002   \n",
       "\n",
       "              Name_Miss   Name_Mr  Name_Mrs  Name_Officer  Name_Royalty  \n",
       "Age           -0.282977  0.183965  0.215091      0.166771      0.059500  \n",
       "Sex            0.672819 -0.870678  0.571176     -0.087288      0.020408  \n",
       "Pclass         0.024487  0.121492 -0.179945     -0.137341     -0.104916  \n",
       "SibSp          0.077564 -0.243104  0.061643     -0.013813     -0.010787  \n",
       "Parch          0.066473 -0.304780  0.213491     -0.032631     -0.030197  \n",
       "Name_Master   -0.110595 -0.258902 -0.093887     -0.029567     -0.015002  \n",
       "Name_Miss      1.000000 -0.585809 -0.212435     -0.066899     -0.033945  \n",
       "Name_Mr       -0.585809  1.000000 -0.497310     -0.156611     -0.079466  \n",
       "Name_Mrs      -0.212435 -0.497310  1.000000     -0.056793     -0.028817  \n",
       "Name_Officer  -0.066899 -0.156611 -0.056793      1.000000     -0.009075  \n",
       "Name_Royalty  -0.033945 -0.079466 -0.028817     -0.009075      1.000000  "
      ]
     },
     "execution_count": 24,
     "metadata": {},
     "output_type": "execute_result"
    }
   ],
   "source": [
    "# Check age with so-far important features\n",
    "\n",
    "cols = ['Age', 'Sex', 'Pclass', 'SibSp', 'Parch']\n",
    "cols.extend(get_dummies_cols_names(total_df, 'Name'))\n",
    "total_df[cols].corr()"
   ]
  },
  {
   "cell_type": "markdown",
   "metadata": {},
   "source": [
    "- Age distribution is related to Pclass, SibSp, Name_dummies_features"
   ]
  },
  {
   "cell_type": "code",
   "execution_count": 25,
   "metadata": {},
   "outputs": [
    {
     "name": "stdout",
     "output_type": "stream",
     "text": [
      "                        Age\n",
      "Pclass Name    SibSp       \n",
      "1      Master  0       5.00\n",
      "               1       5.96\n",
      "               2      13.00\n",
      "       Miss    0      30.00\n",
      "               1      32.00\n",
      "               2      19.50\n",
      "               3      24.00\n",
      "       Mr      0      41.00\n",
      "               1      42.00\n",
      "               3      19.00\n",
      "       Mrs     0      51.00\n",
      "               1      39.00\n",
      "               2      55.00\n",
      "       Officer 0      52.00\n",
      "               1      53.00\n",
      "               2      47.00\n",
      "       Royalty 0      38.50\n",
      "               1      48.50\n",
      "2      Master  0       1.00\n",
      "               1       2.00\n",
      "               2       1.00\n",
      "       Miss    0      24.00\n",
      "               1      13.00\n",
      "               2      12.00\n",
      "       Mr      0      29.50\n",
      "               1      32.50\n",
      "               2      23.50\n",
      "       Mrs     0      33.50\n",
      "               1      29.00\n",
      "               2      24.00\n",
      "               3      30.00\n",
      "       Officer 0      41.50\n",
      "               1      42.00\n",
      "3      Master  0       6.00\n",
      "               1       6.00\n",
      "               3       5.00\n",
      "               4       5.00\n",
      "               5       9.00\n",
      "               8      14.50\n",
      "       Miss    0      22.00\n",
      "               1       9.00\n",
      "               2       9.00\n",
      "               3       5.50\n",
      "               4       9.00\n",
      "               5      13.00\n",
      "       Mr      0      26.00\n",
      "               1      26.00\n",
      "               2      24.00\n",
      "               3      30.00\n",
      "               4      15.00\n",
      "               5      14.00\n",
      "       Mrs     0      31.00\n",
      "               1      31.00\n",
      "               3      33.00\n",
      "                 Age\n",
      "Pclass Name         \n",
      "1      Master    6.0\n",
      "       Miss     30.0\n",
      "       Mr       41.5\n",
      "       Mrs      45.0\n",
      "       Officer  51.0\n",
      "       Royalty  39.5\n",
      "2      Master    2.0\n",
      "       Miss     20.0\n",
      "       Mr       30.0\n",
      "       Mrs      30.0\n",
      "       Officer  41.5\n",
      "3      Master    6.0\n",
      "       Miss     18.0\n",
      "       Mr       26.0\n",
      "       Mrs      31.0\n"
     ]
    }
   ],
   "source": [
    "# Fill missing values of age with median (combined train + test)\n",
    "age_matrix1 = total_df[['Age','Pclass','Name','SibSp']].dropna().groupby(['Pclass', 'Name', 'SibSp']).median()\n",
    "print(age_matrix1)\n",
    "age_matrix2 = total_df[['Age','Pclass','Name']].dropna().groupby(['Pclass', 'Name']).median()\n",
    "print(age_matrix2)\n",
    "\n",
    "\n",
    "def fill_ages(dataset):\n",
    "    for index, row in dataset[dataset['Age'].isnull()].iterrows():\n",
    "        pcls, title, sibsp = row['Pclass'], row['Name'], row['SibSp']\n",
    "        try:\n",
    "            median_age = age_matrix1.loc[pcls, title, sibsp].values\n",
    "        except KeyError:\n",
    "#             print(pcls, title, sibsp)\n",
    "            median_age = age_matrix2.loc[pcls, title].values\n",
    "        dataset.loc[index, 'Age'] = median_age\n",
    "#         print('idx %d: fill %f (pcls=%d, title=%s, sibsp=%d)' % (index, median_age, pcls, title, sibsp))\n",
    "    return dataset\n",
    "\n",
    "total_df = fill_ages(total_df)"
   ]
  },
  {
   "cell_type": "code",
   "execution_count": 26,
   "metadata": {},
   "outputs": [
    {
     "name": "stdout",
     "output_type": "stream",
     "text": [
      "1043    3\n",
      "Name: Pclass, dtype: int64\n"
     ]
    }
   ],
   "source": [
    "## Fill missing value of Fare in test\n",
    "\n",
    "print(total_df['Pclass'][total_df['Fare'].isnull()])\n",
    "\n",
    "mean_fare_pclass_3 = total_df[['Fare', 'Pclass']].groupby(['Pclass'], as_index=False).mean().sort_values(by='Pclass', ascending=False).values[0][1]\n",
    "total_df['Fare'].fillna(mean_fare_pclass_3, inplace=True)"
   ]
  },
  {
   "cell_type": "code",
   "execution_count": 27,
   "metadata": {},
   "outputs": [
    {
     "name": "stdout",
     "output_type": "stream",
     "text": [
      "Survived    418\n",
      "dtype: int64\n"
     ]
    }
   ],
   "source": [
    "print(total_df[get_missing_cols(total_df)].isnull().sum())"
   ]
  },
  {
   "cell_type": "markdown",
   "metadata": {},
   "source": [
    "- missing 418 Survived is expected for test data "
   ]
  },
  {
   "cell_type": "markdown",
   "metadata": {},
   "source": [
    "## No missing values now, let's do some feature engineering"
   ]
  },
  {
   "cell_type": "code",
   "execution_count": 28,
   "metadata": {
    "collapsed": true
   },
   "outputs": [],
   "source": [
    "## SibSp & Parch => FamilySize\n",
    "\n",
    "total_df['FamilySize'] = total_df['SibSp'] + total_df['Parch'] + 1\n",
    "\n",
    "# total_df[['FamilySize', 'Survived']].groupby(['FamilySize'], as_index=False).mean().sort_values(by='Survived', ascending=False)\n",
    "total_df['Singleton'] = total_df['FamilySize'].map(lambda s: 1 if s == 1 else 0)\n",
    "total_df['SmallFamily'] = total_df['FamilySize'].map(lambda s: 1 if 2<=s<=4 else 0)\n",
    "total_df['LargeFamily'] = total_df['FamilySize'].map(lambda s: 1 if 5<=s else 0)\n",
    "\n",
    "total_df.drop(['SibSp', 'Parch', 'FamilySize'], axis=1, inplace=True)\n"
   ]
  },
  {
   "cell_type": "code",
   "execution_count": 29,
   "metadata": {
    "collapsed": true
   },
   "outputs": [],
   "source": [
    "## Add Child\n",
    "\n",
    "total_df['Child'] = total_df['Age'].map(lambda s: 1 if s <= 10 else 0)\n",
    "\n",
    "## Drop Name\n",
    "total_df.drop(['Name'], axis=1, inplace=True)\n",
    "\n",
    "## Drop PassengerId\n",
    "total_df.drop(['PassengerId'], axis=1, inplace=True)"
   ]
  },
  {
   "cell_type": "code",
   "execution_count": 30,
   "metadata": {},
   "outputs": [
    {
     "data": {
      "text/html": [
       "<div>\n",
       "<style>\n",
       "    .dataframe thead tr:only-child th {\n",
       "        text-align: right;\n",
       "    }\n",
       "\n",
       "    .dataframe thead th {\n",
       "        text-align: left;\n",
       "    }\n",
       "\n",
       "    .dataframe tbody tr th {\n",
       "        vertical-align: top;\n",
       "    }\n",
       "</style>\n",
       "<table border=\"1\" class=\"dataframe\">\n",
       "  <thead>\n",
       "    <tr style=\"text-align: right;\">\n",
       "      <th></th>\n",
       "      <th>Age</th>\n",
       "      <th>Fare</th>\n",
       "      <th>Pclass</th>\n",
       "      <th>Sex</th>\n",
       "      <th>Survived</th>\n",
       "      <th>Name_Master</th>\n",
       "      <th>Name_Miss</th>\n",
       "      <th>Name_Mr</th>\n",
       "      <th>Name_Mrs</th>\n",
       "      <th>Name_Officer</th>\n",
       "      <th>...</th>\n",
       "      <th>Cabin_G</th>\n",
       "      <th>Cabin_T</th>\n",
       "      <th>Cabin_U</th>\n",
       "      <th>Embarked_C</th>\n",
       "      <th>Embarked_Q</th>\n",
       "      <th>Embarked_S</th>\n",
       "      <th>Singleton</th>\n",
       "      <th>SmallFamily</th>\n",
       "      <th>LargeFamily</th>\n",
       "      <th>Child</th>\n",
       "    </tr>\n",
       "  </thead>\n",
       "  <tbody>\n",
       "    <tr>\n",
       "      <th>0</th>\n",
       "      <td>22.0</td>\n",
       "      <td>7.2500</td>\n",
       "      <td>3</td>\n",
       "      <td>0</td>\n",
       "      <td>0.0</td>\n",
       "      <td>0</td>\n",
       "      <td>0</td>\n",
       "      <td>1</td>\n",
       "      <td>0</td>\n",
       "      <td>0</td>\n",
       "      <td>...</td>\n",
       "      <td>0</td>\n",
       "      <td>0</td>\n",
       "      <td>1</td>\n",
       "      <td>0</td>\n",
       "      <td>0</td>\n",
       "      <td>1</td>\n",
       "      <td>0</td>\n",
       "      <td>1</td>\n",
       "      <td>0</td>\n",
       "      <td>0</td>\n",
       "    </tr>\n",
       "    <tr>\n",
       "      <th>1</th>\n",
       "      <td>38.0</td>\n",
       "      <td>71.2833</td>\n",
       "      <td>1</td>\n",
       "      <td>1</td>\n",
       "      <td>1.0</td>\n",
       "      <td>0</td>\n",
       "      <td>0</td>\n",
       "      <td>0</td>\n",
       "      <td>1</td>\n",
       "      <td>0</td>\n",
       "      <td>...</td>\n",
       "      <td>0</td>\n",
       "      <td>0</td>\n",
       "      <td>0</td>\n",
       "      <td>1</td>\n",
       "      <td>0</td>\n",
       "      <td>0</td>\n",
       "      <td>0</td>\n",
       "      <td>1</td>\n",
       "      <td>0</td>\n",
       "      <td>0</td>\n",
       "    </tr>\n",
       "    <tr>\n",
       "      <th>2</th>\n",
       "      <td>26.0</td>\n",
       "      <td>7.9250</td>\n",
       "      <td>3</td>\n",
       "      <td>1</td>\n",
       "      <td>1.0</td>\n",
       "      <td>0</td>\n",
       "      <td>1</td>\n",
       "      <td>0</td>\n",
       "      <td>0</td>\n",
       "      <td>0</td>\n",
       "      <td>...</td>\n",
       "      <td>0</td>\n",
       "      <td>0</td>\n",
       "      <td>1</td>\n",
       "      <td>0</td>\n",
       "      <td>0</td>\n",
       "      <td>1</td>\n",
       "      <td>1</td>\n",
       "      <td>0</td>\n",
       "      <td>0</td>\n",
       "      <td>0</td>\n",
       "    </tr>\n",
       "    <tr>\n",
       "      <th>3</th>\n",
       "      <td>35.0</td>\n",
       "      <td>53.1000</td>\n",
       "      <td>1</td>\n",
       "      <td>1</td>\n",
       "      <td>1.0</td>\n",
       "      <td>0</td>\n",
       "      <td>0</td>\n",
       "      <td>0</td>\n",
       "      <td>1</td>\n",
       "      <td>0</td>\n",
       "      <td>...</td>\n",
       "      <td>0</td>\n",
       "      <td>0</td>\n",
       "      <td>0</td>\n",
       "      <td>0</td>\n",
       "      <td>0</td>\n",
       "      <td>1</td>\n",
       "      <td>0</td>\n",
       "      <td>1</td>\n",
       "      <td>0</td>\n",
       "      <td>0</td>\n",
       "    </tr>\n",
       "    <tr>\n",
       "      <th>4</th>\n",
       "      <td>35.0</td>\n",
       "      <td>8.0500</td>\n",
       "      <td>3</td>\n",
       "      <td>0</td>\n",
       "      <td>0.0</td>\n",
       "      <td>0</td>\n",
       "      <td>0</td>\n",
       "      <td>1</td>\n",
       "      <td>0</td>\n",
       "      <td>0</td>\n",
       "      <td>...</td>\n",
       "      <td>0</td>\n",
       "      <td>0</td>\n",
       "      <td>1</td>\n",
       "      <td>0</td>\n",
       "      <td>0</td>\n",
       "      <td>1</td>\n",
       "      <td>1</td>\n",
       "      <td>0</td>\n",
       "      <td>0</td>\n",
       "      <td>0</td>\n",
       "    </tr>\n",
       "  </tbody>\n",
       "</table>\n",
       "<p>5 rows × 64 columns</p>\n",
       "</div>"
      ],
      "text/plain": [
       "    Age     Fare  Pclass  Sex  Survived  Name_Master  Name_Miss  Name_Mr  \\\n",
       "0  22.0   7.2500       3    0       0.0            0          0        1   \n",
       "1  38.0  71.2833       1    1       1.0            0          0        0   \n",
       "2  26.0   7.9250       3    1       1.0            0          1        0   \n",
       "3  35.0  53.1000       1    1       1.0            0          0        0   \n",
       "4  35.0   8.0500       3    0       0.0            0          0        1   \n",
       "\n",
       "   Name_Mrs  Name_Officer  ...    Cabin_G  Cabin_T  Cabin_U  Embarked_C  \\\n",
       "0         0             0  ...          0        0        1           0   \n",
       "1         1             0  ...          0        0        0           1   \n",
       "2         0             0  ...          0        0        1           0   \n",
       "3         1             0  ...          0        0        0           0   \n",
       "4         0             0  ...          0        0        1           0   \n",
       "\n",
       "   Embarked_Q  Embarked_S  Singleton  SmallFamily  LargeFamily  Child  \n",
       "0           0           1          0            1            0      0  \n",
       "1           0           0          0            1            0      0  \n",
       "2           0           1          1            0            0      0  \n",
       "3           0           1          0            1            0      0  \n",
       "4           0           1          1            0            0      0  \n",
       "\n",
       "[5 rows x 64 columns]"
      ]
     },
     "execution_count": 30,
     "metadata": {},
     "output_type": "execute_result"
    }
   ],
   "source": [
    "total_df.head()"
   ]
  },
  {
   "cell_type": "code",
   "execution_count": 41,
   "metadata": {},
   "outputs": [
    {
     "data": {
      "text/plain": [
       "Index(['Age', 'Fare', 'Pclass', 'Sex', 'Survived', 'Name_Master', 'Name_Miss',\n",
       "       'Name_Mr', 'Name_Mrs', 'Name_Officer', 'Name_Royalty', 'Ticket_A',\n",
       "       'Ticket_A4', 'Ticket_A5', 'Ticket_AQ3', 'Ticket_AQ4', 'Ticket_AS',\n",
       "       'Ticket_C', 'Ticket_CA', 'Ticket_CASOTON', 'Ticket_FC', 'Ticket_FCC',\n",
       "       'Ticket_Fa', 'Ticket_LINE', 'Ticket_LP', 'Ticket_PC', 'Ticket_PP',\n",
       "       'Ticket_PPP', 'Ticket_SC', 'Ticket_SCA3', 'Ticket_SCA4', 'Ticket_SCAH',\n",
       "       'Ticket_SCOW', 'Ticket_SCPARIS', 'Ticket_SCParis', 'Ticket_SOC',\n",
       "       'Ticket_SOP', 'Ticket_SOPP', 'Ticket_SOTONO2', 'Ticket_SOTONOQ',\n",
       "       'Ticket_SP', 'Ticket_STONO', 'Ticket_STONO2', 'Ticket_STONOQ',\n",
       "       'Ticket_SWPP', 'Ticket_WC', 'Ticket_WEP', 'Ticket_XXX', 'Cabin_A',\n",
       "       'Cabin_B', 'Cabin_C', 'Cabin_D', 'Cabin_E', 'Cabin_F', 'Cabin_G',\n",
       "       'Cabin_T', 'Cabin_U', 'Embarked_C', 'Embarked_Q', 'Embarked_S',\n",
       "       'Singleton', 'SmallFamily', 'LargeFamily', 'Child'],\n",
       "      dtype='object')"
      ]
     },
     "execution_count": 41,
     "metadata": {},
     "output_type": "execute_result"
    }
   ],
   "source": [
    "total_df.columns"
   ]
  },
  {
   "cell_type": "code",
   "execution_count": 45,
   "metadata": {
    "collapsed": true
   },
   "outputs": [],
   "source": [
    "# drop Ticket_ dummies\n",
    "drop_cols = [col for col in total_df.columns.values if 'Ticket_' in col]\n",
    "# drop Fare\n",
    "drop_cols.append('Fare')\n",
    "\n",
    "total_df.drop(drop_cols, axis=1, inplace=True)"
   ]
  },
  {
   "cell_type": "code",
   "execution_count": 48,
   "metadata": {},
   "outputs": [
    {
     "name": "stdout",
     "output_type": "stream",
     "text": [
      "(891, 25) (418, 25) (891,)\n"
     ]
    }
   ],
   "source": [
    "train_txf_df = total_df.head(891)\n",
    "test_txf_df = total_df.iloc[891:]\n",
    "train_txf_target = train_txf_df['Survived']\n",
    "train_txf_df.drop(['Survived'], axis=1, inplace=True)\n",
    "test_txf_df.drop(['Survived'], axis=1, inplace=True)\n",
    "\n",
    "print(train_txf_df.shape, test_txf_df.shape, train_txf_target.shape)"
   ]
  },
  {
   "cell_type": "markdown",
   "metadata": {},
   "source": [
    "# Feature Scaling"
   ]
  },
  {
   "cell_type": "code",
   "execution_count": 49,
   "metadata": {},
   "outputs": [
    {
     "data": {
      "text/html": [
       "<div>\n",
       "<style>\n",
       "    .dataframe thead tr:only-child th {\n",
       "        text-align: right;\n",
       "    }\n",
       "\n",
       "    .dataframe thead th {\n",
       "        text-align: left;\n",
       "    }\n",
       "\n",
       "    .dataframe tbody tr th {\n",
       "        vertical-align: top;\n",
       "    }\n",
       "</style>\n",
       "<table border=\"1\" class=\"dataframe\">\n",
       "  <thead>\n",
       "    <tr style=\"text-align: right;\">\n",
       "      <th></th>\n",
       "      <th>Age</th>\n",
       "      <th>Pclass</th>\n",
       "      <th>Sex</th>\n",
       "      <th>Name_Master</th>\n",
       "      <th>Name_Miss</th>\n",
       "      <th>Name_Mr</th>\n",
       "      <th>Name_Mrs</th>\n",
       "      <th>Name_Officer</th>\n",
       "      <th>Name_Royalty</th>\n",
       "      <th>Cabin_A</th>\n",
       "      <th>...</th>\n",
       "      <th>Cabin_G</th>\n",
       "      <th>Cabin_T</th>\n",
       "      <th>Cabin_U</th>\n",
       "      <th>Embarked_C</th>\n",
       "      <th>Embarked_Q</th>\n",
       "      <th>Embarked_S</th>\n",
       "      <th>Singleton</th>\n",
       "      <th>SmallFamily</th>\n",
       "      <th>LargeFamily</th>\n",
       "      <th>Child</th>\n",
       "    </tr>\n",
       "  </thead>\n",
       "  <tbody>\n",
       "    <tr>\n",
       "      <th>0</th>\n",
       "      <td>-0.526807</td>\n",
       "      <td>3</td>\n",
       "      <td>0</td>\n",
       "      <td>0</td>\n",
       "      <td>0</td>\n",
       "      <td>1</td>\n",
       "      <td>0</td>\n",
       "      <td>0</td>\n",
       "      <td>0</td>\n",
       "      <td>0</td>\n",
       "      <td>...</td>\n",
       "      <td>0</td>\n",
       "      <td>0</td>\n",
       "      <td>1</td>\n",
       "      <td>0</td>\n",
       "      <td>0</td>\n",
       "      <td>1</td>\n",
       "      <td>0</td>\n",
       "      <td>1</td>\n",
       "      <td>0</td>\n",
       "      <td>0</td>\n",
       "    </tr>\n",
       "    <tr>\n",
       "      <th>1</th>\n",
       "      <td>0.651319</td>\n",
       "      <td>1</td>\n",
       "      <td>1</td>\n",
       "      <td>0</td>\n",
       "      <td>0</td>\n",
       "      <td>0</td>\n",
       "      <td>1</td>\n",
       "      <td>0</td>\n",
       "      <td>0</td>\n",
       "      <td>0</td>\n",
       "      <td>...</td>\n",
       "      <td>0</td>\n",
       "      <td>0</td>\n",
       "      <td>0</td>\n",
       "      <td>1</td>\n",
       "      <td>0</td>\n",
       "      <td>0</td>\n",
       "      <td>0</td>\n",
       "      <td>1</td>\n",
       "      <td>0</td>\n",
       "      <td>0</td>\n",
       "    </tr>\n",
       "    <tr>\n",
       "      <th>2</th>\n",
       "      <td>-0.232276</td>\n",
       "      <td>3</td>\n",
       "      <td>1</td>\n",
       "      <td>0</td>\n",
       "      <td>1</td>\n",
       "      <td>0</td>\n",
       "      <td>0</td>\n",
       "      <td>0</td>\n",
       "      <td>0</td>\n",
       "      <td>0</td>\n",
       "      <td>...</td>\n",
       "      <td>0</td>\n",
       "      <td>0</td>\n",
       "      <td>1</td>\n",
       "      <td>0</td>\n",
       "      <td>0</td>\n",
       "      <td>1</td>\n",
       "      <td>1</td>\n",
       "      <td>0</td>\n",
       "      <td>0</td>\n",
       "      <td>0</td>\n",
       "    </tr>\n",
       "    <tr>\n",
       "      <th>3</th>\n",
       "      <td>0.430420</td>\n",
       "      <td>1</td>\n",
       "      <td>1</td>\n",
       "      <td>0</td>\n",
       "      <td>0</td>\n",
       "      <td>0</td>\n",
       "      <td>1</td>\n",
       "      <td>0</td>\n",
       "      <td>0</td>\n",
       "      <td>0</td>\n",
       "      <td>...</td>\n",
       "      <td>0</td>\n",
       "      <td>0</td>\n",
       "      <td>0</td>\n",
       "      <td>0</td>\n",
       "      <td>0</td>\n",
       "      <td>1</td>\n",
       "      <td>0</td>\n",
       "      <td>1</td>\n",
       "      <td>0</td>\n",
       "      <td>0</td>\n",
       "    </tr>\n",
       "    <tr>\n",
       "      <th>4</th>\n",
       "      <td>0.430420</td>\n",
       "      <td>3</td>\n",
       "      <td>0</td>\n",
       "      <td>0</td>\n",
       "      <td>0</td>\n",
       "      <td>1</td>\n",
       "      <td>0</td>\n",
       "      <td>0</td>\n",
       "      <td>0</td>\n",
       "      <td>0</td>\n",
       "      <td>...</td>\n",
       "      <td>0</td>\n",
       "      <td>0</td>\n",
       "      <td>1</td>\n",
       "      <td>0</td>\n",
       "      <td>0</td>\n",
       "      <td>1</td>\n",
       "      <td>1</td>\n",
       "      <td>0</td>\n",
       "      <td>0</td>\n",
       "      <td>0</td>\n",
       "    </tr>\n",
       "  </tbody>\n",
       "</table>\n",
       "<p>5 rows × 25 columns</p>\n",
       "</div>"
      ],
      "text/plain": [
       "        Age  Pclass  Sex  Name_Master  Name_Miss  Name_Mr  Name_Mrs  \\\n",
       "0 -0.526807       3    0            0          0        1         0   \n",
       "1  0.651319       1    1            0          0        0         1   \n",
       "2 -0.232276       3    1            0          1        0         0   \n",
       "3  0.430420       1    1            0          0        0         1   \n",
       "4  0.430420       3    0            0          0        1         0   \n",
       "\n",
       "   Name_Officer  Name_Royalty  Cabin_A  ...    Cabin_G  Cabin_T  Cabin_U  \\\n",
       "0             0             0        0  ...          0        0        1   \n",
       "1             0             0        0  ...          0        0        0   \n",
       "2             0             0        0  ...          0        0        1   \n",
       "3             0             0        0  ...          0        0        0   \n",
       "4             0             0        0  ...          0        0        1   \n",
       "\n",
       "   Embarked_C  Embarked_Q  Embarked_S  Singleton  SmallFamily  LargeFamily  \\\n",
       "0           0           0           1          0            1            0   \n",
       "1           1           0           0          0            1            0   \n",
       "2           0           0           1          1            0            0   \n",
       "3           0           0           1          0            1            0   \n",
       "4           0           0           1          1            0            0   \n",
       "\n",
       "   Child  \n",
       "0      0  \n",
       "1      0  \n",
       "2      0  \n",
       "3      0  \n",
       "4      0  \n",
       "\n",
       "[5 rows x 25 columns]"
      ]
     },
     "execution_count": 49,
     "metadata": {},
     "output_type": "execute_result"
    }
   ],
   "source": [
    "from sklearn import preprocessing\n",
    "\n",
    "std_scaler = preprocessing.StandardScaler().fit(train_txf_df[['Age']])\n",
    "train_txf_df[['Age']] = std_scaler.transform(train_txf_df[['Age']])\n",
    "test_txf_df[['Age']] = std_scaler.transform(test_txf_df[['Age']])\n",
    "\n",
    "# Revisit: drop Fare\n",
    "# robust_scaler = preprocessing.RobustScaler().fit(train_txf_df[['Fare']])\n",
    "# train_txf_df[['Fare']] = robust_scaler.transform(train_txf_df[['Fare']])\n",
    "# test_txf_df[['Fare']] = robust_scaler.transform(test_txf_df[['Fare']])\n",
    "\n",
    "train_txf_df.head()"
   ]
  },
  {
   "cell_type": "markdown",
   "metadata": {},
   "source": [
    "# Model Selection"
   ]
  },
  {
   "cell_type": "code",
   "execution_count": 50,
   "metadata": {
    "collapsed": true
   },
   "outputs": [],
   "source": [
    "# Helper for cross_validataion evaluation\n",
    "def compute_cv_score(clf, X, y, scoring='accuracy'):\n",
    "    skf = StratifiedKFold(n_splits=KFOLD, shuffle=True, random_state=RANDOM_SEED)\n",
    "    xval = cross_val_score(clf, X, y, cv=skf, scoring=scoring, n_jobs=-1)\n",
    "    print('  CV Score : Mean - %.7g | Std - %.7g | Min - %.7g | Max - %.7g' % \n",
    "          (np.mean(xval), np.std(xval), np.min(xval), np.max(xval)))\n",
    "\n",
    "# Helper for choosing best GridSearchCV model\n",
    "def get_best_cv_model(estimator, train, target, parameter_grid, scoring='accuracy', show='False'):\n",
    "    skf = StratifiedKFold(n_splits=KFOLD, shuffle=True, random_state=RANDOM_SEED)\n",
    "    clf = GridSearchCV(estimator,\n",
    "                       param_grid=parameter_grid,\n",
    "                       cv=skf,\n",
    "                       scoring=scoring,\n",
    "                       n_jobs=-1)\n",
    "    clf.fit(train, target)\n",
    "\n",
    "    means = clf.cv_results_['mean_test_score']\n",
    "    stds = clf.cv_results_['std_test_score']\n",
    "    print('  KFold: %d' % clf.n_splits_)\n",
    "    print('  Best score: {}'.format(clf.best_score_))\n",
    "    print('  Best parameters: {}'.format(clf.best_params_))\n",
    "    if show:\n",
    "        for mean, std, params in zip(means, stds, clf.cv_results_['params']):\n",
    "            print(\"  [%0.7f (+/-%0.07f) for %r]\" % (mean, std * 2, params))    \n",
    "    return clf.best_estimator_\n",
    "    \n",
    "# Helper for confusion_matrix plotting\n",
    "def plot_confusion_matrix(cm, classes,\n",
    "                          normalize=False,\n",
    "                          title='Confusion matrix',\n",
    "                          cmap=plt.cm.Blues):\n",
    "    \"\"\"\n",
    "    This function prints and plots the confusion matrix.\n",
    "    Normalization can be applied by setting `normalize=True`.\n",
    "    \"\"\"\n",
    "    plt.imshow(cm, interpolation='nearest', cmap=cmap)\n",
    "    plt.title(title)\n",
    "    plt.colorbar()\n",
    "    tick_marks = np.arange(len(classes))\n",
    "    plt.xticks(tick_marks, classes, rotation=45)\n",
    "    plt.yticks(tick_marks, classes)\n",
    "\n",
    "    if normalize:\n",
    "        cm = cm.astype('float') / cm.sum(axis=1)[:, np.newaxis]\n",
    "        print(\"Normalized confusion matrix\")\n",
    "    else:\n",
    "        print('Confusion matrix, without normalization')\n",
    "\n",
    "    print(cm)\n",
    "\n",
    "    thresh = cm.max() / 2.\n",
    "    for i, j in itertools.product(range(cm.shape[0]), range(cm.shape[1])):\n",
    "        plt.text(j, i, cm[i, j],\n",
    "                 horizontalalignment=\"center\",\n",
    "                 color=\"white\" if cm[i, j] > thresh else \"black\")\n",
    "\n",
    "    plt.tight_layout()\n",
    "    plt.ylabel('True label')\n",
    "    plt.xlabel('Predicted label')\n",
    "\n",
    "# Helper for plotting feature importance\n",
    "def plot_feature_importance(features, importance):\n",
    "    feature_importance = pd.DataFrame()\n",
    "    feature_importance['feature'] = features\n",
    "    feature_importance['importance'] = importance\n",
    "    feature_importance.sort_values(by=['importance'], ascending=False, inplace=True)\n",
    "    fig, ax = plt.subplots(figsize=(15, 10))\n",
    "    feature_importance.plot(kind='bar', title='Feature Importances', ax=ax, x='feature')\n",
    "    plt.ylabel('Feature Importance Score')"
   ]
  },
  {
   "cell_type": "markdown",
   "metadata": {},
   "source": [
    "## (1) RandomForest ([RandomForest Hyperparameters tuning guide](https://www.analyticsvidhya.com/blog/2015/06/tuning-random-forest-model/))"
   ]
  },
  {
   "cell_type": "code",
   "execution_count": 51,
   "metadata": {},
   "outputs": [
    {
     "name": "stdout",
     "output_type": "stream",
     "text": [
      "Accuracy:\n",
      "  CV Score : Mean - 0.8193249 | Std - 0.02755053 | Min - 0.7709497 | Max - 0.8547486\n",
      "F1:\n",
      "  CV Score : Mean - 0.7526196 | Std - 0.03559302 | Min - 0.6962963 | Max - 0.8088235\n"
     ]
    },
    {
     "data": {
      "image/png": "[encoded data removed]",
      "text/plain": [
       "<matplotlib.figure.Figure at 0x7efbb75cba20>"
      ]
     },
     "metadata": {},
     "output_type": "display_data"
    }
   ],
   "source": [
    "# (1) Preset, as baseline\n",
    "parameters = {'bootstrap': False, 'min_samples_leaf': 3, 'n_estimators': 50, \n",
    "              'min_samples_split': 10, 'max_features': 'sqrt', 'max_depth': 6,\n",
    "              'random_state': RANDOM_SEED}\n",
    "rf = RandomForestClassifier(**parameters)\n",
    "rf.fit(train_txf_df, train_txf_target)\n",
    "\n",
    "\n",
    "print('Accuracy:')\n",
    "compute_cv_score(rf, train_txf_df, train_txf_target, scoring='accuracy')\n",
    "print('F1:')\n",
    "compute_cv_score(rf, train_txf_df, train_txf_target, scoring='f1')\n",
    "\n",
    "plot_feature_importance(train_txf_df.columns, rf.feature_importances_)"
   ]
  },
  {
   "cell_type": "code",
   "execution_count": 52,
   "metadata": {
    "scrolled": true
   },
   "outputs": [
    {
     "name": "stdout",
     "output_type": "stream",
     "text": [
      "  KFold: 5\n",
      "  Best score: 0.8294051627384961\n",
      "  Best parameters: {'max_depth': 8, 'min_samples_leaf': 5, 'min_samples_split': 25, 'n_estimators': 125}\n",
      "Accuracy:\n",
      "  CV Score : Mean - 0.8294438 | Std - 0.02990445 | Min - 0.7765363 | Max - 0.8659218\n",
      "F1:\n",
      "  CV Score : Mean - 0.7625759 | Std - 0.03890901 | Min - 0.7014925 | Max - 0.8208955\n"
     ]
    }
   ],
   "source": [
    "# 3 major parameters to tune: max_features, n_estimators, min_sample_leaf\n",
    "\n",
    "rf = RandomForestClassifier(bootstrap=False, n_jobs=-1, random_state=RANDOM_SEED)\n",
    "parameter_grid = {\n",
    "                  'n_estimators': [50, 75, 100, 125, 150, 175, 200],\n",
    "                  'min_samples_leaf': [5, 10, 25, 50], # 50, imbalance data uses smaller value\n",
    "                  'min_samples_split': [10, 25, 50, 75],\n",
    "                  'max_depth' : [5, 6, 7, 8], # 5~8\n",
    "                 }\n",
    "\n",
    "rf = get_best_cv_model(rf, train_txf_df, train_txf_target, parameter_grid, scoring='accuracy', show=False)\n",
    "print('Accuracy:')\n",
    "compute_cv_score(rf, train_txf_df, train_txf_target, scoring='accuracy')\n",
    "print('F1:')\n",
    "compute_cv_score(rf, train_txf_df, train_txf_target, scoring='f1')"
   ]
  },
  {
   "cell_type": "code",
   "execution_count": 53,
   "metadata": {},
   "outputs": [
    {
     "name": "stdout",
     "output_type": "stream",
     "text": [
      "  KFold: 5\n",
      "  Best score: 0.8294051627384961\n",
      "  Best parameters: {'max_depth': 8, 'min_samples_split': 25}\n",
      "Accuracy:\n",
      "  CV Score : Mean - 0.8294438 | Std - 0.02990445 | Min - 0.7765363 | Max - 0.8659218\n",
      "F1:\n",
      "  CV Score : Mean - 0.7625759 | Std - 0.03890901 | Min - 0.7014925 | Max - 0.8208955\n"
     ]
    }
   ],
   "source": [
    "parameter_grid = {\n",
    "                  'min_samples_split': [20, 25, 30],\n",
    "                  'max_depth' : [8, 9, 10] # 3~10\n",
    "                 }\n",
    "\n",
    "rf = get_best_cv_model(rf, train_txf_df, train_txf_target, parameter_grid, scoring='accuracy', show=False)\n",
    "print('Accuracy:')\n",
    "compute_cv_score(rf, train_txf_df, train_txf_target, scoring='accuracy')\n",
    "print('F1:')\n",
    "compute_cv_score(rf, train_txf_df, train_txf_target, scoring='f1')"
   ]
  },
  {
   "cell_type": "code",
   "execution_count": 54,
   "metadata": {},
   "outputs": [
    {
     "name": "stdout",
     "output_type": "stream",
     "text": [
      "Accuracy:\n",
      "  CV Score : Mean - 0.8294438 | Std - 0.02990445 | Min - 0.7765363 | Max - 0.8659218\n",
      "F1:\n",
      "  CV Score : Mean - 0.7625759 | Std - 0.03890901 | Min - 0.7014925 | Max - 0.8208955\n"
     ]
    },
    {
     "data": {
      "image/png": "[encoded data removed]",
      "text/plain": [
       "<matplotlib.figure.Figure at 0x7efbb78c5898>"
      ]
     },
     "metadata": {},
     "output_type": "display_data"
    }
   ],
   "source": [
    "print('Accuracy:')\n",
    "compute_cv_score(rf, train_txf_df, train_txf_target, scoring='accuracy')\n",
    "print('F1:')\n",
    "compute_cv_score(rf, train_txf_df, train_txf_target, scoring='f1')\n",
    "plot_feature_importance(train_txf_df.columns, rf.feature_importances_)"
   ]
  },
  {
   "cell_type": "code",
   "execution_count": 55,
   "metadata": {},
   "outputs": [
    {
     "name": "stdout",
     "output_type": "stream",
     "text": [
      "Confusion matrix, without normalization\n",
      "[[501  48]\n",
      " [ 87 255]]\n"
     ]
    },
    {
     "data": {
      "text/plain": [
       "RandomForestClassifier(bootstrap=False, class_weight=None, criterion='gini',\n",
       "            max_depth=8, max_features='auto', max_leaf_nodes=None,\n",
       "            min_impurity_decrease=0.0, min_impurity_split=None,\n",
       "            min_samples_leaf=5, min_samples_split=25,\n",
       "            min_weight_fraction_leaf=0.0, n_estimators=125, n_jobs=-1,\n",
       "            oob_score=False, random_state=0, verbose=0, warm_start=False)"
      ]
     },
     "execution_count": 55,
     "metadata": {},
     "output_type": "execute_result"
    },
    {
     "data": {
      "image/png": "[encoded data removed]",
      "text/plain": [
       "<matplotlib.figure.Figure at 0x7efbb7a4d588>"
      ]
     },
     "metadata": {},
     "output_type": "display_data"
    }
   ],
   "source": [
    "pred = rf.predict(train_txf_df)\n",
    "cm = confusion_matrix(train_txf_target, pred)\n",
    "plot_confusion_matrix(cm, [0, 1])\n",
    "\n",
    "rf"
   ]
  },
  {
   "cell_type": "markdown",
   "metadata": {
    "collapsed": true
   },
   "source": [
    "- The submission score is 0.79426 (7/23) [63 features]\n",
    "- The submission score is 0.79426 (7/27) [25 features]"
   ]
  },
  {
   "cell_type": "markdown",
   "metadata": {},
   "source": [
    "## (2) XGBoost ([eXtreme Gradient Boosting Hyperparameters tuning guide](https://www.analyticsvidhya.com/blog/2016/03/complete-guide-parameter-tuning-xgboost-with-codes-python/))"
   ]
  },
  {
   "cell_type": "code",
   "execution_count": 59,
   "metadata": {},
   "outputs": [
    {
     "name": "stdout",
     "output_type": "stream",
     "text": [
      "n_estimators = 59\n",
      "Accuracy:\n",
      "  CV Score : Mean - 0.8271839 | Std - 0.02753702 | Min - 0.7765363 | Max - 0.8603352\n",
      "F1:\n",
      "  CV Score : Mean - 0.7629656 | Std - 0.04024361 | Min - 0.6969697 | Max - 0.822695\n"
     ]
    }
   ],
   "source": [
    "# (1) Start from suggested parameters to get the baseline\n",
    "#     - max_depth = 5 : This should be between 3-10. 4-6 can be good starting points.\n",
    "#     - min_child_weight = 5 \n",
    "#     - gamma = 0 : A smaller value like 0.1-0.2 can also be chosen for starting. This will anyways be tuned later.\n",
    "#     - subsample, colsample_bytree = 0.8 : This is a commonly used used start value. Typical values in 0.5-0.9.\n",
    "#     - scale_pos_weight = 1\n",
    "\n",
    "def modelfit(booster, dtrain, target, cv_folds=KFOLD, early_stopping_rounds=100):\n",
    "    xgb_param = booster.get_xgb_params()\n",
    "    xgtrain = xgboost.DMatrix(dtrain.values, label=target.values)\n",
    "    cvresult = xgboost.cv(xgb_param, xgtrain, num_boost_round=booster.get_params()['n_estimators'], \n",
    "                          nfold=cv_folds, seed=RANDOM_SEED, early_stopping_rounds=early_stopping_rounds)\n",
    "    booster.set_params(n_estimators=cvresult.shape[0])\n",
    "    print('n_estimators = %d'%cvresult.shape[0])\n",
    "    return booster\n",
    "    \n",
    "\n",
    "xgb = XGBClassifier(learning_rate =0.1,\n",
    "                    n_estimators=1000,\n",
    "                    max_depth=5,\n",
    "                    min_child_weight=5,\n",
    "                    gamma=0,\n",
    "                    subsample=0.8,\n",
    "                    colsample_bytree=0.8,\n",
    "                    objective= 'binary:logistic',\n",
    "                    nthread=-1,\n",
    "                    scale_pos_weight=1,\n",
    "                    seed=RANDOM_SEED)\n",
    "\n",
    "xgb = modelfit(xgb, train_txf_df, train_txf_target)\n",
    "print('Accuracy:')\n",
    "compute_cv_score(xgb, train_txf_df, train_txf_target, scoring='accuracy')\n",
    "print('F1:')\n",
    "compute_cv_score(xgb, train_txf_df, train_txf_target, scoring='f1')"
   ]
  },
  {
   "cell_type": "code",
   "execution_count": 60,
   "metadata": {},
   "outputs": [
    {
     "name": "stdout",
     "output_type": "stream",
     "text": [
      "  KFold: 5\n",
      "  Best score: 0.8271604938271605\n",
      "  Best parameters: {'max_depth': 5, 'min_child_weight': 5}\n",
      "  [0.8237935 (+/-0.0551976) for {'max_depth': 3, 'min_child_weight': 5}]\n",
      "  [0.8170595 (+/-0.0536434) for {'max_depth': 3, 'min_child_weight': 10}]\n",
      "  [0.8069585 (+/-0.0585198) for {'max_depth': 3, 'min_child_weight': 25}]\n",
      "  [0.7845118 (+/-0.0804699) for {'max_depth': 3, 'min_child_weight': 50}]\n",
      "  [0.8215488 (+/-0.0605350) for {'max_depth': 4, 'min_child_weight': 5}]\n",
      "  [0.8170595 (+/-0.0504894) for {'max_depth': 4, 'min_child_weight': 10}]\n",
      "  [0.8069585 (+/-0.0585198) for {'max_depth': 4, 'min_child_weight': 25}]\n",
      "  [0.7845118 (+/-0.0804699) for {'max_depth': 4, 'min_child_weight': 50}]\n",
      "  [0.8271605 (+/-0.0551919) for {'max_depth': 5, 'min_child_weight': 5}]\n",
      "  [0.8148148 (+/-0.0474451) for {'max_depth': 5, 'min_child_weight': 10}]\n",
      "  [0.8069585 (+/-0.0585198) for {'max_depth': 5, 'min_child_weight': 25}]\n",
      "  [0.7845118 (+/-0.0804699) for {'max_depth': 5, 'min_child_weight': 50}]\n",
      "  [0.8237935 (+/-0.0518349) for {'max_depth': 6, 'min_child_weight': 5}]\n",
      "  [0.8148148 (+/-0.0474451) for {'max_depth': 6, 'min_child_weight': 10}]\n",
      "  [0.8069585 (+/-0.0585198) for {'max_depth': 6, 'min_child_weight': 25}]\n",
      "  [0.7845118 (+/-0.0804699) for {'max_depth': 6, 'min_child_weight': 50}]\n",
      "  [0.8249158 (+/-0.0535343) for {'max_depth': 7, 'min_child_weight': 5}]\n",
      "  [0.8148148 (+/-0.0474451) for {'max_depth': 7, 'min_child_weight': 10}]\n",
      "  [0.8069585 (+/-0.0585198) for {'max_depth': 7, 'min_child_weight': 25}]\n",
      "  [0.7845118 (+/-0.0804699) for {'max_depth': 7, 'min_child_weight': 50}]\n",
      "Accuracy\n",
      "  CV Score : Mean - 0.8271839 | Std - 0.02753702 | Min - 0.7765363 | Max - 0.8603352\n",
      "F1:\n",
      "  CV Score : Mean - 0.7629656 | Std - 0.04024361 | Min - 0.6969697 | Max - 0.822695\n"
     ]
    }
   ],
   "source": [
    "# (2) Tune max_depth & min_child_weight\n",
    "\n",
    "parameter_grid = {\n",
    "    'max_depth': [3, 4, 5, 6, 7], # 3 ~ 10\n",
    "    'min_child_weight': [5, 10, 25, 50] # A smaller value for imbalanced class\n",
    "}\n",
    "\n",
    "xgb = get_best_cv_model(xgb, train_txf_df, train_txf_target, parameter_grid, scoring='accuracy', show=True)\n",
    "print('Accuracy')\n",
    "compute_cv_score(xgb, train_txf_df, train_txf_target, scoring='accuracy')\n",
    "print('F1:')\n",
    "compute_cv_score(xgb, train_txf_df, train_txf_target, scoring='f1')"
   ]
  },
  {
   "cell_type": "code",
   "execution_count": 61,
   "metadata": {},
   "outputs": [
    {
     "name": "stdout",
     "output_type": "stream",
     "text": [
      "  KFold: 5\n",
      "  Best score: 0.8282828282828283\n",
      "  Best parameters: {'gamma': 0.1}\n",
      "  [0.8271605 (+/-0.0551919) for {'gamma': 0.0}]\n",
      "  [0.8282828 (+/-0.0551322) for {'gamma': 0.1}]\n",
      "  [0.8260382 (+/-0.0534104) for {'gamma': 0.2}]\n",
      "  [0.8249158 (+/-0.0648346) for {'gamma': 0.3}]\n",
      "  [0.8249158 (+/-0.0606397) for {'gamma': 0.4}]\n",
      "Accuracy\n",
      "  CV Score : Mean - 0.8282823 | Std - 0.02750999 | Min - 0.7877095 | Max - 0.8715084\n",
      "F1:\n",
      "  CV Score : Mean - 0.7615306 | Std - 0.04219454 | Min - 0.7121212 | Max - 0.8345324\n"
     ]
    },
    {
     "data": {
      "text/plain": [
       "XGBClassifier(base_score=0.5, booster='gbtree', colsample_bylevel=1,\n",
       "       colsample_bytree=0.8, gamma=0.1, learning_rate=0.1,\n",
       "       max_delta_step=0, max_depth=5, min_child_weight=5, missing=None,\n",
       "       n_estimators=59, n_jobs=1, nthread=-1, objective='binary:logistic',\n",
       "       random_state=0, reg_alpha=0, reg_lambda=1, scale_pos_weight=1,\n",
       "       seed=0, silent=True, subsample=0.8)"
      ]
     },
     "execution_count": 61,
     "metadata": {},
     "output_type": "execute_result"
    }
   ],
   "source": [
    "# (3) Tune gamma\n",
    "\n",
    "parameter_grid = {\n",
    "    'gamma': [i/10.0 for i in range(0, 5)]\n",
    "}\n",
    "\n",
    "xgb = get_best_cv_model(xgb, train_txf_df, train_txf_target, parameter_grid, scoring='accuracy', show=True)\n",
    "print('Accuracy')\n",
    "compute_cv_score(xgb, train_txf_df, train_txf_target, scoring='accuracy')\n",
    "print('F1:')\n",
    "compute_cv_score(xgb, train_txf_df, train_txf_target, scoring='f1')\n",
    "xgb"
   ]
  },
  {
   "cell_type": "code",
   "execution_count": 62,
   "metadata": {},
   "outputs": [
    {
     "name": "stdout",
     "output_type": "stream",
     "text": [
      "n_estimators = 71\n",
      "Accuracy:\n",
      "  CV Score : Mean - 0.8338941 | Std - 0.02681271 | Min - 0.7932961 | Max - 0.877095\n",
      "F1:\n",
      "  CV Score : Mean - 0.7708076 | Std - 0.03906859 | Min - 0.7218045 | Max - 0.8405797\n"
     ]
    },
    {
     "data": {
      "text/plain": [
       "XGBClassifier(base_score=0.5, booster='gbtree', colsample_bylevel=1,\n",
       "       colsample_bytree=0.8, gamma=0.1, learning_rate=0.1,\n",
       "       max_delta_step=0, max_depth=5, min_child_weight=5, missing=None,\n",
       "       n_estimators=71, n_jobs=1, nthread=-1, objective='binary:logistic',\n",
       "       random_state=0, reg_alpha=0, reg_lambda=1, scale_pos_weight=1,\n",
       "       seed=0, silent=True, subsample=0.8)"
      ]
     },
     "execution_count": 62,
     "metadata": {},
     "output_type": "execute_result"
    }
   ],
   "source": [
    "# Recalibrate the number of boosting rounds for the updated parameters.\n",
    "# reset n_estimators to 1000 to get new n_estimators\n",
    "\n",
    "xgb.set_params(n_estimators=1000)\n",
    "xgb = modelfit(xgb, train_txf_df, train_txf_target)\n",
    "\n",
    "print('Accuracy:')\n",
    "compute_cv_score(xgb, train_txf_df, train_txf_target, scoring='accuracy')\n",
    "print('F1:')\n",
    "compute_cv_score(xgb, train_txf_df, train_txf_target, scoring='f1')\n",
    "\n",
    "xgb"
   ]
  },
  {
   "cell_type": "code",
   "execution_count": 63,
   "metadata": {},
   "outputs": [
    {
     "name": "stdout",
     "output_type": "stream",
     "text": [
      "  KFold: 5\n",
      "  Best score: 0.8338945005611672\n",
      "  Best parameters: {'colsample_bytree': 0.6, 'subsample': 0.7}\n",
      "  [0.8271605 (+/-0.0657115) for {'colsample_bytree': 0.6, 'subsample': 0.6}]\n",
      "  [0.8338945 (+/-0.0619161) for {'colsample_bytree': 0.6, 'subsample': 0.7}]\n",
      "  [0.8271605 (+/-0.0662283) for {'colsample_bytree': 0.6, 'subsample': 0.8}]\n",
      "  [0.8282828 (+/-0.0777770) for {'colsample_bytree': 0.6, 'subsample': 0.9}]\n",
      "  [0.8282828 (+/-0.0686959) for {'colsample_bytree': 0.7, 'subsample': 0.6}]\n",
      "  [0.8282828 (+/-0.0643675) for {'colsample_bytree': 0.7, 'subsample': 0.7}]\n",
      "  [0.8305275 (+/-0.0631554) for {'colsample_bytree': 0.7, 'subsample': 0.8}]\n",
      "  [0.8294052 (+/-0.0644333) for {'colsample_bytree': 0.7, 'subsample': 0.9}]\n",
      "  [0.8260382 (+/-0.0693041) for {'colsample_bytree': 0.8, 'subsample': 0.6}]\n",
      "  [0.8294052 (+/-0.0517505) for {'colsample_bytree': 0.8, 'subsample': 0.7}]\n",
      "  [0.8338945 (+/-0.0537421) for {'colsample_bytree': 0.8, 'subsample': 0.8}]\n",
      "  [0.8249158 (+/-0.0592546) for {'colsample_bytree': 0.8, 'subsample': 0.9}]\n",
      "  [0.8282828 (+/-0.0662977) for {'colsample_bytree': 0.9, 'subsample': 0.6}]\n",
      "  [0.8338945 (+/-0.0578126) for {'colsample_bytree': 0.9, 'subsample': 0.7}]\n",
      "  [0.8327722 (+/-0.0494707) for {'colsample_bytree': 0.9, 'subsample': 0.8}]\n",
      "  [0.8282828 (+/-0.0525756) for {'colsample_bytree': 0.9, 'subsample': 0.9}]\n",
      "Accuracy\n",
      "  CV Score : Mean - 0.8339003 | Std - 0.03089306 | Min - 0.7821229 | Max - 0.877095\n",
      "F1:\n",
      "  CV Score : Mean - 0.7724716 | Std - 0.0425564 | Min - 0.7111111 | Max - 0.8405797\n"
     ]
    }
   ],
   "source": [
    "# (4) Tune subsample and colsample_bytree\n",
    "\n",
    "parameter_grid = {\n",
    "    'subsample': [0.6, 0.7, 0.8, 0.9],\n",
    "    'colsample_bytree': [0.6, 0.7, 0.8, 0.9]\n",
    "}\n",
    "\n",
    "xgb = get_best_cv_model(xgb, train_txf_df, train_txf_target, parameter_grid, scoring='accuracy', show=True)\n",
    "print('Accuracy')\n",
    "compute_cv_score(xgb, train_txf_df, train_txf_target, scoring='accuracy')\n",
    "print('F1:')\n",
    "compute_cv_score(xgb, train_txf_df, train_txf_target, scoring='f1')"
   ]
  },
  {
   "cell_type": "code",
   "execution_count": 64,
   "metadata": {},
   "outputs": [
    {
     "name": "stdout",
     "output_type": "stream",
     "text": [
      "  KFold: 5\n",
      "  Best score: 0.8338945005611672\n",
      "  Best parameters: {'colsample_bytree': 0.6, 'subsample': 0.7}\n",
      "  [0.8260382 (+/-0.0651186) for {'colsample_bytree': 0.55, 'subsample': 0.65}]\n",
      "  [0.8271605 (+/-0.0613126) for {'colsample_bytree': 0.55, 'subsample': 0.7}]\n",
      "  [0.8260382 (+/-0.0543466) for {'colsample_bytree': 0.55, 'subsample': 0.75}]\n",
      "  [0.8271605 (+/-0.0510225) for {'colsample_bytree': 0.6, 'subsample': 0.65}]\n",
      "  [0.8338945 (+/-0.0619161) for {'colsample_bytree': 0.6, 'subsample': 0.7}]\n",
      "  [0.8271605 (+/-0.0516051) for {'colsample_bytree': 0.6, 'subsample': 0.75}]\n",
      "  [0.8282828 (+/-0.0622502) for {'colsample_bytree': 0.65, 'subsample': 0.65}]\n",
      "  [0.8327722 (+/-0.0490382) for {'colsample_bytree': 0.65, 'subsample': 0.7}]\n",
      "  [0.8338945 (+/-0.0610495) for {'colsample_bytree': 0.65, 'subsample': 0.75}]\n",
      "Accuracy\n",
      "  CV Score : Mean - 0.8339003 | Std - 0.03089306 | Min - 0.7821229 | Max - 0.877095\n",
      "F1:\n",
      "  CV Score : Mean - 0.7724716 | Std - 0.0425564 | Min - 0.7111111 | Max - 0.8405797\n"
     ]
    }
   ],
   "source": [
    "parameter_grid = {\n",
    "    'subsample': [0.65, 0.7, 0.75],\n",
    "    'colsample_bytree': [0.55, 0.6, 0.65]\n",
    "}\n",
    "\n",
    "xgb = get_best_cv_model(xgb, train_txf_df, train_txf_target, parameter_grid, scoring='accuracy', show=True)\n",
    "print('Accuracy')\n",
    "compute_cv_score(xgb, train_txf_df, train_txf_target, scoring='accuracy')\n",
    "print('F1:')\n",
    "compute_cv_score(xgb, train_txf_df, train_txf_target, scoring='f1')"
   ]
  },
  {
   "cell_type": "code",
   "execution_count": 65,
   "metadata": {},
   "outputs": [
    {
     "name": "stdout",
     "output_type": "stream",
     "text": [
      "  KFold: 5\n",
      "  Best score: 0.8338945005611672\n",
      "  Best parameters: {'reg_alpha': 1e-05}\n",
      "  [0.8338945 (+/-0.0619161) for {'reg_alpha': 1e-05}]\n",
      "  [0.8338945 (+/-0.0619161) for {'reg_alpha': 0.01}]\n",
      "  [0.8294052 (+/-0.0687445) for {'reg_alpha': 0.1}]\n",
      "  [0.8226712 (+/-0.0540432) for {'reg_alpha': 1}]\n",
      "  [0.6161616 (+/-0.0031092) for {'reg_alpha': 100}]\n",
      "Accuracy\n",
      "  CV Score : Mean - 0.8339003 | Std - 0.03089306 | Min - 0.7821229 | Max - 0.877095\n",
      "F1:\n",
      "  CV Score : Mean - 0.7724716 | Std - 0.0425564 | Min - 0.7111111 | Max - 0.8405797\n"
     ]
    }
   ],
   "source": [
    "# (5) Tuning Regularization Parameters\n",
    "\n",
    "parameter_grid = {\n",
    "    'reg_alpha':[1e-5, 1e-2, 0.1, 1, 100]\n",
    "}\n",
    "\n",
    "xgb = get_best_cv_model(xgb, train_txf_df, train_txf_target, parameter_grid, scoring='accuracy', show=True)\n",
    "print('Accuracy')\n",
    "compute_cv_score(xgb, train_txf_df, train_txf_target, scoring='accuracy')\n",
    "print('F1:')\n",
    "compute_cv_score(xgb, train_txf_df, train_txf_target, scoring='f1')"
   ]
  },
  {
   "cell_type": "markdown",
   "metadata": {},
   "source": [
    "- The submission score is 0.76077 (even its local score is quite good)"
   ]
  },
  {
   "cell_type": "code",
   "execution_count": 66,
   "metadata": {},
   "outputs": [
    {
     "name": "stdout",
     "output_type": "stream",
     "text": [
      "n_estimators = 88\n",
      "Accuracy:\n",
      "  CV Score : Mean - 0.8260476 | Std - 0.02732451 | Min - 0.7821229 | Max - 0.8603352\n",
      "F1:\n",
      "  CV Score : Mean - 0.7586005 | Std - 0.03763269 | Min - 0.7111111 | Max - 0.8148148\n"
     ]
    }
   ],
   "source": [
    "# Recalibrate & take a preview so far \n",
    "\n",
    "xgb.set_params(n_estimators=1000)\n",
    "xgb = modelfit(xgb, train_txf_df, train_txf_target)\n",
    "\n",
    "print('Accuracy:')\n",
    "compute_cv_score(xgb, train_txf_df, train_txf_target, scoring='accuracy')\n",
    "print('F1:')\n",
    "compute_cv_score(xgb, train_txf_df, train_txf_target, scoring='f1')"
   ]
  },
  {
   "cell_type": "markdown",
   "metadata": {},
   "source": [
    "- The submission score is 0.76077 (even its local score is quite good)"
   ]
  },
  {
   "cell_type": "code",
   "execution_count": 67,
   "metadata": {},
   "outputs": [
    {
     "name": "stdout",
     "output_type": "stream",
     "text": [
      "n_estimators = 130\n",
      "Accuracy:\n",
      "  CV Score : Mean - 0.8215721 | Std - 0.02753227 | Min - 0.7709497 | Max - 0.8547486\n",
      "F1:\n",
      "  CV Score : Mean - 0.7526314 | Std - 0.03782205 | Min - 0.6870229 | Max - 0.8030303\n"
     ]
    },
    {
     "data": {
      "text/plain": [
       "XGBClassifier(base_score=0.5, booster='gbtree', colsample_bylevel=1,\n",
       "       colsample_bytree=0.6, gamma=0.1, learning_rate=0.01,\n",
       "       max_delta_step=0, max_depth=5, min_child_weight=5, missing=None,\n",
       "       n_estimators=130, n_jobs=1, nthread=-1, objective='binary:logistic',\n",
       "       random_state=0, reg_alpha=1e-05, reg_lambda=1, scale_pos_weight=1,\n",
       "       seed=0, silent=True, subsample=0.7)"
      ]
     },
     "execution_count": 67,
     "metadata": {},
     "output_type": "execute_result"
    },
    {
     "data": {
      "image/png": "[encoded data removed]",
      "text/plain": [
       "<matplotlib.figure.Figure at 0x7efbb74e5ba8>"
      ]
     },
     "metadata": {},
     "output_type": "display_data"
    }
   ],
   "source": [
    "# (6) Reduce learning rate (1/10 learning rate)\n",
    "\n",
    "xgb.set_params(n_estimators=5000, learning_rate=0.01)\n",
    "xgb = modelfit(xgb, train_txf_df, train_txf_target)\n",
    "\n",
    "print('Accuracy:')\n",
    "compute_cv_score(xgb, train_txf_df, train_txf_target, scoring='accuracy')\n",
    "print('F1:')\n",
    "compute_cv_score(xgb, train_txf_df, train_txf_target, scoring='f1')\n",
    "xgb.fit(train_txf_df, train_txf_target)\n",
    "plot_feature_importance(train_txf_df.columns, xgb.feature_importances_)\n",
    "\n",
    "xgb"
   ]
  },
  {
   "cell_type": "code",
   "execution_count": 68,
   "metadata": {},
   "outputs": [
    {
     "name": "stdout",
     "output_type": "stream",
     "text": [
      "Confusion matrix, without normalization\n",
      "[[495  54]\n",
      " [ 86 256]]\n"
     ]
    },
    {
     "data": {
      "image/png": "[encoded data removed]",
      "text/plain": [
       "<matplotlib.figure.Figure at 0x7efbb7532390>"
      ]
     },
     "metadata": {},
     "output_type": "display_data"
    }
   ],
   "source": [
    "pred = xgb.predict(train_txf_df)\n",
    "cm = confusion_matrix(train_txf_target, pred)\n",
    "plot_confusion_matrix(cm, [0, 1])"
   ]
  },
  {
   "cell_type": "markdown",
   "metadata": {},
   "source": [
    "- The submission score is 0.80861 (7/24) [63 features]\n",
    "- Looks like RandomForest is not impacted by feature normalization, but XGBoost is indeed impacted by feature normalization.\n",
    "- Revisit: the submission score is 0.79426 (7/27) [25 features]"
   ]
  },
  {
   "cell_type": "markdown",
   "metadata": {},
   "source": [
    "## (3) GBM ([Gradient Boosting Hyperparameters tuning guide](https://www.analyticsvidhya.com/blog/2016/02/complete-guide-parameter-tuning-gradient-boosting-gbm-python/)) "
   ]
  },
  {
   "cell_type": "code",
   "execution_count": 72,
   "metadata": {},
   "outputs": [
    {
     "name": "stdout",
     "output_type": "stream",
     "text": [
      "  KFold: 5\n",
      "  Best score: 0.8226711560044894\n",
      "  Best parameters: {'n_estimators': 175}\n",
      "  [0.8114478 (+/-0.0476691) for {'n_estimators': 50}]\n",
      "  [0.8193042 (+/-0.0622055) for {'n_estimators': 75}]\n",
      "  [0.8181818 (+/-0.0552863) for {'n_estimators': 100}]\n",
      "  [0.8204265 (+/-0.0572035) for {'n_estimators': 125}]\n",
      "  [0.8181818 (+/-0.0482306) for {'n_estimators': 150}]\n",
      "  [0.8226712 (+/-0.0622459) for {'n_estimators': 175}]\n",
      "  [0.8204265 (+/-0.0640320) for {'n_estimators': 200}]\n",
      "Accuracy\n",
      "  CV Score : Mean - 0.8226831 | Std - 0.0310584 | Min - 0.7709497 | Max - 0.8659218\n",
      "F1:\n",
      "  CV Score : Mean - 0.7526669 | Std - 0.04231345 | Min - 0.6962963 | Max - 0.8235294\n"
     ]
    }
   ],
   "source": [
    "# (1) Start from suggested parameters & get n_estimators to get the baseline\n",
    "#     - min_samples_split = 10 : This should be ~0.5-1% of total values.\n",
    "#     - min_samples_leaf = 50 : used for preventing overfitting.\n",
    "#     - max_depth = 6 : 5-8\n",
    "#     - max_features = ‘sqrt’ \n",
    "#     - subsample = 0.8 : commonly used start value\n",
    "\n",
    "gbm = GradientBoostingClassifier(learning_rate=0.1, \n",
    "                                 min_samples_split=10,\n",
    "                                 min_samples_leaf=50,\n",
    "                                 max_depth=6,\n",
    "                                 max_features='sqrt',\n",
    "                                 subsample=0.8,\n",
    "                                 random_state=RANDOM_SEED)\n",
    "\n",
    "parameter_grid = {\n",
    "    'n_estimators': [50, 75, 100, 125, 150, 175, 200]\n",
    "}\n",
    "\n",
    "gbm = get_best_cv_model(gbm, train_txf_df, train_txf_target, parameter_grid, scoring='accuracy', show=True)\n",
    "print('Accuracy')\n",
    "compute_cv_score(gbm, train_txf_df, train_txf_target, scoring='accuracy')\n",
    "print('F1:')\n",
    "compute_cv_score(gbm, train_txf_df, train_txf_target, scoring='f1')"
   ]
  },
  {
   "cell_type": "code",
   "execution_count": 73,
   "metadata": {},
   "outputs": [
    {
     "name": "stdout",
     "output_type": "stream",
     "text": [
      "  KFold: 5\n",
      "  Best score: 0.8249158249158249\n",
      "  Best parameters: {'max_depth': 5, 'min_samples_split': 10}\n",
      "  [0.8249158 (+/-0.0537693) for {'max_depth': 5, 'min_samples_split': 10}]\n",
      "  [0.8249158 (+/-0.0537693) for {'max_depth': 5, 'min_samples_split': 25}]\n",
      "  [0.8249158 (+/-0.0537693) for {'max_depth': 5, 'min_samples_split': 50}]\n",
      "  [0.8249158 (+/-0.0537693) for {'max_depth': 5, 'min_samples_split': 75}]\n",
      "  [0.8226712 (+/-0.0622459) for {'max_depth': 6, 'min_samples_split': 10}]\n",
      "  [0.8226712 (+/-0.0622459) for {'max_depth': 6, 'min_samples_split': 25}]\n",
      "  [0.8226712 (+/-0.0622459) for {'max_depth': 6, 'min_samples_split': 50}]\n",
      "  [0.8226712 (+/-0.0622459) for {'max_depth': 6, 'min_samples_split': 75}]\n",
      "  [0.8249158 (+/-0.0580336) for {'max_depth': 7, 'min_samples_split': 10}]\n",
      "  [0.8249158 (+/-0.0580336) for {'max_depth': 7, 'min_samples_split': 25}]\n",
      "  [0.8249158 (+/-0.0580336) for {'max_depth': 7, 'min_samples_split': 50}]\n",
      "  [0.8249158 (+/-0.0580336) for {'max_depth': 7, 'min_samples_split': 75}]\n",
      "  [0.8249158 (+/-0.0580336) for {'max_depth': 8, 'min_samples_split': 10}]\n",
      "  [0.8249158 (+/-0.0580336) for {'max_depth': 8, 'min_samples_split': 25}]\n",
      "  [0.8249158 (+/-0.0580336) for {'max_depth': 8, 'min_samples_split': 50}]\n",
      "  [0.8249158 (+/-0.0580336) for {'max_depth': 8, 'min_samples_split': 75}]\n",
      "Accuracy\n",
      "  CV Score : Mean - 0.8249429 | Std - 0.02683285 | Min - 0.7765363 | Max - 0.8547486\n",
      "F1:\n",
      "  CV Score : Mean - 0.7541304 | Std - 0.03385336 | Min - 0.7014925 | Max - 0.8030303\n"
     ]
    }
   ],
   "source": [
    "# (2) Tune max_depth & min_samples_split\n",
    "\n",
    "parameter_grid = {\n",
    "    'max_depth': [5, 6, 7, 8], # 5 ~ 8\n",
    "    'min_samples_split': [10, 25, 50, 75] # A smaller value for imbalanced class\n",
    "}\n",
    "\n",
    "gbm = get_best_cv_model(gbm, train_txf_df, train_txf_target, parameter_grid, scoring='accuracy', show=True)\n",
    "print('Accuracy')\n",
    "compute_cv_score(gbm, train_txf_df, train_txf_target, scoring='accuracy')\n",
    "print('F1:')\n",
    "compute_cv_score(gbm, train_txf_df, train_txf_target, scoring='f1')"
   ]
  },
  {
   "cell_type": "code",
   "execution_count": 74,
   "metadata": {},
   "outputs": [
    {
     "name": "stdout",
     "output_type": "stream",
     "text": [
      "  KFold: 5\n",
      "  Best score: 0.8271604938271605\n",
      "  Best parameters: {'min_samples_leaf': 10}\n",
      "  [0.8181818 (+/-0.0787241) for {'min_samples_leaf': 5}]\n",
      "  [0.8271605 (+/-0.0697958) for {'min_samples_leaf': 10}]\n",
      "  [0.8249158 (+/-0.0654248) for {'min_samples_leaf': 25}]\n",
      "  [0.8249158 (+/-0.0537693) for {'min_samples_leaf': 50}]\n",
      "Accuracy\n",
      "  CV Score : Mean - 0.8271714 | Std - 0.03483 | Min - 0.7765363 | Max - 0.8826816\n",
      "F1:\n",
      "  CV Score : Mean - 0.7589907 | Std - 0.05080976 | Min - 0.6969697 | Max - 0.8467153\n"
     ]
    }
   ],
   "source": [
    "# (3) Tune min_samples_leaf\n",
    "\n",
    "parameter_grid = {\n",
    "    'min_samples_leaf': [5, 10, 25, 50] # A smaller value for imbalanced class\n",
    "}\n",
    "\n",
    "gbm = get_best_cv_model(gbm, train_txf_df, train_txf_target, parameter_grid, scoring='accuracy', show=True)\n",
    "print('Accuracy')\n",
    "compute_cv_score(gbm, train_txf_df, train_txf_target, scoring='accuracy')\n",
    "print('F1:')\n",
    "compute_cv_score(gbm, train_txf_df, train_txf_target, scoring='f1')"
   ]
  },
  {
   "cell_type": "code",
   "execution_count": 75,
   "metadata": {},
   "outputs": [
    {
     "name": "stdout",
     "output_type": "stream",
     "text": [
      "  KFold: 5\n",
      "  Best score: 0.8271604938271605\n",
      "  Best parameters: {'min_samples_leaf': 10}\n",
      "  [0.8181818 (+/-0.0787241) for {'min_samples_leaf': 5}]\n",
      "  [0.8271605 (+/-0.0697958) for {'min_samples_leaf': 10}]\n",
      "  [0.8237935 (+/-0.0718458) for {'min_samples_leaf': 15}]\n",
      "  [0.8237935 (+/-0.0676590) for {'min_samples_leaf': 20}]\n",
      "Accuracy\n",
      "  CV Score : Mean - 0.8271714 | Std - 0.03483 | Min - 0.7765363 | Max - 0.8826816\n",
      "F1:\n",
      "  CV Score : Mean - 0.7589907 | Std - 0.05080976 | Min - 0.6969697 | Max - 0.8467153\n"
     ]
    }
   ],
   "source": [
    "parameter_grid = {\n",
    "    'min_samples_leaf': [5, 10, 15, 20] # A smaller value for imbalanced class\n",
    "}\n",
    "\n",
    "gbm = get_best_cv_model(gbm, train_txf_df, train_txf_target, parameter_grid, scoring='accuracy', show=True)\n",
    "print('Accuracy')\n",
    "compute_cv_score(gbm, train_txf_df, train_txf_target, scoring='accuracy')\n",
    "print('F1:')\n",
    "compute_cv_score(gbm, train_txf_df, train_txf_target, scoring='f1')"
   ]
  },
  {
   "cell_type": "code",
   "execution_count": 76,
   "metadata": {},
   "outputs": [
    {
     "name": "stdout",
     "output_type": "stream",
     "text": [
      "  KFold: 5\n",
      "  Best score: 0.8305274971941639\n",
      "  Best parameters: {'max_features': 0.3}\n",
      "  [0.8271605 (+/-0.0697958) for {'max_features': 'sqrt'}]\n",
      "  [0.8305275 (+/-0.0665039) for {'max_features': 0.3}]\n",
      "Accuracy\n",
      "  CV Score : Mean - 0.8305358 | Std - 0.03318465 | Min - 0.7765363 | Max - 0.877095\n",
      "F1:\n",
      "  CV Score : Mean - 0.7636074 | Std - 0.04722428 | Min - 0.6969697 | Max - 0.8405797\n"
     ]
    }
   ],
   "source": [
    "# (4) Tune max_features\n",
    "\n",
    "parameter_grid = {\n",
    "    'max_features': ['sqrt', 0.3]\n",
    "}\n",
    "\n",
    "gbm = get_best_cv_model(gbm, train_txf_df, train_txf_target, parameter_grid, scoring='accuracy', show=True)\n",
    "print('Accuracy')\n",
    "compute_cv_score(gbm, train_txf_df, train_txf_target, scoring='accuracy')\n",
    "print('F1:')\n",
    "compute_cv_score(gbm, train_txf_df, train_txf_target, scoring='f1')"
   ]
  },
  {
   "cell_type": "code",
   "execution_count": 77,
   "metadata": {},
   "outputs": [
    {
     "name": "stdout",
     "output_type": "stream",
     "text": [
      "  KFold: 5\n",
      "  Best score: 0.8316498316498316\n",
      "  Best parameters: {'subsample': 0.6}\n",
      "  [0.8316498 (+/-0.0694760) for {'subsample': 0.6}]\n",
      "  [0.8215488 (+/-0.0682610) for {'subsample': 0.7}]\n",
      "  [0.8249158 (+/-0.0686607) for {'subsample': 0.75}]\n",
      "  [0.8305275 (+/-0.0665039) for {'subsample': 0.8}]\n",
      "  [0.8226712 (+/-0.0821086) for {'subsample': 0.85}]\n",
      "  [0.8282828 (+/-0.0692963) for {'subsample': 0.9}]\n",
      "Accuracy\n",
      "  CV Score : Mean - 0.8316784 | Std - 0.03466613 | Min - 0.7709497 | Max - 0.877095\n",
      "F1:\n",
      "  CV Score : Mean - 0.7655083 | Std - 0.04965748 | Min - 0.6870229 | Max - 0.8405797\n"
     ]
    }
   ],
   "source": [
    "# (5) Tune subsample\n",
    "\n",
    "parameter_grid = {\n",
    "    'subsample': [0.6, 0.7, 0.75, 0.8, 0.85, 0.9]\n",
    "}\n",
    "\n",
    "gbm = get_best_cv_model(gbm, train_txf_df, train_txf_target, parameter_grid, scoring='accuracy', show=True)\n",
    "print('Accuracy')\n",
    "compute_cv_score(gbm, train_txf_df, train_txf_target, scoring='accuracy')\n",
    "print('F1:')\n",
    "compute_cv_score(gbm, train_txf_df, train_txf_target, scoring='f1')"
   ]
  },
  {
   "cell_type": "code",
   "execution_count": 78,
   "metadata": {},
   "outputs": [
    {
     "name": "stdout",
     "output_type": "stream",
     "text": [
      "Accuracy:\n",
      "  CV Score : Mean - 0.823813 | Std - 0.03673167 | Min - 0.7597765 | Max - 0.8715084\n",
      "F1:\n",
      "  CV Score : Mean - 0.7553875 | Std - 0.05025238 | Min - 0.6766917 | Max - 0.8321168\n"
     ]
    },
    {
     "data": {
      "text/plain": [
       "GradientBoostingClassifier(criterion='friedman_mse', init=None,\n",
       "              learning_rate=0.01, loss='deviance', max_depth=5,\n",
       "              max_features=0.3, max_leaf_nodes=None,\n",
       "              min_impurity_decrease=0.0, min_impurity_split=None,\n",
       "              min_samples_leaf=10, min_samples_split=10,\n",
       "              min_weight_fraction_leaf=0.0, n_estimators=1750,\n",
       "              presort='auto', random_state=0, subsample=0.6, verbose=0,\n",
       "              warm_start=False)"
      ]
     },
     "execution_count": 78,
     "metadata": {},
     "output_type": "execute_result"
    },
    {
     "data": {
      "image/png": "[encoded data removed]",
      "text/plain": [
       "<matplotlib.figure.Figure at 0x7efbb7524898>"
      ]
     },
     "metadata": {},
     "output_type": "display_data"
    }
   ],
   "source": [
    "# (6) Reduce learning rate (1/10 learning rate), n_estimators x 10\n",
    "\n",
    "count = gbm.get_params()['n_estimators']\n",
    "gbm.set_params(n_estimators=count*10, learning_rate=0.01)\n",
    "\n",
    "print('Accuracy:')\n",
    "compute_cv_score(gbm, train_txf_df, train_txf_target, scoring='accuracy')\n",
    "print('F1:')\n",
    "compute_cv_score(gbm, train_txf_df, train_txf_target, scoring='f1')\n",
    "\n",
    "gbm.fit(train_txf_df, train_txf_target)\n",
    "plot_feature_importance(train_txf_df.columns, gbm.feature_importances_)\n",
    "gbm"
   ]
  },
  {
   "cell_type": "code",
   "execution_count": 79,
   "metadata": {},
   "outputs": [
    {
     "name": "stdout",
     "output_type": "stream",
     "text": [
      "Confusion matrix, without normalization\n",
      "[[521  28]\n",
      " [ 80 262]]\n"
     ]
    },
    {
     "data": {
      "image/png": "[encoded data removed]",
      "text/plain": [
       "<matplotlib.figure.Figure at 0x7efbb807dc50>"
      ]
     },
     "metadata": {},
     "output_type": "display_data"
    }
   ],
   "source": [
    "pred = gbm.predict(train_txf_df)\n",
    "cm = confusion_matrix(train_txf_target, pred)\n",
    "plot_confusion_matrix(cm, [0, 1])"
   ]
  },
  {
   "cell_type": "markdown",
   "metadata": {},
   "source": [
    "- The submission score is 0.76077 (7/23) [63 features], kind of overfitting....\n",
    "- Revisit: the submission score is 0.76555 (7/27) [25 features]"
   ]
  },
  {
   "cell_type": "markdown",
   "metadata": {},
   "source": [
    "## (4) SVM"
   ]
  },
  {
   "cell_type": "code",
   "execution_count": 82,
   "metadata": {},
   "outputs": [
    {
     "name": "stdout",
     "output_type": "stream",
     "text": [
      "  KFold: 5\n",
      "  Best score: 0.8316498316498316\n",
      "  Best parameters: {'C': 1, 'gamma': 0.1}\n",
      "  [0.8103255 (+/-0.0716127) for {'C': 0.1, 'gamma': 0.1}]\n",
      "  [0.6576880 (+/-0.0323484) for {'C': 0.1, 'gamma': 0.01}]\n",
      "  [0.6161616 (+/-0.0031092) for {'C': 0.1, 'gamma': 0.001}]\n",
      "  [0.8316498 (+/-0.0734256) for {'C': 1, 'gamma': 0.1}]\n",
      "  [0.7946128 (+/-0.0676147) for {'C': 1, 'gamma': 0.01}]\n",
      "  [0.6801347 (+/-0.0319068) for {'C': 1, 'gamma': 0.001}]\n",
      "  [0.8204265 (+/-0.0835944) for {'C': 10, 'gamma': 0.1}]\n",
      "  [0.8226712 (+/-0.0697266) for {'C': 10, 'gamma': 0.01}]\n",
      "  [0.7890011 (+/-0.0720059) for {'C': 10, 'gamma': 0.001}]\n",
      "Accuracy\n",
      "  CV Score : Mean - 0.8316718 | Std - 0.03665053 | Min - 0.7653631 | Max - 0.8659218\n",
      "F1:\n",
      "  CV Score : Mean - 0.7697491 | Std - 0.05047881 | Min - 0.6818182 | Max - 0.8208955\n"
     ]
    },
    {
     "data": {
      "text/plain": [
       "SVC(C=1, cache_size=200, class_weight=None, coef0=0.0,\n",
       "  decision_function_shape='ovr', degree=3, gamma=0.1, kernel='rbf',\n",
       "  max_iter=-1, probability=False, random_state=0, shrinking=True,\n",
       "  tol=0.001, verbose=False)"
      ]
     },
     "execution_count": 82,
     "metadata": {},
     "output_type": "execute_result"
    }
   ],
   "source": [
    "# Use default values\n",
    "\n",
    "svc = SVC(random_state=RANDOM_SEED)\n",
    "\n",
    "parameter_grid = {\n",
    "    \"C\": [0.1, 1, 10],\n",
    "    \"gamma\": [0.1, 0.01, 0.001]\n",
    "}\n",
    "\n",
    "svc = get_best_cv_model(svc, train_txf_df, train_txf_target, parameter_grid, scoring='accuracy', show=True)\n",
    "print('Accuracy')\n",
    "compute_cv_score(svc, train_txf_df, train_txf_target, scoring='accuracy')\n",
    "print('F1:')\n",
    "compute_cv_score(svc, train_txf_df, train_txf_target, scoring='f1')\n",
    "\n",
    "svc"
   ]
  },
  {
   "cell_type": "code",
   "execution_count": 83,
   "metadata": {},
   "outputs": [
    {
     "name": "stdout",
     "output_type": "stream",
     "text": [
      "Confusion matrix, without normalization\n",
      "[[492  57]\n",
      " [ 91 251]]\n"
     ]
    },
    {
     "data": {
      "image/png": "[encoded data removed]",
      "text/plain": [
       "<matplotlib.figure.Figure at 0x7efbb759cda0>"
      ]
     },
     "metadata": {},
     "output_type": "display_data"
    }
   ],
   "source": [
    "pred = svc.predict(train_txf_df)\n",
    "cm = confusion_matrix(train_txf_target, pred)\n",
    "plot_confusion_matrix(cm, [0, 1])"
   ]
  },
  {
   "cell_type": "markdown",
   "metadata": {},
   "source": [
    "- The submission score is 0.78947 (7/23) [63 features]\n",
    "- SVM seems to be also effected by feature normalization (0.73648 vs. 0.78947)\n",
    "- Revisit: the submission score is 0.78947 (7/27) [25 features]"
   ]
  },
  {
   "cell_type": "markdown",
   "metadata": {},
   "source": [
    "## (5) ExtraTreesClassifier"
   ]
  },
  {
   "cell_type": "code",
   "execution_count": 89,
   "metadata": {},
   "outputs": [
    {
     "name": "stdout",
     "output_type": "stream",
     "text": [
      "  KFold: 5\n",
      "  Best score: 0.8338945005611672\n",
      "  Best parameters: {'max_features': 'sqrt', 'min_samples_leaf': 10, 'min_samples_split': 75, 'n_estimators': 100}\n",
      "Accuracy\n",
      "  CV Score : Mean - 0.8339128 | Std - 0.03519717 | Min - 0.7709497 | Max - 0.8715084\n",
      "F1:\n",
      "  CV Score : Mean - 0.7743483 | Std - 0.04762418 | Min - 0.6917293 | Max - 0.8270677\n"
     ]
    },
    {
     "data": {
      "text/plain": [
       "ExtraTreesClassifier(bootstrap=False, class_weight=None, criterion='gini',\n",
       "           max_depth=6, max_features='sqrt', max_leaf_nodes=None,\n",
       "           min_impurity_decrease=0.0, min_impurity_split=None,\n",
       "           min_samples_leaf=10, min_samples_split=75,\n",
       "           min_weight_fraction_leaf=0.0, n_estimators=100, n_jobs=1,\n",
       "           oob_score=False, random_state=0, verbose=0, warm_start=False)"
      ]
     },
     "execution_count": 89,
     "metadata": {},
     "output_type": "execute_result"
    },
    {
     "data": {
      "image/png": "[encoded data removed]",
      "text/plain": [
       "<matplotlib.figure.Figure at 0x7efbb60106a0>"
      ]
     },
     "metadata": {},
     "output_type": "display_data"
    }
   ],
   "source": [
    "# tuning n_estimators, max_features and min_samples_split by cross-validated grid search\n",
    "\n",
    "etc = ExtraTreesClassifier(min_samples_split=10,\n",
    "                           min_samples_leaf=50,\n",
    "                           max_depth=6,\n",
    "                           max_features='sqrt',\n",
    "                           random_state=RANDOM_SEED)\n",
    "\n",
    "parameter_grid = {\n",
    "    'n_estimators': [50, 75, 100, 125, 150, 175, 200],\n",
    "    'max_features': ['sqrt', 0.3],\n",
    "    'min_samples_split': [10, 25, 50, 75],\n",
    "    'min_samples_leaf': [5, 10, 25, 50]\n",
    "}\n",
    "\n",
    "etc = get_best_cv_model(etc, train_txf_df, train_txf_target, parameter_grid, scoring='accuracy', show=False)\n",
    "print('Accuracy')\n",
    "compute_cv_score(etc, train_txf_df, train_txf_target, scoring='accuracy')\n",
    "print('F1:')\n",
    "compute_cv_score(etc, train_txf_df, train_txf_target, scoring='f1')\n",
    "\n",
    "etc.fit(train_txf_df, train_txf_target)\n",
    "plot_feature_importance(train_txf_df.columns, etc.feature_importances_)\n",
    "etc"
   ]
  },
  {
   "cell_type": "code",
   "execution_count": 90,
   "metadata": {},
   "outputs": [
    {
     "name": "stdout",
     "output_type": "stream",
     "text": [
      "Confusion matrix, without normalization\n",
      "[[489  60]\n",
      " [ 87 255]]\n"
     ]
    },
    {
     "data": {
      "image/png": "[encoded data removed]",
      "text/plain": [
       "<matplotlib.figure.Figure at 0x7efbb5d32470>"
      ]
     },
     "metadata": {},
     "output_type": "display_data"
    }
   ],
   "source": [
    "pred = etc.predict(train_txf_df)\n",
    "cm = confusion_matrix(train_txf_target, pred)\n",
    "plot_confusion_matrix(cm, [0, 1])"
   ]
  },
  {
   "cell_type": "markdown",
   "metadata": {},
   "source": [
    "- The submisssion score is 0.79426 (7/23) [63 features]\n",
    "- Revisit: the submission score is 0.79426 (7/27) [25 features]"
   ]
  },
  {
   "cell_type": "markdown",
   "metadata": {
    "collapsed": true
   },
   "source": [
    "## TODO: LightGBM"
   ]
  },
  {
   "cell_type": "markdown",
   "metadata": {},
   "source": [
    "# Ensemble/Stacking\n",
    "# Illustration ![](http://7xlo8f.com1.z0.glb.clouddn.com/blog-diagram-stacking.jpg)"
   ]
  },
  {
   "cell_type": "code",
   "execution_count": 94,
   "metadata": {
    "collapsed": true
   },
   "outputs": [],
   "source": [
    "from sklearn.model_selection import KFold\n",
    "\n",
    "def get_stacker_dataset(X, y, T, n_folds, base_models):\n",
    "    X = np.array(X)\n",
    "    y = np.array(y)\n",
    "    T = np.array(T)\n",
    "        \n",
    "    kf = KFold(n_splits=n_folds, shuffle=True, random_state=RANDOM_SEED)        \n",
    "    S_train = np.zeros((X.shape[0], len(base_models)))\n",
    "    S_test = np.zeros((T.shape[0], len(base_models)))\n",
    "    for i, clf in enumerate(base_models):\n",
    "        S_test_i = np.zeros((T.shape[0], n_folds))\n",
    "        for j, (train_idx, test_idx) in enumerate(kf.split(X, y)):\n",
    "            X_train = X[train_idx]\n",
    "            y_train = y[train_idx]\n",
    "            X_holdout = X[test_idx]\n",
    "\n",
    "            clf.fit(X_train, y_train)\n",
    "            S_train[test_idx, i] = clf.predict(X_holdout)[:]\n",
    "            S_test_i[:, j] = clf.predict(T)[:]\n",
    "            \n",
    "        S_test[:, i] = S_test_i.mean(1).round()\n",
    "        \n",
    "    return S_train, S_test\n",
    "\n",
    "def modelfit2(booster, dtrain, target, cv_folds=KFOLD, early_stopping_rounds=100):\n",
    "    xgb_param = booster.get_xgb_params()\n",
    "    xgtrain = xgboost.DMatrix(dtrain, label=target)\n",
    "    cvresult = xgboost.cv(xgb_param, xgtrain, num_boost_round=booster.get_params()['n_estimators'], \n",
    "                          nfold=cv_folds, seed=RANDOM_SEED, early_stopping_rounds=early_stopping_rounds)\n",
    "    booster.set_params(n_estimators=cvresult.shape[0])\n",
    "    print('n_estimators = %d'%cvresult.shape[0])\n",
    "    return booster"
   ]
  },
  {
   "cell_type": "code",
   "execution_count": 96,
   "metadata": {},
   "outputs": [
    {
     "name": "stdout",
     "output_type": "stream",
     "text": [
      "(891, 4) (418, 4)\n",
      "n_estimators = 130\n"
     ]
    }
   ],
   "source": [
    "from sklearn.base import clone\n",
    "\n",
    "# Tuning stacker\n",
    "stacker = clone(xgb)\n",
    "\n",
    "rf_base = clone(rf)\n",
    "xgb_base = clone(xgb)\n",
    "etc_base = clone(etc)\n",
    "svc_base = clone(svc)\n",
    "\n",
    "base_models = [rf_base, xgb_base, etc_base, svc_base]\n",
    "stack_train, stack_test = get_stacker_dataset(train_txf_df, train_txf_target, test_txf_df, KFOLD, base_models)\n",
    "print(stack_train.shape, stack_test.shape)\n",
    "\n",
    "# (1) get n_estimators\n",
    "stacker = modelfit2(stacker, stack_train, train_txf_target, cv_folds=KFOLD)"
   ]
  },
  {
   "cell_type": "code",
   "execution_count": 100,
   "metadata": {},
   "outputs": [
    {
     "name": "stdout",
     "output_type": "stream",
     "text": [
      "  KFold: 5\n",
      "  Best score: 0.8260381593714927\n",
      "  Best parameters: {'max_depth': 3, 'min_child_weight': 5}\n"
     ]
    }
   ],
   "source": [
    "# (2) Tune max_depth & min_child_weight\n",
    "parameter_grid = {\n",
    "    'max_depth': [3, 4, 5, 6, 7], # 3 ~ 10\n",
    "    'min_child_weight': [5, 10, 25, 50] # A smaller value for imbalanced class\n",
    "}\n",
    "stacker = get_best_cv_model(stacker, stack_train, train_txf_target, parameter_grid, scoring='accuracy', show=False)"
   ]
  },
  {
   "cell_type": "code",
   "execution_count": 101,
   "metadata": {},
   "outputs": [
    {
     "name": "stdout",
     "output_type": "stream",
     "text": [
      "  KFold: 5\n",
      "  Best score: 0.8260381593714927\n",
      "  Best parameters: {'gamma': 0.0}\n"
     ]
    }
   ],
   "source": [
    "# (3) Tune gamma\n",
    "parameter_grid = {\n",
    "    'gamma': [i/10.0 for i in range(0, 5)]\n",
    "}\n",
    "stacker = get_best_cv_model(stacker, stack_train, train_txf_target, parameter_grid, scoring='accuracy', show=False)"
   ]
  },
  {
   "cell_type": "code",
   "execution_count": 102,
   "metadata": {},
   "outputs": [
    {
     "name": "stdout",
     "output_type": "stream",
     "text": [
      "n_estimators = 32\n"
     ]
    }
   ],
   "source": [
    "# Recalibrate the number of boosting rounds for the updated parameters.\n",
    "# reset n_estimators to 1000 to get new n_estimators\n",
    "stacker.set_params(n_estimators=1000)\n",
    "stacker = modelfit2(stacker, stack_train, train_txf_target)"
   ]
  },
  {
   "cell_type": "code",
   "execution_count": 103,
   "metadata": {},
   "outputs": [
    {
     "name": "stdout",
     "output_type": "stream",
     "text": [
      "  KFold: 5\n",
      "  Best score: 0.8338945005611672\n",
      "  Best parameters: {'colsample_bytree': 0.6, 'subsample': 0.7}\n"
     ]
    }
   ],
   "source": [
    "# (4) Tune subsample and colsample_bytree\n",
    "parameter_grid = {\n",
    "    'subsample': [0.6, 0.7, 0.8, 0.9],\n",
    "    'colsample_bytree': [0.6, 0.7, 0.8, 0.9]\n",
    "}\n",
    "stacker = get_best_cv_model(stacker, stack_train, train_txf_target, parameter_grid, scoring='accuracy', show=False)"
   ]
  },
  {
   "cell_type": "code",
   "execution_count": 104,
   "metadata": {},
   "outputs": [
    {
     "name": "stdout",
     "output_type": "stream",
     "text": [
      "  KFold: 5\n",
      "  Best score: 0.8338945005611672\n",
      "  Best parameters: {'colsample_bytree': 0.55, 'subsample': 0.7}\n"
     ]
    }
   ],
   "source": [
    "parameter_grid = {\n",
    "    'subsample': [0.65, 0.7, 0.75],\n",
    "    'colsample_bytree': [0.55, 0.6, 0.65]\n",
    "}\n",
    "stacker = get_best_cv_model(stacker, stack_train, train_txf_target, parameter_grid, scoring='accuracy', show=False)"
   ]
  },
  {
   "cell_type": "code",
   "execution_count": 105,
   "metadata": {},
   "outputs": [
    {
     "name": "stdout",
     "output_type": "stream",
     "text": [
      "  KFold: 5\n",
      "  Best score: 0.8338945005611672\n",
      "  Best parameters: {'reg_alpha': 1e-05}\n"
     ]
    }
   ],
   "source": [
    "# (5) Tuning Regularization Parameters\n",
    "parameter_grid = {\n",
    "    'reg_alpha':[1e-5, 1e-2, 0.1, 1, 100]\n",
    "}\n",
    "stacker = get_best_cv_model(stacker, stack_train, train_txf_target, parameter_grid, scoring='accuracy', show=False)"
   ]
  },
  {
   "cell_type": "code",
   "execution_count": 106,
   "metadata": {},
   "outputs": [
    {
     "name": "stdout",
     "output_type": "stream",
     "text": [
      "n_estimators = 32\n",
      "Accuracy:\n",
      "  CV Score : Mean - 0.8339191 | Std - 0.03445463 | Min - 0.7709497 | Max - 0.8659218\n",
      "F1:\n",
      "  CV Score : Mean - 0.7743168 | Std - 0.04674729 | Min - 0.6917293 | Max - 0.8208955\n",
      "Confusion matrix, without normalization\n",
      "[[489  60]\n",
      " [ 87 255]]\n"
     ]
    },
    {
     "data": {
      "image/png": "[encoded data removed]",
      "text/plain": [
       "<matplotlib.figure.Figure at 0x7efbb60ac208>"
      ]
     },
     "metadata": {},
     "output_type": "display_data"
    }
   ],
   "source": [
    "# (6) Reduce learning rate (1/10 learning rate)\n",
    "stacker.set_params(n_estimators=5000, learning_rate=0.01)\n",
    "stacker = modelfit2(stacker, stack_train, train_txf_target)\n",
    "\n",
    "print('Accuracy:')\n",
    "compute_cv_score(stacker, stack_train, train_txf_target, scoring='accuracy')\n",
    "print('F1:')\n",
    "compute_cv_score(stacker, stack_train, train_txf_target, scoring='f1')\n",
    "stacker.fit(stack_train, train_txf_target)\n",
    "\n",
    "pred = stacker.predict(stack_train)\n",
    "cm = confusion_matrix(train_txf_target, pred)\n",
    "plot_confusion_matrix(cm, [0, 1])\n",
    "\n",
    "# final predictions\n",
    "pred = stacker.predict(stack_test).astype(int)"
   ]
  },
  {
   "cell_type": "markdown",
   "metadata": {},
   "source": [
    "- The submission score is 0.78947..... (7/23)\n",
    "- Revisit: the submission score is 0.79426 (7/27)"
   ]
  },
  {
   "cell_type": "markdown",
   "metadata": {},
   "source": [
    "# Ensemble/Averaging "
   ]
  },
  {
   "cell_type": "code",
   "execution_count": null,
   "metadata": {
    "collapsed": true
   },
   "outputs": [],
   "source": [
    "# TODO"
   ]
  },
  {
   "cell_type": "markdown",
   "metadata": {},
   "source": [
    "# Output Predictions"
   ]
  },
  {
   "cell_type": "code",
   "execution_count": 108,
   "metadata": {
    "collapsed": true
   },
   "outputs": [],
   "source": [
    "modelx = xgb\n",
    "\n",
    "pred = modelx.predict(test_txf_df).astype(int)\n",
    "\n",
    "df_output = pd.DataFrame()\n",
    "aux = pd.read_csv(\"../input/test.csv\")\n",
    "df_output['PassengerId'] = aux['PassengerId']\n",
    "df_output['Survived'] = pred\n",
    "df_output[['PassengerId','Survived']].to_csv('titanic-0727-xgb-reduced.csv',index=False)"
   ]
  },
  {
   "cell_type": "markdown",
   "metadata": {
    "collapsed": true
   },
   "source": [
    "# Final Submission Score "
   ]
  },
  {
   "cell_type": "code",
   "execution_count": null,
   "metadata": {
    "collapsed": true
   },
   "outputs": [],
   "source": []
  }
 ],
 "metadata": {
  "kernelspec": {
   "display_name": "Python 3",
   "language": "python",
   "name": "python3"
  },
  "language_info": {
   "codemirror_mode": {
    "name": "ipython",
    "version": 3
   },
   "file_extension": ".py",
   "mimetype": "text/x-python",
   "name": "python",
   "nbconvert_exporter": "python",
   "pygments_lexer": "ipython3",
   "version": "3.6.1"
  }
 },
 "nbformat": 4,
 "nbformat_minor": 2
}
