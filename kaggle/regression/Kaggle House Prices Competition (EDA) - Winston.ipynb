{
 "cells": [
  {
   "cell_type": "markdown",
   "metadata": {},
   "source": [
    "# Summary\n",
    "\n",
    "- Exploratory Data Analysis + Data Visualization\n",
    "- Data preprocessing\n",
    "    - Impute Missings [train + test]\n",
    "    - Remove Outliers [train] ==> defer to Feature Engineering\n",
    "- Feature Engineering\n",
    "    - Transform Mis-typed Numerical to Categorical features [train + test]\n",
    "    - Add combinations of Numerical features [train + test]\n",
    "    - Transform Categorical to Numerical features (with ordering, labelencoder) [train + test]\n",
    "    - Add further combinational features of Numerical features [train + test]\n",
    "    - Transform Categorical to Numerical features (without ordering, one-hot encoding) [train + test]\n",
    "    - Split into transformed train and test datasets\n",
    "    - UnSkew features [train, then test]\n",
    "    - Feature Scaling [train, then test]\n",
    "    - Remove Outliers [train]\n",
    "- Modelling\n",
    "    \n"
   ]
  },
  {
   "cell_type": "markdown",
   "metadata": {},
   "source": [
    "### Cheatsheet of Seaborn:\n",
    "- numerical:\n",
    "    - univariate distributions -> sns.distplot\n",
    "    - Bivariate distributions -> plt.scatter\n",
    "    - Pairwise relationsips -> sns.pairplot\n",
    "\n",
    "- categorical:\n",
    "    - scatterplots -> sns.stripplot / sns.swarmplot\n",
    "    - distributions within categories -> sns.boxplot\n",
    "    - statistical estimation within categories -> sns.barplot\n",
    "    - historgram-like -> sns.countplot "
   ]
  },
  {
   "cell_type": "markdown",
   "metadata": {},
   "source": [
    "# Import modules, libraries"
   ]
  },
  {
   "cell_type": "code",
   "execution_count": 1,
   "metadata": {},
   "outputs": [
    {
     "name": "stderr",
     "output_type": "stream",
     "text": [
      "/home/winston/.pyenv/versions/3.5.2/envs/tf-p35/lib/python3.5/site-packages/sklearn/cross_validation.py:44: DeprecationWarning: This module was deprecated in version 0.18 in favor of the model_selection module into which all the refactored classes and functions are moved. Also note that the interface of the new CV iterators are different from that of this module. This module will be removed in 0.20.\n",
      "  \"This module will be removed in 0.20.\", DeprecationWarning)\n"
     ]
    }
   ],
   "source": [
    "import pandas as pd\n",
    "from pandas import Series, DataFrame\n",
    "\n",
    "import numpy as np\n",
    "import matplotlib.pyplot as plt\n",
    "import seaborn as sns\n",
    "import itertools\n",
    "sns.set_style('whitegrid')\n",
    "%matplotlib inline\n",
    "\n",
    "import warnings\n",
    "warnings.filterwarnings('ignore')\n",
    "\n",
    "from scipy import stats\n",
    "from scipy.stats import norm, skew, lognorm\n",
    "\n",
    "from sklearn.model_selection import cross_val_score, KFold, GridSearchCV\n",
    "from xgboost.sklearn import XGBRegressor\n",
    "from sklearn.ensemble import GradientBoostingRegressor\n",
    "import xgboost\n",
    "\n",
    "\n",
    "KFOLD = 5\n",
    "RANDOM_SEED = 0\n"
   ]
  },
  {
   "cell_type": "markdown",
   "metadata": {},
   "source": [
    "# Load datasets"
   ]
  },
  {
   "cell_type": "code",
   "execution_count": 2,
   "metadata": {
    "collapsed": true
   },
   "outputs": [],
   "source": [
    "train_df = pd.read_csv(\"../input/train.csv\")\n",
    "test_df = pd.read_csv(\"../input/test.csv\")\n",
    "\n",
    "# use total_df for data cleaning & feature engineering later on\n",
    "total_df = pd.concat([train_df, test_df], ignore_index=True)"
   ]
  },
  {
   "cell_type": "markdown",
   "metadata": {},
   "source": [
    "# Preview datasets"
   ]
  },
  {
   "cell_type": "code",
   "execution_count": 3,
   "metadata": {},
   "outputs": [
    {
     "name": "stdout",
     "output_type": "stream",
     "text": [
      "Training dataset columns & shapes:\n",
      "['Id' 'MSSubClass' 'MSZoning' 'LotFrontage' 'LotArea' 'Street' 'Alley'\n",
      " 'LotShape' 'LandContour' 'Utilities' 'LotConfig' 'LandSlope'\n",
      " 'Neighborhood' 'Condition1' 'Condition2' 'BldgType' 'HouseStyle'\n",
      " 'OverallQual' 'OverallCond' 'YearBuilt' 'YearRemodAdd' 'RoofStyle'\n",
      " 'RoofMatl' 'Exterior1st' 'Exterior2nd' 'MasVnrType' 'MasVnrArea'\n",
      " 'ExterQual' 'ExterCond' 'Foundation' 'BsmtQual' 'BsmtCond' 'BsmtExposure'\n",
      " 'BsmtFinType1' 'BsmtFinSF1' 'BsmtFinType2' 'BsmtFinSF2' 'BsmtUnfSF'\n",
      " 'TotalBsmtSF' 'Heating' 'HeatingQC' 'CentralAir' 'Electrical' '1stFlrSF'\n",
      " '2ndFlrSF' 'LowQualFinSF' 'GrLivArea' 'BsmtFullBath' 'BsmtHalfBath'\n",
      " 'FullBath' 'HalfBath' 'BedroomAbvGr' 'KitchenAbvGr' 'KitchenQual'\n",
      " 'TotRmsAbvGrd' 'Functional' 'Fireplaces' 'FireplaceQu' 'GarageType'\n",
      " 'GarageYrBlt' 'GarageFinish' 'GarageCars' 'GarageArea' 'GarageQual'\n",
      " 'GarageCond' 'PavedDrive' 'WoodDeckSF' 'OpenPorchSF' 'EnclosedPorch'\n",
      " '3SsnPorch' 'ScreenPorch' 'PoolArea' 'PoolQC' 'Fence' 'MiscFeature'\n",
      " 'MiscVal' 'MoSold' 'YrSold' 'SaleType' 'SaleCondition' 'SalePrice'] (1460, 81)\n",
      "--------------------------------------------------------------------------------\n",
      "Test dataset columns & shapes:\n",
      "['Id' 'MSSubClass' 'MSZoning' 'LotFrontage' 'LotArea' 'Street' 'Alley'\n",
      " 'LotShape' 'LandContour' 'Utilities' 'LotConfig' 'LandSlope'\n",
      " 'Neighborhood' 'Condition1' 'Condition2' 'BldgType' 'HouseStyle'\n",
      " 'OverallQual' 'OverallCond' 'YearBuilt' 'YearRemodAdd' 'RoofStyle'\n",
      " 'RoofMatl' 'Exterior1st' 'Exterior2nd' 'MasVnrType' 'MasVnrArea'\n",
      " 'ExterQual' 'ExterCond' 'Foundation' 'BsmtQual' 'BsmtCond' 'BsmtExposure'\n",
      " 'BsmtFinType1' 'BsmtFinSF1' 'BsmtFinType2' 'BsmtFinSF2' 'BsmtUnfSF'\n",
      " 'TotalBsmtSF' 'Heating' 'HeatingQC' 'CentralAir' 'Electrical' '1stFlrSF'\n",
      " '2ndFlrSF' 'LowQualFinSF' 'GrLivArea' 'BsmtFullBath' 'BsmtHalfBath'\n",
      " 'FullBath' 'HalfBath' 'BedroomAbvGr' 'KitchenAbvGr' 'KitchenQual'\n",
      " 'TotRmsAbvGrd' 'Functional' 'Fireplaces' 'FireplaceQu' 'GarageType'\n",
      " 'GarageYrBlt' 'GarageFinish' 'GarageCars' 'GarageArea' 'GarageQual'\n",
      " 'GarageCond' 'PavedDrive' 'WoodDeckSF' 'OpenPorchSF' 'EnclosedPorch'\n",
      " '3SsnPorch' 'ScreenPorch' 'PoolArea' 'PoolQC' 'Fence' 'MiscFeature'\n",
      " 'MiscVal' 'MoSold' 'YrSold' 'SaleType' 'SaleCondition'] (1459, 80)\n",
      "--------------------------------------------------------------------------------\n",
      "Peek train dataset\n"
     ]
    },
    {
     "data": {
      "text/html": [
       "<div>\n",
       "<style>\n",
       "    .dataframe thead tr:only-child th {\n",
       "        text-align: right;\n",
       "    }\n",
       "\n",
       "    .dataframe thead th {\n",
       "        text-align: left;\n",
       "    }\n",
       "\n",
       "    .dataframe tbody tr th {\n",
       "        vertical-align: top;\n",
       "    }\n",
       "</style>\n",
       "<table border=\"1\" class=\"dataframe\">\n",
       "  <thead>\n",
       "    <tr style=\"text-align: right;\">\n",
       "      <th></th>\n",
       "      <th>Id</th>\n",
       "      <th>MSSubClass</th>\n",
       "      <th>MSZoning</th>\n",
       "      <th>LotFrontage</th>\n",
       "      <th>LotArea</th>\n",
       "      <th>Street</th>\n",
       "      <th>Alley</th>\n",
       "      <th>LotShape</th>\n",
       "      <th>LandContour</th>\n",
       "      <th>Utilities</th>\n",
       "      <th>...</th>\n",
       "      <th>PoolArea</th>\n",
       "      <th>PoolQC</th>\n",
       "      <th>Fence</th>\n",
       "      <th>MiscFeature</th>\n",
       "      <th>MiscVal</th>\n",
       "      <th>MoSold</th>\n",
       "      <th>YrSold</th>\n",
       "      <th>SaleType</th>\n",
       "      <th>SaleCondition</th>\n",
       "      <th>SalePrice</th>\n",
       "    </tr>\n",
       "  </thead>\n",
       "  <tbody>\n",
       "    <tr>\n",
       "      <th>0</th>\n",
       "      <td>1</td>\n",
       "      <td>60</td>\n",
       "      <td>RL</td>\n",
       "      <td>65.0</td>\n",
       "      <td>8450</td>\n",
       "      <td>Pave</td>\n",
       "      <td>NaN</td>\n",
       "      <td>Reg</td>\n",
       "      <td>Lvl</td>\n",
       "      <td>AllPub</td>\n",
       "      <td>...</td>\n",
       "      <td>0</td>\n",
       "      <td>NaN</td>\n",
       "      <td>NaN</td>\n",
       "      <td>NaN</td>\n",
       "      <td>0</td>\n",
       "      <td>2</td>\n",
       "      <td>2008</td>\n",
       "      <td>WD</td>\n",
       "      <td>Normal</td>\n",
       "      <td>208500</td>\n",
       "    </tr>\n",
       "    <tr>\n",
       "      <th>1</th>\n",
       "      <td>2</td>\n",
       "      <td>20</td>\n",
       "      <td>RL</td>\n",
       "      <td>80.0</td>\n",
       "      <td>9600</td>\n",
       "      <td>Pave</td>\n",
       "      <td>NaN</td>\n",
       "      <td>Reg</td>\n",
       "      <td>Lvl</td>\n",
       "      <td>AllPub</td>\n",
       "      <td>...</td>\n",
       "      <td>0</td>\n",
       "      <td>NaN</td>\n",
       "      <td>NaN</td>\n",
       "      <td>NaN</td>\n",
       "      <td>0</td>\n",
       "      <td>5</td>\n",
       "      <td>2007</td>\n",
       "      <td>WD</td>\n",
       "      <td>Normal</td>\n",
       "      <td>181500</td>\n",
       "    </tr>\n",
       "    <tr>\n",
       "      <th>2</th>\n",
       "      <td>3</td>\n",
       "      <td>60</td>\n",
       "      <td>RL</td>\n",
       "      <td>68.0</td>\n",
       "      <td>11250</td>\n",
       "      <td>Pave</td>\n",
       "      <td>NaN</td>\n",
       "      <td>IR1</td>\n",
       "      <td>Lvl</td>\n",
       "      <td>AllPub</td>\n",
       "      <td>...</td>\n",
       "      <td>0</td>\n",
       "      <td>NaN</td>\n",
       "      <td>NaN</td>\n",
       "      <td>NaN</td>\n",
       "      <td>0</td>\n",
       "      <td>9</td>\n",
       "      <td>2008</td>\n",
       "      <td>WD</td>\n",
       "      <td>Normal</td>\n",
       "      <td>223500</td>\n",
       "    </tr>\n",
       "    <tr>\n",
       "      <th>3</th>\n",
       "      <td>4</td>\n",
       "      <td>70</td>\n",
       "      <td>RL</td>\n",
       "      <td>60.0</td>\n",
       "      <td>9550</td>\n",
       "      <td>Pave</td>\n",
       "      <td>NaN</td>\n",
       "      <td>IR1</td>\n",
       "      <td>Lvl</td>\n",
       "      <td>AllPub</td>\n",
       "      <td>...</td>\n",
       "      <td>0</td>\n",
       "      <td>NaN</td>\n",
       "      <td>NaN</td>\n",
       "      <td>NaN</td>\n",
       "      <td>0</td>\n",
       "      <td>2</td>\n",
       "      <td>2006</td>\n",
       "      <td>WD</td>\n",
       "      <td>Abnorml</td>\n",
       "      <td>140000</td>\n",
       "    </tr>\n",
       "    <tr>\n",
       "      <th>4</th>\n",
       "      <td>5</td>\n",
       "      <td>60</td>\n",
       "      <td>RL</td>\n",
       "      <td>84.0</td>\n",
       "      <td>14260</td>\n",
       "      <td>Pave</td>\n",
       "      <td>NaN</td>\n",
       "      <td>IR1</td>\n",
       "      <td>Lvl</td>\n",
       "      <td>AllPub</td>\n",
       "      <td>...</td>\n",
       "      <td>0</td>\n",
       "      <td>NaN</td>\n",
       "      <td>NaN</td>\n",
       "      <td>NaN</td>\n",
       "      <td>0</td>\n",
       "      <td>12</td>\n",
       "      <td>2008</td>\n",
       "      <td>WD</td>\n",
       "      <td>Normal</td>\n",
       "      <td>250000</td>\n",
       "    </tr>\n",
       "  </tbody>\n",
       "</table>\n",
       "<p>5 rows × 81 columns</p>\n",
       "</div>"
      ],
      "text/plain": [
       "   Id  MSSubClass MSZoning  LotFrontage  LotArea Street Alley LotShape  \\\n",
       "0   1          60       RL         65.0     8450   Pave   NaN      Reg   \n",
       "1   2          20       RL         80.0     9600   Pave   NaN      Reg   \n",
       "2   3          60       RL         68.0    11250   Pave   NaN      IR1   \n",
       "3   4          70       RL         60.0     9550   Pave   NaN      IR1   \n",
       "4   5          60       RL         84.0    14260   Pave   NaN      IR1   \n",
       "\n",
       "  LandContour Utilities    ...     PoolArea PoolQC Fence MiscFeature MiscVal  \\\n",
       "0         Lvl    AllPub    ...            0    NaN   NaN         NaN       0   \n",
       "1         Lvl    AllPub    ...            0    NaN   NaN         NaN       0   \n",
       "2         Lvl    AllPub    ...            0    NaN   NaN         NaN       0   \n",
       "3         Lvl    AllPub    ...            0    NaN   NaN         NaN       0   \n",
       "4         Lvl    AllPub    ...            0    NaN   NaN         NaN       0   \n",
       "\n",
       "  MoSold YrSold  SaleType  SaleCondition  SalePrice  \n",
       "0      2   2008        WD         Normal     208500  \n",
       "1      5   2007        WD         Normal     181500  \n",
       "2      9   2008        WD         Normal     223500  \n",
       "3      2   2006        WD        Abnorml     140000  \n",
       "4     12   2008        WD         Normal     250000  \n",
       "\n",
       "[5 rows x 81 columns]"
      ]
     },
     "execution_count": 3,
     "metadata": {},
     "output_type": "execute_result"
    }
   ],
   "source": [
    "print('Training dataset columns & shapes:')\n",
    "print(train_df.columns.values, train_df.shape)\n",
    "print('-'*80)\n",
    "print('Test dataset columns & shapes:')\n",
    "print(test_df.columns.values, test_df.shape)\n",
    "print('-'*80)\n",
    "print('Peek train dataset')\n",
    "train_df.head()"
   ]
  },
  {
   "cell_type": "markdown",
   "metadata": {},
   "source": [
    "## (1) Check features datatypes"
   ]
  },
  {
   "cell_type": "code",
   "execution_count": 4,
   "metadata": {},
   "outputs": [
    {
     "name": "stdout",
     "output_type": "stream",
     "text": [
      "numeric features # = 38 & categorical features # = 43\n"
     ]
    }
   ],
   "source": [
    "num_features = [col for col in total_df.columns if total_df.dtypes[col] != 'object']\n",
    "cat_features = [col for col in total_df.columns if total_df.dtypes[col] == 'object']\n",
    "print('numeric features # = %d & categorical features # = %d' % (len(num_features), len(cat_features)))"
   ]
  },
  {
   "cell_type": "markdown",
   "metadata": {},
   "source": [
    "## (2) Check missing values"
   ]
  },
  {
   "cell_type": "code",
   "execution_count": 5,
   "metadata": {},
   "outputs": [
    {
     "data": {
      "text/html": [
       "<div>\n",
       "<style>\n",
       "    .dataframe thead tr:only-child th {\n",
       "        text-align: right;\n",
       "    }\n",
       "\n",
       "    .dataframe thead th {\n",
       "        text-align: left;\n",
       "    }\n",
       "\n",
       "    .dataframe tbody tr th {\n",
       "        vertical-align: top;\n",
       "    }\n",
       "</style>\n",
       "<table border=\"1\" class=\"dataframe\">\n",
       "  <thead>\n",
       "    <tr style=\"text-align: right;\">\n",
       "      <th></th>\n",
       "      <th>Missing count</th>\n",
       "      <th>Missing ratio</th>\n",
       "    </tr>\n",
       "  </thead>\n",
       "  <tbody>\n",
       "    <tr>\n",
       "      <th>PoolQC</th>\n",
       "      <td>2909</td>\n",
       "      <td>99.657417</td>\n",
       "    </tr>\n",
       "    <tr>\n",
       "      <th>MiscFeature</th>\n",
       "      <td>2814</td>\n",
       "      <td>96.402878</td>\n",
       "    </tr>\n",
       "    <tr>\n",
       "      <th>Alley</th>\n",
       "      <td>2721</td>\n",
       "      <td>93.216855</td>\n",
       "    </tr>\n",
       "    <tr>\n",
       "      <th>Fence</th>\n",
       "      <td>2348</td>\n",
       "      <td>80.438506</td>\n",
       "    </tr>\n",
       "    <tr>\n",
       "      <th>SalePrice</th>\n",
       "      <td>1459</td>\n",
       "      <td>49.982871</td>\n",
       "    </tr>\n",
       "    <tr>\n",
       "      <th>FireplaceQu</th>\n",
       "      <td>1420</td>\n",
       "      <td>48.646797</td>\n",
       "    </tr>\n",
       "    <tr>\n",
       "      <th>LotFrontage</th>\n",
       "      <td>486</td>\n",
       "      <td>16.649538</td>\n",
       "    </tr>\n",
       "    <tr>\n",
       "      <th>GarageQual</th>\n",
       "      <td>159</td>\n",
       "      <td>5.447071</td>\n",
       "    </tr>\n",
       "    <tr>\n",
       "      <th>GarageCond</th>\n",
       "      <td>159</td>\n",
       "      <td>5.447071</td>\n",
       "    </tr>\n",
       "    <tr>\n",
       "      <th>GarageFinish</th>\n",
       "      <td>159</td>\n",
       "      <td>5.447071</td>\n",
       "    </tr>\n",
       "    <tr>\n",
       "      <th>GarageYrBlt</th>\n",
       "      <td>159</td>\n",
       "      <td>5.447071</td>\n",
       "    </tr>\n",
       "    <tr>\n",
       "      <th>GarageType</th>\n",
       "      <td>157</td>\n",
       "      <td>5.378554</td>\n",
       "    </tr>\n",
       "    <tr>\n",
       "      <th>BsmtExposure</th>\n",
       "      <td>82</td>\n",
       "      <td>2.809181</td>\n",
       "    </tr>\n",
       "    <tr>\n",
       "      <th>BsmtCond</th>\n",
       "      <td>82</td>\n",
       "      <td>2.809181</td>\n",
       "    </tr>\n",
       "    <tr>\n",
       "      <th>BsmtQual</th>\n",
       "      <td>81</td>\n",
       "      <td>2.774923</td>\n",
       "    </tr>\n",
       "    <tr>\n",
       "      <th>BsmtFinType2</th>\n",
       "      <td>80</td>\n",
       "      <td>2.740665</td>\n",
       "    </tr>\n",
       "    <tr>\n",
       "      <th>BsmtFinType1</th>\n",
       "      <td>79</td>\n",
       "      <td>2.706406</td>\n",
       "    </tr>\n",
       "    <tr>\n",
       "      <th>MasVnrType</th>\n",
       "      <td>24</td>\n",
       "      <td>0.822199</td>\n",
       "    </tr>\n",
       "    <tr>\n",
       "      <th>MasVnrArea</th>\n",
       "      <td>23</td>\n",
       "      <td>0.787941</td>\n",
       "    </tr>\n",
       "    <tr>\n",
       "      <th>MSZoning</th>\n",
       "      <td>4</td>\n",
       "      <td>0.137033</td>\n",
       "    </tr>\n",
       "    <tr>\n",
       "      <th>BsmtFullBath</th>\n",
       "      <td>2</td>\n",
       "      <td>0.068517</td>\n",
       "    </tr>\n",
       "    <tr>\n",
       "      <th>BsmtHalfBath</th>\n",
       "      <td>2</td>\n",
       "      <td>0.068517</td>\n",
       "    </tr>\n",
       "    <tr>\n",
       "      <th>Utilities</th>\n",
       "      <td>2</td>\n",
       "      <td>0.068517</td>\n",
       "    </tr>\n",
       "    <tr>\n",
       "      <th>Functional</th>\n",
       "      <td>2</td>\n",
       "      <td>0.068517</td>\n",
       "    </tr>\n",
       "    <tr>\n",
       "      <th>Electrical</th>\n",
       "      <td>1</td>\n",
       "      <td>0.034258</td>\n",
       "    </tr>\n",
       "    <tr>\n",
       "      <th>BsmtUnfSF</th>\n",
       "      <td>1</td>\n",
       "      <td>0.034258</td>\n",
       "    </tr>\n",
       "    <tr>\n",
       "      <th>Exterior1st</th>\n",
       "      <td>1</td>\n",
       "      <td>0.034258</td>\n",
       "    </tr>\n",
       "    <tr>\n",
       "      <th>Exterior2nd</th>\n",
       "      <td>1</td>\n",
       "      <td>0.034258</td>\n",
       "    </tr>\n",
       "    <tr>\n",
       "      <th>TotalBsmtSF</th>\n",
       "      <td>1</td>\n",
       "      <td>0.034258</td>\n",
       "    </tr>\n",
       "    <tr>\n",
       "      <th>GarageCars</th>\n",
       "      <td>1</td>\n",
       "      <td>0.034258</td>\n",
       "    </tr>\n",
       "    <tr>\n",
       "      <th>BsmtFinSF2</th>\n",
       "      <td>1</td>\n",
       "      <td>0.034258</td>\n",
       "    </tr>\n",
       "    <tr>\n",
       "      <th>BsmtFinSF1</th>\n",
       "      <td>1</td>\n",
       "      <td>0.034258</td>\n",
       "    </tr>\n",
       "    <tr>\n",
       "      <th>KitchenQual</th>\n",
       "      <td>1</td>\n",
       "      <td>0.034258</td>\n",
       "    </tr>\n",
       "    <tr>\n",
       "      <th>SaleType</th>\n",
       "      <td>1</td>\n",
       "      <td>0.034258</td>\n",
       "    </tr>\n",
       "    <tr>\n",
       "      <th>GarageArea</th>\n",
       "      <td>1</td>\n",
       "      <td>0.034258</td>\n",
       "    </tr>\n",
       "  </tbody>\n",
       "</table>\n",
       "</div>"
      ],
      "text/plain": [
       "              Missing count  Missing ratio\n",
       "PoolQC                 2909      99.657417\n",
       "MiscFeature            2814      96.402878\n",
       "Alley                  2721      93.216855\n",
       "Fence                  2348      80.438506\n",
       "SalePrice              1459      49.982871\n",
       "FireplaceQu            1420      48.646797\n",
       "LotFrontage             486      16.649538\n",
       "GarageQual              159       5.447071\n",
       "GarageCond              159       5.447071\n",
       "GarageFinish            159       5.447071\n",
       "GarageYrBlt             159       5.447071\n",
       "GarageType              157       5.378554\n",
       "BsmtExposure             82       2.809181\n",
       "BsmtCond                 82       2.809181\n",
       "BsmtQual                 81       2.774923\n",
       "BsmtFinType2             80       2.740665\n",
       "BsmtFinType1             79       2.706406\n",
       "MasVnrType               24       0.822199\n",
       "MasVnrArea               23       0.787941\n",
       "MSZoning                  4       0.137033\n",
       "BsmtFullBath              2       0.068517\n",
       "BsmtHalfBath              2       0.068517\n",
       "Utilities                 2       0.068517\n",
       "Functional                2       0.068517\n",
       "Electrical                1       0.034258\n",
       "BsmtUnfSF                 1       0.034258\n",
       "Exterior1st               1       0.034258\n",
       "Exterior2nd               1       0.034258\n",
       "TotalBsmtSF               1       0.034258\n",
       "GarageCars                1       0.034258\n",
       "BsmtFinSF2                1       0.034258\n",
       "BsmtFinSF1                1       0.034258\n",
       "KitchenQual               1       0.034258\n",
       "SaleType                  1       0.034258\n",
       "GarageArea                1       0.034258"
      ]
     },
     "execution_count": 5,
     "metadata": {},
     "output_type": "execute_result"
    }
   ],
   "source": [
    "# Peak missing values\n",
    "\n",
    "def get_missing_cols(dataframe):\n",
    "    cols_with_missing_value = dataframe.columns[dataframe.isnull().any()].tolist()\n",
    "    return cols_with_missing_value\n",
    "\n",
    "missing_count = total_df[get_missing_cols(total_df)].isnull().sum()\n",
    "missing_ratio = missing_count / len(total_df) * 100\n",
    "missing_count = missing_count.sort_values(ascending=False)\n",
    "missing_ratio = missing_ratio.sort_values(ascending=False)\n",
    "missing_data = pd.DataFrame({'Missing count': missing_count, 'Missing ratio': missing_ratio})\n",
    "missing_data"
   ]
  },
  {
   "cell_type": "markdown",
   "metadata": {},
   "source": [
    "## (3) Checking data skewness"
   ]
  },
  {
   "cell_type": "code",
   "execution_count": 6,
   "metadata": {},
   "outputs": [
    {
     "name": "stdout",
     "output_type": "stream",
     "text": [
      "There are 23 skewed numerical features to transform later\n"
     ]
    },
    {
     "data": {
      "text/html": [
       "<div>\n",
       "<style>\n",
       "    .dataframe thead tr:only-child th {\n",
       "        text-align: right;\n",
       "    }\n",
       "\n",
       "    .dataframe thead th {\n",
       "        text-align: left;\n",
       "    }\n",
       "\n",
       "    .dataframe tbody tr th {\n",
       "        vertical-align: top;\n",
       "    }\n",
       "</style>\n",
       "<table border=\"1\" class=\"dataframe\">\n",
       "  <thead>\n",
       "    <tr style=\"text-align: right;\">\n",
       "      <th></th>\n",
       "      <th>Skew</th>\n",
       "    </tr>\n",
       "  </thead>\n",
       "  <tbody>\n",
       "    <tr>\n",
       "      <th>MiscVal</th>\n",
       "      <td>21.958480</td>\n",
       "    </tr>\n",
       "    <tr>\n",
       "      <th>PoolArea</th>\n",
       "      <td>16.907017</td>\n",
       "    </tr>\n",
       "    <tr>\n",
       "      <th>LotArea</th>\n",
       "      <td>12.829025</td>\n",
       "    </tr>\n",
       "    <tr>\n",
       "      <th>LowQualFinSF</th>\n",
       "      <td>12.094977</td>\n",
       "    </tr>\n",
       "    <tr>\n",
       "      <th>3SsnPorch</th>\n",
       "      <td>11.381914</td>\n",
       "    </tr>\n",
       "    <tr>\n",
       "      <th>KitchenAbvGr</th>\n",
       "      <td>4.304467</td>\n",
       "    </tr>\n",
       "    <tr>\n",
       "      <th>BsmtFinSF2</th>\n",
       "      <td>4.147456</td>\n",
       "    </tr>\n",
       "    <tr>\n",
       "      <th>EnclosedPorch</th>\n",
       "      <td>4.005950</td>\n",
       "    </tr>\n",
       "    <tr>\n",
       "      <th>ScreenPorch</th>\n",
       "      <td>3.948723</td>\n",
       "    </tr>\n",
       "    <tr>\n",
       "      <th>BsmtHalfBath</th>\n",
       "      <td>3.932018</td>\n",
       "    </tr>\n",
       "    <tr>\n",
       "      <th>MasVnrArea</th>\n",
       "      <td>2.602589</td>\n",
       "    </tr>\n",
       "    <tr>\n",
       "      <th>OpenPorchSF</th>\n",
       "      <td>2.536417</td>\n",
       "    </tr>\n",
       "    <tr>\n",
       "      <th>SalePrice</th>\n",
       "      <td>1.882876</td>\n",
       "    </tr>\n",
       "    <tr>\n",
       "      <th>WoodDeckSF</th>\n",
       "      <td>1.843380</td>\n",
       "    </tr>\n",
       "    <tr>\n",
       "      <th>LotFrontage</th>\n",
       "      <td>1.503278</td>\n",
       "    </tr>\n",
       "    <tr>\n",
       "      <th>1stFlrSF</th>\n",
       "      <td>1.470360</td>\n",
       "    </tr>\n",
       "    <tr>\n",
       "      <th>BsmtFinSF1</th>\n",
       "      <td>1.425722</td>\n",
       "    </tr>\n",
       "    <tr>\n",
       "      <th>MSSubClass</th>\n",
       "      <td>1.376165</td>\n",
       "    </tr>\n",
       "    <tr>\n",
       "      <th>GrLivArea</th>\n",
       "      <td>1.270010</td>\n",
       "    </tr>\n",
       "    <tr>\n",
       "      <th>TotalBsmtSF</th>\n",
       "      <td>1.162882</td>\n",
       "    </tr>\n",
       "    <tr>\n",
       "      <th>BsmtUnfSF</th>\n",
       "      <td>0.919824</td>\n",
       "    </tr>\n",
       "    <tr>\n",
       "      <th>2ndFlrSF</th>\n",
       "      <td>0.862118</td>\n",
       "    </tr>\n",
       "    <tr>\n",
       "      <th>TotRmsAbvGrd</th>\n",
       "      <td>0.758757</td>\n",
       "    </tr>\n",
       "  </tbody>\n",
       "</table>\n",
       "</div>"
      ],
      "text/plain": [
       "                    Skew\n",
       "MiscVal        21.958480\n",
       "PoolArea       16.907017\n",
       "LotArea        12.829025\n",
       "LowQualFinSF   12.094977\n",
       "3SsnPorch      11.381914\n",
       "KitchenAbvGr    4.304467\n",
       "BsmtFinSF2      4.147456\n",
       "EnclosedPorch   4.005950\n",
       "ScreenPorch     3.948723\n",
       "BsmtHalfBath    3.932018\n",
       "MasVnrArea      2.602589\n",
       "OpenPorchSF     2.536417\n",
       "SalePrice       1.882876\n",
       "WoodDeckSF      1.843380\n",
       "LotFrontage     1.503278\n",
       "1stFlrSF        1.470360\n",
       "BsmtFinSF1      1.425722\n",
       "MSSubClass      1.376165\n",
       "GrLivArea       1.270010\n",
       "TotalBsmtSF     1.162882\n",
       "BsmtUnfSF       0.919824\n",
       "2ndFlrSF        0.862118\n",
       "TotRmsAbvGrd    0.758757"
      ]
     },
     "execution_count": 6,
     "metadata": {},
     "output_type": "execute_result"
    }
   ],
   "source": [
    "skewed_features = abs(total_df.skew()).sort_values(ascending=False)\n",
    "skewness = pd.DataFrame({'Skew': skewed_features[skewed_features.values > 0.75]})\n",
    "print(\"There are {} skewed numerical features to transform later\".format(skewness.shape[0]))\n",
    "skewness\n"
   ]
  },
  {
   "cell_type": "markdown",
   "metadata": {},
   "source": [
    "## (4) Checking outliers"
   ]
  },
  {
   "cell_type": "code",
   "execution_count": 7,
   "metadata": {},
   "outputs": [
    {
     "name": "stdout",
     "output_type": "stream",
     "text": [
      "[523, 691, 803, 898, 1046, 1182, 1298]\n"
     ]
    }
   ],
   "source": [
    "# Check outliers w.r.t. SalePrice \n",
    "import statsmodels.api as sm\n",
    "\n",
    "num_cols = [col for col in train_df.columns if train_df.dtypes[col] != 'object']\n",
    "X = train_df[num_cols].dropna()\n",
    "y = X['SalePrice']\n",
    "X = X.drop(['SalePrice','Id'], axis=1)\n",
    "\n",
    "model = sm.OLS(y, X)\n",
    "results = model.fit()\n",
    "bonf_test = results.outlier_test()['bonf(p)']\n",
    "bonf_outlier = list(bonf_test[bonf_test<1e-3].index) \n",
    "print(bonf_outlier)"
   ]
  },
  {
   "cell_type": "markdown",
   "metadata": {},
   "source": [
    "- There are 7 outliers, let's check again and remove them after feature engineering "
   ]
  },
  {
   "cell_type": "markdown",
   "metadata": {},
   "source": [
    "## (5) Check target variables"
   ]
  },
  {
   "cell_type": "code",
   "execution_count": 8,
   "metadata": {},
   "outputs": [
    {
     "name": "stdout",
     "output_type": "stream",
     "text": [
      "skew:  1.880940746034036\n"
     ]
    },
    {
     "data": {
      "image/png": "[encoded data removed]",
      "text/plain": [
       "<matplotlib.figure.Figure at 0x7fadc78dc4a8>"
      ]
     },
     "metadata": {},
     "output_type": "display_data"
    }
   ],
   "source": [
    "fig, (axis1, axis2, axis3) = plt.subplots(1, 3, figsize=(15,5))\n",
    "axis1.set_title('kde')\n",
    "sns.distplot(train_df['SalePrice'], kde=True, ax=axis1)\n",
    "axis2.set_title('normal')\n",
    "sns.distplot(train_df['SalePrice'], kde=False, fit=norm, ax=axis2)\n",
    "axis3.set_title('log normal')\n",
    "sns.distplot(train_df['SalePrice'], kde=False, fit=lognorm, ax=axis3)\n",
    "\n",
    "print('skew: ', skew(train_df['SalePrice']))\n"
   ]
  },
  {
   "cell_type": "markdown",
   "metadata": {},
   "source": [
    "- SalePrice is not normal distributed, perform log transformation might fix this."
   ]
  },
  {
   "cell_type": "code",
   "execution_count": 9,
   "metadata": {},
   "outputs": [
    {
     "data": {
      "image/png": "[encoded data removed]",
      "text/plain": [
       "<matplotlib.figure.Figure at 0x7fadc95efbe0>"
      ]
     },
     "metadata": {},
     "output_type": "display_data"
    }
   ],
   "source": [
    "# Preview normal probability plots of original & log transformed target variable\n",
    "fig, (axis1, axis2) = plt.subplots(1, 2, figsize=(15,5))\n",
    "axis1.set_title('original')\n",
    "res = stats.probplot(train_df['SalePrice'], plot=axis1)\n",
    "axis2.set_title('log transformation')\n",
    "res = stats.probplot(np.log1p(train_df['SalePrice']), plot=axis2)\n"
   ]
  },
  {
   "cell_type": "code",
   "execution_count": 10,
   "metadata": {},
   "outputs": [
    {
     "data": {
      "text/plain": [
       "False"
      ]
     },
     "execution_count": 10,
     "metadata": {},
     "output_type": "execute_result"
    }
   ],
   "source": [
    "def is_normal_dist(X):\n",
    "    return not (stats.normaltest(X)[1] < 0.05) # traditionally, in statistics, p-value < 0.05 to reject null hypothesis\n",
    "\n",
    "is_normal_dist(train_df['SalePrice'])"
   ]
  },
  {
   "cell_type": "markdown",
   "metadata": {},
   "source": [
    "# Data correlation analysis"
   ]
  },
  {
   "cell_type": "markdown",
   "metadata": {},
   "source": [
    "## (1) Numeric Features "
   ]
  },
  {
   "cell_type": "code",
   "execution_count": 11,
   "metadata": {},
   "outputs": [
    {
     "data": {
      "text/plain": [
       "<matplotlib.axes._subplots.AxesSubplot at 0x7fadc5470f98>"
      ]
     },
     "execution_count": 11,
     "metadata": {},
     "output_type": "execute_result"
    },
    {
     "data": {
      "image/png": "[encoded data removed]",
      "text/plain": [
       "<matplotlib.figure.Figure at 0x7fadc5470fd0>"
      ]
     },
     "metadata": {},
     "output_type": "display_data"
    }
   ],
   "source": [
    "# Check correlations among numeric variables\n",
    "\n",
    "plt.figure(figsize=(10,10))\n",
    "plt.title('Correlation of Features', y=1.05, size=15)\n",
    "sns.heatmap(train_df.corr(),linewidths=0.1,vmax=1.0, square=True, linecolor='white')"
   ]
  },
  {
   "cell_type": "code",
   "execution_count": 12,
   "metadata": {},
   "outputs": [
    {
     "data": {
      "text/plain": [
       "SalePrice        1.000000\n",
       "OverallQual      0.790982\n",
       "GrLivArea        0.708624\n",
       "GarageCars       0.640409\n",
       "GarageArea       0.623431\n",
       "TotalBsmtSF      0.613581\n",
       "1stFlrSF         0.605852\n",
       "FullBath         0.560664\n",
       "TotRmsAbvGrd     0.533723\n",
       "YearBuilt        0.522897\n",
       "YearRemodAdd     0.507101\n",
       "GarageYrBlt      0.486362\n",
       "MasVnrArea       0.477493\n",
       "Fireplaces       0.466929\n",
       "BsmtFinSF1       0.386420\n",
       "LotFrontage      0.351799\n",
       "WoodDeckSF       0.324413\n",
       "2ndFlrSF         0.319334\n",
       "OpenPorchSF      0.315856\n",
       "HalfBath         0.284108\n",
       "LotArea          0.263843\n",
       "BsmtFullBath     0.227122\n",
       "BsmtUnfSF        0.214479\n",
       "BedroomAbvGr     0.168213\n",
       "KitchenAbvGr     0.135907\n",
       "EnclosedPorch    0.128578\n",
       "ScreenPorch      0.111447\n",
       "PoolArea         0.092404\n",
       "MSSubClass       0.084284\n",
       "OverallCond      0.077856\n",
       "MoSold           0.046432\n",
       "3SsnPorch        0.044584\n",
       "YrSold           0.028923\n",
       "LowQualFinSF     0.025606\n",
       "MiscVal          0.021190\n",
       "BsmtHalfBath     0.016844\n",
       "BsmtFinSF2       0.011378\n",
       "Name: SalePrice, dtype: float64"
      ]
     },
     "execution_count": 12,
     "metadata": {},
     "output_type": "execute_result"
    }
   ],
   "source": [
    "# check correlation matrix with SalePrice (positive & negative)\n",
    "abs(train_df.drop(['Id'], axis=1).corr()['SalePrice']).sort_values(ascending=False)"
   ]
  },
  {
   "cell_type": "markdown",
   "metadata": {},
   "source": [
    "### Observations:\n",
    "#### correlated numeric features:\n",
    "- Highly correlated: TotalBsmtSF / 1stFlrSF & GarageArea / GarageCars\n",
    "- SalePrice correlated: OverallQual, GrLivArea, GarageX \n",
    "\n",
    "\n"
   ]
  },
  {
   "cell_type": "markdown",
   "metadata": {},
   "source": [
    "# Data Preprocessing\n",
    "\n",
    "## Impute missing values"
   ]
  },
  {
   "cell_type": "markdown",
   "metadata": {},
   "source": [
    "### (1) filling values per data description"
   ]
  },
  {
   "cell_type": "code",
   "execution_count": 13,
   "metadata": {
    "collapsed": true
   },
   "outputs": [],
   "source": [
    "def has_null(dataframe, col):\n",
    "    return dataframe[col].isnull().any()\n",
    "\n",
    "total_df['PoolQC'].fillna('NA', inplace=True) # NA for no pool \n",
    "total_df['MiscFeature'].fillna('NA', inplace=True) # NA for no misc feature\n",
    "total_df['Alley'].fillna('NA', inplace=True) # NA for no alley access\n",
    "total_df['Fence'].fillna('NA', inplace=True) # NA for no fence\n",
    "total_df['FireplaceQu'].fillna('NA', inplace=True) # NA for no fireplace\n",
    "total_df['GarageQual'].fillna('NA', inplace=True) # NA for no garage\n",
    "total_df['GarageCond'].fillna('NA', inplace=True) # NA for no garage\n",
    "total_df['GarageFinish'].fillna('NA', inplace=True) # NA for no garage\n",
    "total_df['GarageType'].fillna('NA', inplace=True) # NA for no garage\n",
    "total_df['BsmtExposure'].fillna('NA', inplace=True) # NA for no basement\n",
    "total_df['BsmtCond'].fillna('NA', inplace=True) # NA for no basement\n",
    "total_df['BsmtQual'].fillna('NA', inplace=True) # NA for no basement\n",
    "total_df['BsmtFinType2'].fillna('NA', inplace=True) # NA for no basement\n",
    "total_df['BsmtFinType1'].fillna('NA', inplace=True) # NA for no basement\n",
    "total_df['MasVnrType'].fillna('NA', inplace=True) # NA for no masonry veneer\n",
    "total_df['MasVnrArea'].fillna(0, inplace=True) # 0 for no masonry veneer\n",
    "\n",
    "total_df['BsmtFullBath'].fillna(0, inplace=True) # 0 for no basement\n",
    "total_df['BsmtHalfBath'].fillna(0, inplace=True) # 0 for no basement\n",
    "total_df['BsmtUnfSF'].fillna(0, inplace=True) # 0 for no basement\n",
    "total_df['TotalBsmtSF'].fillna(0, inplace=True) # 0 for no basement\n",
    "total_df['BsmtFinSF2'].fillna(0, inplace=True) # 0 for no basement\n",
    "total_df['BsmtFinSF1'].fillna(0, inplace=True) # 0 for no basement\n",
    "\n",
    "total_df['GarageYrBlt'].fillna(0, inplace=True) # 0 for no garage\n",
    "total_df['GarageCars'].fillna(0, inplace=True) # 0 for no garage\n",
    "total_df['GarageArea'].fillna(0, inplace=True) # 0 for no garage\n",
    "\n",
    "total_df['Functional'].fillna('Typ', inplace=True) # assume typical"
   ]
  },
  {
   "cell_type": "markdown",
   "metadata": {},
   "source": [
    "### (2) filling values per ideas form EDA"
   ]
  },
  {
   "cell_type": "code",
   "execution_count": 14,
   "metadata": {
    "collapsed": true
   },
   "outputs": [],
   "source": [
    "# LotFrontage (486 missings)\n",
    "# Option (1) fill 0; option (2): fill most common value per neighborhood\n",
    "# Do on next cell\n",
    "\n",
    "# MSZoning (4 missings): fill most common value\n",
    "total_df['MSZoning'].fillna(total_df['MSZoning'].mode()[0], inplace=True)\n",
    "\n",
    "# Utilities (2 missings): extremely skewed, all 'AllPub' except one 'NoSeWa'. \n",
    "# Won't handle it, drop this feature later on.\n",
    "\n",
    "# Electrical (1 missing): fill most common value\n",
    "total_df['Electrical'].fillna(total_df['Electrical'].mode()[0], inplace=True)\n",
    "\n",
    "# Exterior1st (1 missing): fill most common value\n",
    "total_df['Exterior1st'].fillna(total_df['Exterior1st'].mode()[0], inplace=True)\n",
    "\n",
    "# Exterior2nd (1 missing): fill most common value\n",
    "total_df['Exterior2nd'].fillna(total_df['Exterior2nd'].mode()[0], inplace=True)\n",
    "\n",
    "# KitchenQual (1 missing): fill most common value\n",
    "total_df['KitchenQual'].fillna(total_df['KitchenQual'].mode()[0], inplace=True)\n",
    "\n",
    "# SalType (1 missing): fill most common value\n",
    "total_df['SaleType'].fillna(total_df['SaleType'].mode()[0], inplace=True)"
   ]
  },
  {
   "cell_type": "code",
   "execution_count": 15,
   "metadata": {},
   "outputs": [
    {
     "data": {
      "image/png": "[encoded data removed]",
      "text/plain": [
       "<matplotlib.figure.Figure at 0x7fadc54cb518>"
      ]
     },
     "metadata": {},
     "output_type": "display_data"
    }
   ],
   "source": [
    "# LotFrontage (conditional filling)\n",
    "\n",
    "sns.barplot(data=total_df, x='Neighborhood', y='LotFrontage', estimator=np.median)\n",
    "plt.xticks(rotation=90)\n",
    "plt.show()"
   ]
  },
  {
   "cell_type": "code",
   "execution_count": 16,
   "metadata": {
    "collapsed": true
   },
   "outputs": [],
   "source": [
    "lotf_median = total_df.groupby('Neighborhood', as_index=False)['LotFrontage'].median()\n",
    "lotf_median_dict = {k: v for k,v in lotf_median.values}\n",
    "na_entries = total_df[total_df['LotFrontage'].isnull()].index\n",
    "for idx in na_entries:\n",
    "    key = total_df.iloc[idx]['Neighborhood']\n",
    "    value = lotf_median_dict[key]\n",
    "    total_df.set_value(idx, 'LotFrontage', value)"
   ]
  },
  {
   "cell_type": "markdown",
   "metadata": {},
   "source": [
    "### (3) Check no missing values now"
   ]
  },
  {
   "cell_type": "code",
   "execution_count": 17,
   "metadata": {},
   "outputs": [
    {
     "data": {
      "text/plain": [
       "SalePrice    1459\n",
       "Utilities       2\n",
       "dtype: int64"
      ]
     },
     "execution_count": 17,
     "metadata": {},
     "output_type": "execute_result"
    }
   ],
   "source": [
    "total_df[get_missing_cols(total_df)].isnull().sum()"
   ]
  },
  {
   "cell_type": "markdown",
   "metadata": {},
   "source": [
    "- SalePrice missing in test dataset is expected\n",
    "- Utilities feature would be dropped due to no differentiation (one value extremely dominates) "
   ]
  },
  {
   "cell_type": "markdown",
   "metadata": {},
   "source": [
    "# Feature Engineering"
   ]
  },
  {
   "cell_type": "markdown",
   "metadata": {},
   "source": [
    "### (1) Transform Mis-Typed Numerical to Categorical features"
   ]
  },
  {
   "cell_type": "code",
   "execution_count": 18,
   "metadata": {
    "collapsed": true
   },
   "outputs": [],
   "source": [
    "# MSSubClass, YrSold, MoSold are actually categorical, rather than numberical features\n",
    "total_df['MSSubClass'] = total_df['MSSubClass'].astype(str)\n",
    "total_df['YrSold'] = total_df['YrSold'].astype(str)\n",
    "total_df['MoSold'] = total_df['MoSold'].astype(str)\n",
    "\n",
    "#num_features = [f for f in num_features if f not in ['Id', 'MSSubClass', 'YrSold', 'MoSold']]"
   ]
  },
  {
   "cell_type": "markdown",
   "metadata": {},
   "source": [
    "### (2) Add combinations of Numerical features  "
   ]
  },
  {
   "cell_type": "code",
   "execution_count": 19,
   "metadata": {
    "collapsed": true
   },
   "outputs": [],
   "source": [
    "# Area related features\n",
    "# inspect data: 1stFlrSF + 2ndFlrSF == GrLivArea\n",
    "\n",
    "total_df['TotalBath'] = total_df[\"BsmtFullBath\"] + (0.5 * total_df[\"BsmtHalfBath\"]) + total_df[\"FullBath\"] + (0.5 * total_df[\"HalfBath\"])\n",
    "total_df['AllSF'] = total_df['GrLivArea'] + total_df['TotalBsmtSF']\n",
    "total_df['AllPorchSF'] = total_df['OpenPorchSF'] + total_df['EnclosedPorch'] + total_df['3SsnPorch'] + total_df['ScreenPorch']\n",
    "\n",
    "#num_features.extend(['TotalBath', 'AllSF', 'AllPorchSF'])"
   ]
  },
  {
   "cell_type": "markdown",
   "metadata": {},
   "source": [
    "### (3) Transform Categorical to Numerical features (with ordering, labelencoder) "
   ]
  },
  {
   "cell_type": "code",
   "execution_count": 20,
   "metadata": {
    "collapsed": true
   },
   "outputs": [],
   "source": [
    "# Ordering parts: Alley, BsmtCond, BsmtExposure, BsmtFinType1, BsmtFinType2, BsmtQual, CentralAir, ExterCond, ExterQual,\n",
    "#              Fence, FireplaceQu, Functional, GarageCond, GarageFinish, GarageQual, HeatingQC, KitchenQual,\n",
    "#              LandSlope, LotShape, PavedDrive, PoolQC, Street, Utilities\n",
    "quality_dict = {'NA': 0, 'Po': 1, 'Fa': 2, 'TA': 3, 'Gd': 4, 'Ex': 5}\n",
    "total_df['BsmtCond'] = total_df['BsmtCond'].map(quality_dict).astype(int)\n",
    "total_df['BsmtQual'] = total_df['BsmtQual'].map(quality_dict).astype(int)\n",
    "total_df['ExterCond'] = total_df['ExterCond'].map(quality_dict).astype(int)\n",
    "total_df['ExterQual'] = total_df['ExterQual'].map(quality_dict).astype(int)\n",
    "total_df['FireplaceQu'] = total_df['FireplaceQu'].map(quality_dict).astype(int)\n",
    "total_df['GarageCond'] = total_df['GarageCond'].map(quality_dict).astype(int)\n",
    "total_df['GarageQual'] = total_df['GarageQual'].map(quality_dict).astype(int)\n",
    "total_df['HeatingQC'] = total_df['HeatingQC'].map(quality_dict).astype(int)\n",
    "total_df['KitchenQual'] = total_df['KitchenQual'].map(quality_dict).astype(int)\n",
    "total_df['PoolQC'] = total_df['PoolQC'].map(quality_dict).astype(int)\n",
    "\n",
    "total_df['Alley'] = total_df['Alley'].map({'NA':0, 'Grvl':1, 'Pave':2}).astype(int)\n",
    "total_df['BsmtExposure'] = total_df['BsmtExposure'].map({'NA':0, 'No':1, 'Mn':2, 'Av':3, 'Gd':4}).astype(int)\n",
    "\n",
    "bsmt_fin_dict = {'NA': 0, 'Unf': 1, 'LwQ': 2, 'Rec': 3, 'BLQ': 4, 'ALQ': 5, 'GLQ': 6}\n",
    "total_df['BsmtFinType1'] = total_df['BsmtFinType1'].map(bsmt_fin_dict).astype(int)\n",
    "total_df['BsmtFinType2'] = total_df['BsmtFinType2'].map(bsmt_fin_dict).astype(int)\n",
    "\n",
    "total_df['CentralAir'] = total_df['CentralAir'].map({'N': 0, 'Y': 1}).astype(int)\n",
    "total_df['Fence'] = total_df['Fence'].map({'NA': 0, 'MnWw': 1, 'GdWo': 2, 'MnPrv': 3, 'GdPrv': 4}).astype(int)\n",
    "total_df['Functional'] = total_df['Functional'].map(\n",
    "    {'Sal': 0, 'Sev': 1, 'Maj2': 2, 'Maj1': 3, 'Mod': 4, 'Min2': 5, 'Min1': 6, 'Typ': 7}).astype(int)\n",
    "total_df['GarageFinish'] = total_df['GarageFinish'].map({'NA': 0, 'Unf': 1, 'RFn': 2, 'Fin': 3}).astype(int)\n",
    "total_df['LandSlope'] = total_df['LandSlope'].map({'Sev': 0, 'Mod': 1, 'Gtl': 2}).astype(int)\n",
    "total_df['LotShape'] = total_df['LotShape'].map({'IR3': 0, 'IR2': 1, 'IR1': 2, 'Reg': 3}).astype(int)\n",
    "total_df['PavedDrive'] = total_df['PavedDrive'].map({'N': 0, 'P': 1, 'Y': 2}).astype(int)\n",
    "total_df['Street'] = total_df['Street'].map({'Grvl': 0, 'Pave': 1}).astype(int)\n",
    "\n",
    "# Drop Utilities as mentioned earlier\n",
    "total_df.drop(['Utilities'], axis=1, inplace=True)"
   ]
  },
  {
   "cell_type": "markdown",
   "metadata": {},
   "source": [
    "### (4) Add further combinational features of Numerical features"
   ]
  },
  {
   "cell_type": "code",
   "execution_count": 21,
   "metadata": {
    "collapsed": true
   },
   "outputs": [],
   "source": [
    "# Overall quality of the house\n",
    "total_df[\"OverallGrade\"] = total_df[\"OverallQual\"] * total_df[\"OverallCond\"]\n",
    "# Overall quality of the garage\n",
    "total_df[\"GarageGrade\"] = total_df[\"GarageQual\"] * total_df[\"GarageCond\"]\n",
    "# Overall quality of the exterior\n",
    "total_df[\"ExterGrade\"] = total_df[\"ExterQual\"] * total_df[\"ExterCond\"]\n",
    "# Overall kitchen grade\n",
    "total_df[\"KitchenGrade\"] = total_df[\"KitchenAbvGr\"] * total_df[\"KitchenQual\"]\n",
    "# Overall fireplace grade\n",
    "total_df[\"FireplaceGrade\"] = total_df[\"Fireplaces\"] * total_df[\"FireplaceQu\"]\n",
    "# Overall garage grade\n",
    "total_df[\"GarageGrade\"] = total_df[\"GarageArea\"] * total_df[\"GarageQual\"]\n",
    "# Overall pool grade\n",
    "total_df[\"PoolGrade\"] = total_df[\"PoolArea\"] * total_df[\"PoolQC\"]\n",
    "\n",
    "#num_features.extend(['OverallGrade', 'GarageGrade', 'ExterGrade', 'KitchenGrade', 'FireplaceGrade', 'GarageGrade', 'PoolGrade'])"
   ]
  },
  {
   "cell_type": "code",
   "execution_count": 22,
   "metadata": {},
   "outputs": [
    {
     "data": {
      "text/plain": [
       "['1stFlrSF',\n",
       " '2ndFlrSF',\n",
       " '3SsnPorch',\n",
       " 'Alley',\n",
       " 'BedroomAbvGr',\n",
       " 'BsmtCond',\n",
       " 'BsmtExposure',\n",
       " 'BsmtFinSF1',\n",
       " 'BsmtFinSF2',\n",
       " 'BsmtFinType1',\n",
       " 'BsmtFinType2',\n",
       " 'BsmtFullBath',\n",
       " 'BsmtHalfBath',\n",
       " 'BsmtQual',\n",
       " 'BsmtUnfSF',\n",
       " 'CentralAir',\n",
       " 'EnclosedPorch',\n",
       " 'ExterCond',\n",
       " 'ExterQual',\n",
       " 'Fence',\n",
       " 'FireplaceQu',\n",
       " 'Fireplaces',\n",
       " 'FullBath',\n",
       " 'Functional',\n",
       " 'GarageArea',\n",
       " 'GarageCars',\n",
       " 'GarageCond',\n",
       " 'GarageFinish',\n",
       " 'GarageQual',\n",
       " 'GarageYrBlt',\n",
       " 'GrLivArea',\n",
       " 'HalfBath',\n",
       " 'HeatingQC',\n",
       " 'KitchenAbvGr',\n",
       " 'KitchenQual',\n",
       " 'LandSlope',\n",
       " 'LotArea',\n",
       " 'LotFrontage',\n",
       " 'LotShape',\n",
       " 'LowQualFinSF',\n",
       " 'MasVnrArea',\n",
       " 'MiscVal',\n",
       " 'OpenPorchSF',\n",
       " 'OverallCond',\n",
       " 'OverallQual',\n",
       " 'PavedDrive',\n",
       " 'PoolArea',\n",
       " 'PoolQC',\n",
       " 'SalePrice',\n",
       " 'ScreenPorch',\n",
       " 'Street',\n",
       " 'TotRmsAbvGrd',\n",
       " 'TotalBsmtSF',\n",
       " 'WoodDeckSF',\n",
       " 'YearBuilt',\n",
       " 'YearRemodAdd',\n",
       " 'TotalBath',\n",
       " 'AllSF',\n",
       " 'AllPorchSF',\n",
       " 'OverallGrade',\n",
       " 'GarageGrade',\n",
       " 'ExterGrade',\n",
       " 'KitchenGrade',\n",
       " 'FireplaceGrade',\n",
       " 'PoolGrade']"
      ]
     },
     "execution_count": 22,
     "metadata": {},
     "output_type": "execute_result"
    }
   ],
   "source": [
    "num_features =[col for col in total_df.columns if total_df.dtypes[col] != 'object' and col not in ['Id']]\n",
    "num_features"
   ]
  },
  {
   "cell_type": "markdown",
   "metadata": {},
   "source": [
    "### (5) Transform Categorical to Numerical features (without ordering, one-hot encoding)"
   ]
  },
  {
   "cell_type": "code",
   "execution_count": 23,
   "metadata": {},
   "outputs": [
    {
     "name": "stdout",
     "output_type": "stream",
     "text": [
      "['BldgType', 'Condition1', 'Condition2', 'Electrical', 'Exterior1st', 'Exterior2nd', 'Foundation', 'GarageType', 'Heating', 'HouseStyle', 'LandContour', 'LotConfig', 'MSSubClass', 'MSZoning', 'MasVnrType', 'MiscFeature', 'MoSold', 'Neighborhood', 'RoofMatl', 'RoofStyle', 'SaleCondition', 'SaleType', 'YrSold']\n",
      "[]\n"
     ]
    }
   ],
   "source": [
    "categorical_cols = [col for col in total_df.columns if total_df.dtypes[col] == 'object']\n",
    "print(categorical_cols)\n",
    "\n",
    "# Non-Ordering parts: \n",
    "total_df = pd.get_dummies(total_df)\n",
    "\n",
    "categorical_cols = [col for col in total_df.columns if total_df.dtypes[col] == 'object']\n",
    "print(categorical_cols)"
   ]
  },
  {
   "cell_type": "markdown",
   "metadata": {},
   "source": [
    "### (6) Split preprocessed dataframe into training and testing datasets"
   ]
  },
  {
   "cell_type": "code",
   "execution_count": 24,
   "metadata": {},
   "outputs": [
    {
     "name": "stdout",
     "output_type": "stream",
     "text": [
      "(1460, 261) (1459, 261) (1460,)\n"
     ]
    }
   ],
   "source": [
    "ntrain = train_df.shape[0]\n",
    "train_txf_df = total_df.head(ntrain)\n",
    "test_txf_df = total_df.iloc[ntrain:]\n",
    "train_txf_target = train_txf_df['SalePrice']\n",
    "train_txf_df.drop(['SalePrice'], axis=1, inplace=True)\n",
    "test_txf_df.drop(['SalePrice'], axis=1, inplace=True)\n",
    "\n",
    "num_features.remove('SalePrice')\n",
    "\n",
    "print(train_txf_df.shape, test_txf_df.shape, train_txf_target.shape)"
   ]
  },
  {
   "cell_type": "markdown",
   "metadata": {},
   "source": [
    "### (7) Unskew features [unskew train dataset, apply to corresponding features in test dataset]"
   ]
  },
  {
   "cell_type": "code",
   "execution_count": 25,
   "metadata": {},
   "outputs": [
    {
     "name": "stdout",
     "output_type": "stream",
     "text": [
      "There are 44 skewed numerical features to transform\n"
     ]
    }
   ],
   "source": [
    "skewed = abs(train_txf_df[num_features].skew()).sort_values(ascending=False)\n",
    "skewness = pd.DataFrame({'Skew': skewed[skewed.values > 0.75]})\n",
    "skewed_features = skewness.index\n",
    "\n",
    "print(\"There are {} skewed numerical features to transform\".format(skewness.shape[0]))\n",
    "\n",
    "# transform skewed featues with log1p\n",
    "train_txf_df[skewed_features] = np.log1p(train_txf_df[skewed_features])\n",
    "test_txf_df[skewed_features] = np.log1p(test_txf_df[skewed_features])\n",
    "\n",
    "# log1p 'SalePrice'(target variable)\n",
    "train_txf_target = np.log1p(train_txf_target)"
   ]
  },
  {
   "cell_type": "markdown",
   "metadata": {},
   "source": [
    "### (8) Feature Scaling [scaling on train dataset, apply to corresponding features in test dataset]"
   ]
  },
  {
   "cell_type": "code",
   "execution_count": 26,
   "metadata": {
    "collapsed": true
   },
   "outputs": [],
   "source": [
    "from sklearn.preprocessing import RobustScaler\n",
    "\n",
    "scaler = RobustScaler().fit(train_txf_df[num_features])\n",
    "train_txf_df[num_features] = scaler.transform(train_txf_df[num_features])\n",
    "test_txf_df[num_features] = scaler.transform(test_txf_df[num_features])\n"
   ]
  },
  {
   "cell_type": "markdown",
   "metadata": {},
   "source": [
    "### (8) Remove Outliers [training set only] "
   ]
  },
  {
   "cell_type": "code",
   "execution_count": 27,
   "metadata": {},
   "outputs": [
    {
     "name": "stdout",
     "output_type": "stream",
     "text": [
      "[523, 691, 803, 898, 1046, 1182, 1298]\n"
     ]
    }
   ],
   "source": [
    "# Check outliers w.r.t. SalePrice \n",
    "import statsmodels.api as sm\n",
    "\n",
    "num_cols = [col for col in train_df.columns if train_df.dtypes[col] != 'object']\n",
    "X = train_df[num_cols].dropna()\n",
    "y = X['SalePrice']\n",
    "X = X.drop(['SalePrice','Id'], axis=1)\n",
    "\n",
    "model = sm.OLS(y, X)\n",
    "results = model.fit()\n",
    "bonf_test = results.outlier_test()['bonf(p)']\n",
    "bonf_outlier = list(bonf_test[bonf_test<1e-3].index) \n",
    "print(bonf_outlier)"
   ]
  },
  {
   "cell_type": "code",
   "execution_count": 28,
   "metadata": {},
   "outputs": [
    {
     "name": "stdout",
     "output_type": "stream",
     "text": [
      "(1453, 261) (1453,)\n"
     ]
    }
   ],
   "source": [
    "# Remove outliers\n",
    "train_txf_df.drop(bonf_outlier, inplace=True)\n",
    "train_txf_target.drop(bonf_outlier, inplace=True)\n",
    "print(train_txf_df.shape, train_txf_target.shape)\n"
   ]
  },
  {
   "cell_type": "code",
   "execution_count": 29,
   "metadata": {},
   "outputs": [
    {
     "name": "stdout",
     "output_type": "stream",
     "text": [
      "(1453, 261) (1459, 261)\n"
     ]
    }
   ],
   "source": [
    "print(train_txf_df.shape, test_txf_df.shape)"
   ]
  },
  {
   "cell_type": "markdown",
   "metadata": {},
   "source": [
    "# Model Selection\n",
    "# TODO: follow my another notebook (focused on hyperparameter tuning). "
   ]
  },
  {
   "cell_type": "code",
   "execution_count": null,
   "metadata": {
    "collapsed": true
   },
   "outputs": [],
   "source": []
  }
 ],
 "metadata": {
  "kernelspec": {
   "display_name": "Python 3",
   "language": "python",
   "name": "python3"
  },
  "language_info": {
   "codemirror_mode": {
    "name": "ipython",
    "version": 3
   },
   "file_extension": ".py",
   "mimetype": "text/x-python",
   "name": "python",
   "nbconvert_exporter": "python",
   "pygments_lexer": "ipython3",
   "version": "3.5.2"
  }
 },
 "nbformat": 4,
 "nbformat_minor": 2
}
